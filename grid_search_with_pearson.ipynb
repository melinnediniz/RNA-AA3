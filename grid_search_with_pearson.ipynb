{
 "cells": [
  {
   "cell_type": "markdown",
   "id": "a83c688f",
   "metadata": {},
   "source": [
    "# Testando os resultados da busca em grade com os 20 atributos selecionados com a correlação de Pearson"
   ]
  },
  {
   "cell_type": "code",
   "execution_count": 17,
   "id": "2c6c2bdc",
   "metadata": {},
   "outputs": [],
   "source": [
    "import pandas as pd\n",
    "import numpy as np\n",
    "from utilities.show_results import plot_confusion_matrix, get_accuracy, get_precision, f_score\n",
    "from sklearn.model_selection import train_test_split, cross_val_score, KFold\n",
    "from sklearn.neural_network import MLPClassifier\n",
    "from sklearn import metrics\n",
    "from sklearn.ensemble import GradientBoostingClassifier\n",
    "from sklearn.metrics import mean_squared_error\n",
    "from joblib import dump, load"
   ]
  },
  {
   "cell_type": "markdown",
   "id": "92dc71de",
   "metadata": {},
   "source": [
    "## Carregando os datasets\n",
    "\n",
    "Abrindo:\n",
    "1. Dataset contendo os resultados da busca em grade utilizando os 20 atributos (grid)\n",
    "2. Dataset contendo os 20 atributos preditores + o atributo alvo (data)"
   ]
  },
  {
   "cell_type": "code",
   "execution_count": 2,
   "id": "9fc4f53d",
   "metadata": {},
   "outputs": [],
   "source": [
    "grid = pd.read_csv('output/PCOS_20_attr.csv')\n",
    "data = pd.read_csv('data/PCOS_selected_pearson.csv')"
   ]
  },
  {
   "cell_type": "code",
   "execution_count": 3,
   "id": "df8de12f",
   "metadata": {},
   "outputs": [
    {
     "data": {
      "text/html": [
       "<div>\n",
       "<style scoped>\n",
       "    .dataframe tbody tr th:only-of-type {\n",
       "        vertical-align: middle;\n",
       "    }\n",
       "\n",
       "    .dataframe tbody tr th {\n",
       "        vertical-align: top;\n",
       "    }\n",
       "\n",
       "    .dataframe thead th {\n",
       "        text-align: right;\n",
       "    }\n",
       "</style>\n",
       "<table border=\"1\" class=\"dataframe\">\n",
       "  <thead>\n",
       "    <tr style=\"text-align: right;\">\n",
       "      <th></th>\n",
       "      <th>mean_fit_time</th>\n",
       "      <th>std_fit_time</th>\n",
       "      <th>mean_score_time</th>\n",
       "      <th>std_score_time</th>\n",
       "      <th>param_activation</th>\n",
       "      <th>param_batch_size</th>\n",
       "      <th>param_beta_1</th>\n",
       "      <th>param_beta_2</th>\n",
       "      <th>param_hidden_layer_sizes</th>\n",
       "      <th>param_max_iter</th>\n",
       "      <th>...</th>\n",
       "      <th>param_verbose</th>\n",
       "      <th>params</th>\n",
       "      <th>split0_test_score</th>\n",
       "      <th>split1_test_score</th>\n",
       "      <th>split2_test_score</th>\n",
       "      <th>split3_test_score</th>\n",
       "      <th>split4_test_score</th>\n",
       "      <th>mean_test_score</th>\n",
       "      <th>std_test_score</th>\n",
       "      <th>rank_test_score</th>\n",
       "    </tr>\n",
       "  </thead>\n",
       "  <tbody>\n",
       "    <tr>\n",
       "      <th>712</th>\n",
       "      <td>2.427769</td>\n",
       "      <td>0.014655</td>\n",
       "      <td>0.000570</td>\n",
       "      <td>0.000004</td>\n",
       "      <td>relu</td>\n",
       "      <td>16</td>\n",
       "      <td>0.8</td>\n",
       "      <td>0.95</td>\n",
       "      <td>(2, 11)</td>\n",
       "      <td>300</td>\n",
       "      <td>...</td>\n",
       "      <td>False</td>\n",
       "      <td>{'activation': 'relu', 'batch_size': 16, 'beta...</td>\n",
       "      <td>0.921053</td>\n",
       "      <td>0.906667</td>\n",
       "      <td>0.920000</td>\n",
       "      <td>0.880000</td>\n",
       "      <td>0.973333</td>\n",
       "      <td>0.920211</td>\n",
       "      <td>0.030408</td>\n",
       "      <td>1</td>\n",
       "    </tr>\n",
       "    <tr>\n",
       "      <th>420</th>\n",
       "      <td>2.289327</td>\n",
       "      <td>0.045890</td>\n",
       "      <td>0.000557</td>\n",
       "      <td>0.000046</td>\n",
       "      <td>relu</td>\n",
       "      <td>16</td>\n",
       "      <td>0.9</td>\n",
       "      <td>0.95</td>\n",
       "      <td>(4, 9)</td>\n",
       "      <td>300</td>\n",
       "      <td>...</td>\n",
       "      <td>False</td>\n",
       "      <td>{'activation': 'relu', 'batch_size': 16, 'beta...</td>\n",
       "      <td>0.921053</td>\n",
       "      <td>0.920000</td>\n",
       "      <td>0.906667</td>\n",
       "      <td>0.866667</td>\n",
       "      <td>0.973333</td>\n",
       "      <td>0.917544</td>\n",
       "      <td>0.034169</td>\n",
       "      <td>2</td>\n",
       "    </tr>\n",
       "  </tbody>\n",
       "</table>\n",
       "<p>2 rows × 22 columns</p>\n",
       "</div>"
      ],
      "text/plain": [
       "     mean_fit_time  std_fit_time  mean_score_time  std_score_time  \\\n",
       "712       2.427769      0.014655         0.000570        0.000004   \n",
       "420       2.289327      0.045890         0.000557        0.000046   \n",
       "\n",
       "    param_activation  param_batch_size  param_beta_1  param_beta_2  \\\n",
       "712             relu                16           0.8          0.95   \n",
       "420             relu                16           0.9          0.95   \n",
       "\n",
       "    param_hidden_layer_sizes  param_max_iter  ...  param_verbose  \\\n",
       "712                  (2, 11)             300  ...          False   \n",
       "420                   (4, 9)             300  ...          False   \n",
       "\n",
       "                                                params  split0_test_score  \\\n",
       "712  {'activation': 'relu', 'batch_size': 16, 'beta...           0.921053   \n",
       "420  {'activation': 'relu', 'batch_size': 16, 'beta...           0.921053   \n",
       "\n",
       "    split1_test_score  split2_test_score  split3_test_score  \\\n",
       "712          0.906667           0.920000           0.880000   \n",
       "420          0.920000           0.906667           0.866667   \n",
       "\n",
       "     split4_test_score  mean_test_score  std_test_score  rank_test_score  \n",
       "712           0.973333         0.920211        0.030408                1  \n",
       "420           0.973333         0.917544        0.034169                2  \n",
       "\n",
       "[2 rows x 22 columns]"
      ]
     },
     "execution_count": 3,
     "metadata": {},
     "output_type": "execute_result"
    }
   ],
   "source": [
    "grid.sort_values(by='rank_test_score', inplace=True)\n",
    "del grid[\"Unnamed: 0\"]\n",
    "grid.head(2)"
   ]
  },
  {
   "cell_type": "code",
   "execution_count": 4,
   "id": "e2e21f24",
   "metadata": {},
   "outputs": [
    {
     "data": {
      "text/html": [
       "<div>\n",
       "<style scoped>\n",
       "    .dataframe tbody tr th:only-of-type {\n",
       "        vertical-align: middle;\n",
       "    }\n",
       "\n",
       "    .dataframe tbody tr th {\n",
       "        vertical-align: top;\n",
       "    }\n",
       "\n",
       "    .dataframe thead th {\n",
       "        text-align: right;\n",
       "    }\n",
       "</style>\n",
       "<table border=\"1\" class=\"dataframe\">\n",
       "  <thead>\n",
       "    <tr style=\"text-align: right;\">\n",
       "      <th></th>\n",
       "      <th>Follicle No. (R)</th>\n",
       "      <th>Follicle No. (L)</th>\n",
       "      <th>Skin darkening (Y/N)</th>\n",
       "      <th>hair growth(Y/N)</th>\n",
       "      <th>Weight gain(Y/N)</th>\n",
       "      <th>Cycle(R/I)</th>\n",
       "      <th>Fast food (Y/N)</th>\n",
       "      <th>Pimples(Y/N)</th>\n",
       "      <th>AMH(ng/mL)</th>\n",
       "      <th>Weight (Kg)</th>\n",
       "      <th>...</th>\n",
       "      <th>Cycle length(days)</th>\n",
       "      <th>Hair loss(Y/N)</th>\n",
       "      <th>Age (yrs)</th>\n",
       "      <th>Waist(inch)</th>\n",
       "      <th>Hip(inch)</th>\n",
       "      <th>Avg. F size (L) (mm)</th>\n",
       "      <th>Marraige Status (Yrs)</th>\n",
       "      <th>Endometrium (mm)</th>\n",
       "      <th>Avg. F size (R) (mm)</th>\n",
       "      <th>PCOS (Y/N)</th>\n",
       "    </tr>\n",
       "  </thead>\n",
       "  <tbody>\n",
       "    <tr>\n",
       "      <th>0</th>\n",
       "      <td>3</td>\n",
       "      <td>3</td>\n",
       "      <td>0</td>\n",
       "      <td>0</td>\n",
       "      <td>0</td>\n",
       "      <td>2</td>\n",
       "      <td>1.0</td>\n",
       "      <td>0</td>\n",
       "      <td>2.07</td>\n",
       "      <td>44.6</td>\n",
       "      <td>...</td>\n",
       "      <td>5</td>\n",
       "      <td>0</td>\n",
       "      <td>28</td>\n",
       "      <td>30</td>\n",
       "      <td>36</td>\n",
       "      <td>18.0</td>\n",
       "      <td>7.0</td>\n",
       "      <td>8.5</td>\n",
       "      <td>18.0</td>\n",
       "      <td>0</td>\n",
       "    </tr>\n",
       "    <tr>\n",
       "      <th>1</th>\n",
       "      <td>5</td>\n",
       "      <td>3</td>\n",
       "      <td>0</td>\n",
       "      <td>0</td>\n",
       "      <td>0</td>\n",
       "      <td>2</td>\n",
       "      <td>0.0</td>\n",
       "      <td>0</td>\n",
       "      <td>1.53</td>\n",
       "      <td>65.0</td>\n",
       "      <td>...</td>\n",
       "      <td>5</td>\n",
       "      <td>0</td>\n",
       "      <td>36</td>\n",
       "      <td>32</td>\n",
       "      <td>38</td>\n",
       "      <td>15.0</td>\n",
       "      <td>11.0</td>\n",
       "      <td>3.7</td>\n",
       "      <td>14.0</td>\n",
       "      <td>0</td>\n",
       "    </tr>\n",
       "  </tbody>\n",
       "</table>\n",
       "<p>2 rows × 21 columns</p>\n",
       "</div>"
      ],
      "text/plain": [
       "   Follicle No. (R)  Follicle No. (L)  Skin darkening (Y/N)  hair growth(Y/N)  \\\n",
       "0                 3                 3                     0                 0   \n",
       "1                 5                 3                     0                 0   \n",
       "\n",
       "   Weight gain(Y/N)  Cycle(R/I)  Fast food (Y/N)  Pimples(Y/N)  AMH(ng/mL)  \\\n",
       "0                 0           2              1.0             0        2.07   \n",
       "1                 0           2              0.0             0        1.53   \n",
       "\n",
       "   Weight (Kg)  ...  Cycle length(days)  Hair loss(Y/N)   Age (yrs)  \\\n",
       "0         44.6  ...                   5               0          28   \n",
       "1         65.0  ...                   5               0          36   \n",
       "\n",
       "   Waist(inch)  Hip(inch)  Avg. F size (L) (mm)  Marraige Status (Yrs)  \\\n",
       "0           30         36                  18.0                    7.0   \n",
       "1           32         38                  15.0                   11.0   \n",
       "\n",
       "   Endometrium (mm)  Avg. F size (R) (mm)  PCOS (Y/N)  \n",
       "0               8.5                  18.0           0  \n",
       "1               3.7                  14.0           0  \n",
       "\n",
       "[2 rows x 21 columns]"
      ]
     },
     "execution_count": 4,
     "metadata": {},
     "output_type": "execute_result"
    }
   ],
   "source": [
    "data.head(2)"
   ]
  },
  {
   "cell_type": "markdown",
   "id": "42ceaeba",
   "metadata": {},
   "source": [
    "## Separando os atributos preditores do atributo alvo"
   ]
  },
  {
   "cell_type": "code",
   "execution_count": 5,
   "id": "98e26d0f",
   "metadata": {},
   "outputs": [],
   "source": [
    "X = data.drop(columns=['PCOS (Y/N)'], axis=1)\n",
    "y = data[\"PCOS (Y/N)\"]"
   ]
  },
  {
   "cell_type": "markdown",
   "id": "bb0ad692",
   "metadata": {},
   "source": [
    "## Separando o conjunto de teste e treino"
   ]
  },
  {
   "cell_type": "code",
   "execution_count": 6,
   "id": "af0187e1",
   "metadata": {},
   "outputs": [
    {
     "data": {
      "text/plain": [
       "((376, 20), (162, 20), 50, 112)"
      ]
     },
     "execution_count": 6,
     "metadata": {},
     "output_type": "execute_result"
    }
   ],
   "source": [
    "X_train, X_test, y_train, y_test = train_test_split(X, y,test_size=0.30)\n",
    "\n",
    "X_train.shape, X_test.shape, (y_test == 1).sum(), (y_test == 0).sum()"
   ]
  },
  {
   "cell_type": "code",
   "execution_count": 7,
   "id": "46be07a1",
   "metadata": {
    "scrolled": true
   },
   "outputs": [
    {
     "name": "stderr",
     "output_type": "stream",
     "text": [
      "C:\\Users\\Callidus\\anaconda3\\lib\\site-packages\\numpy\\core\\fromnumeric.py:84: FutureWarning: In a future version, DataFrame.min(axis=None) will return a scalar min over the entire DataFrame. To retain the old behavior, use 'frame.min(axis=0)' or just 'frame.min()'\n",
      "  return reduction(axis=axis, out=out, **passkwargs)\n",
      "C:\\Users\\Callidus\\anaconda3\\lib\\site-packages\\numpy\\core\\fromnumeric.py:84: FutureWarning: In a future version, DataFrame.max(axis=None) will return a scalar max over the entire DataFrame. To retain the old behavior, use 'frame.max(axis=0)' or just 'frame.max()'\n",
      "  return reduction(axis=axis, out=out, **passkwargs)\n"
     ]
    }
   ],
   "source": [
    "X_train_norm = (X_train - np.min(X_train))/(np.max(X_train) - np.min(X_train))\n",
    "\n",
    "X_test_norm = (X_test - np.min(X_train))/(np.max(X_train) - np.min(X_train))"
   ]
  },
  {
   "cell_type": "markdown",
   "id": "45d2417f",
   "metadata": {},
   "source": [
    "## Carregando e treinando os três melhores conjuntos de hipeparâmetros da busca em grade"
   ]
  },
  {
   "cell_type": "code",
   "execution_count": 8,
   "id": "d4122e9d",
   "metadata": {},
   "outputs": [
    {
     "data": {
      "text/plain": [
       "\"{'activation': 'relu', 'batch_size': 16, 'beta_1': 0.8, 'beta_2': 0.95, 'hidden_layer_sizes': (2, 11), 'max_iter': 300, 'n_iter_no_change': 25, 'solver': 'adam', 'verbose': False}\""
      ]
     },
     "execution_count": 8,
     "metadata": {},
     "output_type": "execute_result"
    }
   ],
   "source": [
    "grid[\"params\"].iloc[0]"
   ]
  },
  {
   "cell_type": "code",
   "execution_count": 9,
   "id": "673ceaf8",
   "metadata": {},
   "outputs": [
    {
     "name": "stdout",
     "output_type": "stream",
     "text": [
      "ACURÁCIA: 0.8704\n",
      "PRECISÃO: 0.8704\n"
     ]
    },
    {
     "data": {
      "image/png": "[encoded data removed]",
      "text/plain": [
       "<Figure size 400x400 with 1 Axes>"
      ]
     },
     "metadata": {},
     "output_type": "display_data"
    }
   ],
   "source": [
    "mlp_1 = MLPClassifier(\n",
    "    verbose= False,\n",
    "    max_iter=300, \n",
    "    activation='relu', \n",
    "    hidden_layer_sizes=(2,11),\n",
    "    batch_size=16,\n",
    "    beta_1=0.8,\n",
    "    beta_2=0.95,\n",
    "    solver='adam',\n",
    "    early_stopping=True,\n",
    "    n_iter_no_change=25\n",
    ")\n",
    "mlp_1.fit(X_train_norm.values, y_train)\n",
    "\n",
    "y_pred = mlp_1.predict(X_test_norm.values)\n",
    "get_accuracy(y_test, y_pred)\n",
    "get_precision(y_test, y_pred)\n",
    "plot_confusion_matrix(y_test, y_pred)"
   ]
  },
  {
   "cell_type": "code",
   "execution_count": 10,
   "id": "a20da351",
   "metadata": {},
   "outputs": [
    {
     "data": {
      "text/plain": [
       "\"{'activation': 'relu', 'batch_size': 16, 'beta_1': 0.9, 'beta_2': 0.95, 'hidden_layer_sizes': (4, 9), 'max_iter': 300, 'n_iter_no_change': 25, 'solver': 'adam', 'verbose': False}\""
      ]
     },
     "execution_count": 10,
     "metadata": {},
     "output_type": "execute_result"
    }
   ],
   "source": [
    "grid[\"params\"].iloc[1]"
   ]
  },
  {
   "cell_type": "code",
   "execution_count": 11,
   "id": "962687a3",
   "metadata": {},
   "outputs": [
    {
     "name": "stdout",
     "output_type": "stream",
     "text": [
      "ACURÁCIA: 0.8580\n",
      "PRECISÃO: 0.8580\n"
     ]
    },
    {
     "data": {
      "image/png": "[encoded data removed]",
      "text/plain": [
       "<Figure size 400x400 with 1 Axes>"
      ]
     },
     "metadata": {},
     "output_type": "display_data"
    }
   ],
   "source": [
    "mlp_2 = MLPClassifier(\n",
    "    verbose= False,\n",
    "    max_iter=300, \n",
    "    activation='relu', \n",
    "    hidden_layer_sizes=(4,9),\n",
    "    batch_size=16,\n",
    "    beta_1=0.9,\n",
    "    beta_2=0.95,\n",
    "    solver='adam',\n",
    "    early_stopping=True,\n",
    "    n_iter_no_change=25\n",
    ")\n",
    "mlp_2.fit(X_train_norm.values, y_train)\n",
    "\n",
    "y_pred = mlp_2.predict(X_test_norm.values)\n",
    "get_accuracy(y_test, y_pred)\n",
    "get_precision(y_test, y_pred)\n",
    "plot_confusion_matrix(y_test, y_pred)"
   ]
  },
  {
   "cell_type": "code",
   "execution_count": 12,
   "id": "6dbfff8b",
   "metadata": {},
   "outputs": [
    {
     "data": {
      "text/plain": [
       "\"{'activation': 'logistic', 'batch_size': 16, 'beta_1': 0.9, 'beta_2': 0.9, 'hidden_layer_sizes': (6, 14), 'max_iter': 500, 'n_iter_no_change': 25, 'solver': 'adam', 'verbose': False}\""
      ]
     },
     "execution_count": 12,
     "metadata": {},
     "output_type": "execute_result"
    }
   ],
   "source": [
    "grid[\"params\"].iloc[2]"
   ]
  },
  {
   "cell_type": "code",
   "execution_count": 13,
   "id": "2a35776e",
   "metadata": {},
   "outputs": [
    {
     "name": "stdout",
     "output_type": "stream",
     "text": [
      "ACURÁCIA: 0.8580\n",
      "PRECISÃO: 0.8580\n"
     ]
    },
    {
     "data": {
      "image/png": "[encoded data removed]",
      "text/plain": [
       "<Figure size 400x400 with 1 Axes>"
      ]
     },
     "metadata": {},
     "output_type": "display_data"
    }
   ],
   "source": [
    "mlp_3 = MLPClassifier(\n",
    "    verbose= False,\n",
    "    max_iter=500, \n",
    "    activation='relu', \n",
    "    hidden_layer_sizes=(6,14),\n",
    "    batch_size=16,\n",
    "    beta_1=0.9,\n",
    "    beta_2=0.9,\n",
    "    solver='adam',\n",
    "    early_stopping=True,\n",
    "    n_iter_no_change=25\n",
    ")\n",
    "mlp_3.fit(X_train_norm.values, y_train)\n",
    "\n",
    "y_pred = mlp_3.predict(X_test_norm.values)\n",
    "get_accuracy(y_test, y_pred)\n",
    "get_precision(y_test, y_pred)\n",
    "plot_confusion_matrix(y_test, y_pred)"
   ]
  },
  {
   "cell_type": "markdown",
   "id": "18fd3453",
   "metadata": {},
   "source": [
    "## Salvando a melhor MLP"
   ]
  },
  {
   "cell_type": "code",
   "execution_count": 15,
   "id": "1fe14c8e",
   "metadata": {},
   "outputs": [
    {
     "name": "stdout",
     "output_type": "stream",
     "text": [
      "ACURÁCIA: 0.9033\n",
      "PRECISÃO: 0.9033\n"
     ]
    },
    {
     "data": {
      "image/png": "[encoded data removed]",
      "text/plain": [
       "<Figure size 400x400 with 1 Axes>"
      ]
     },
     "metadata": {},
     "output_type": "display_data"
    }
   ],
   "source": [
    "clf = mlp_1.fit(X.values, y)\n",
    "\n",
    "y_pred = clf.predict(X.values)\n",
    "get_accuracy(y, y_pred)\n",
    "get_precision(y, y_pred)\n",
    "plot_confusion_matrix(y, y_pred)"
   ]
  },
  {
   "cell_type": "code",
   "execution_count": 19,
   "id": "f08f342f",
   "metadata": {},
   "outputs": [
    {
     "data": {
      "text/plain": [
       "['models/pcos-diagnosis-20-params.joblib']"
      ]
     },
     "execution_count": 19,
     "metadata": {},
     "output_type": "execute_result"
    }
   ],
   "source": [
    "dump(clf, 'models/pcos-diagnosis-20-params.joblib')"
   ]
  }
 ],
 "metadata": {
  "kernelspec": {
   "display_name": "Python 3 (ipykernel)",
   "language": "python",
   "name": "python3"
  },
  "language_info": {
   "codemirror_mode": {
    "name": "ipython",
    "version": 3
   },
   "file_extension": ".py",
   "mimetype": "text/x-python",
   "name": "python",
   "nbconvert_exporter": "python",
   "pygments_lexer": "ipython3",
   "version": "3.9.13"
  }
 },
 "nbformat": 4,
 "nbformat_minor": 5
}
