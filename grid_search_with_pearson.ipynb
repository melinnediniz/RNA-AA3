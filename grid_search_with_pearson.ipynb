{
 "cells": [
  {
   "cell_type": "markdown",
   "id": "a83c688f",
   "metadata": {},
   "source": [
    "# Testando os resultados das três buscas em grade com os 20 e 15 atributos selecionados utilizando a correlação de Pearson"
   ]
  },
  {
   "cell_type": "markdown",
   "id": "e71d5a62",
   "metadata": {},
   "source": [
    "**Busca em grade 1:**\n",
    "- Paciência: $25$ e $50$\n",
    "- batch_size: $16$ e $32$\n",
    "- $\\beta_1$: $1$, $0.9$, $0.8$ \n",
    "- $\\beta_2$: $0.999$, $0.95$, $0.9$\n",
    "- Épocas: $300$ e $500$\n",
    "- Função de ativação: $relu, sigmoide$\n",
    "- Quantidade de atributos considerados: $20$\n",
    "\n",
    "**Busca em grade 2:**\n",
    "- Paciência: $100$ e $50$\n",
    "- batch_size: $16$ e $32$\n",
    "- $\\beta_1$: $1$, $0.9$, $0.8$, $0.95$\n",
    "- $\\beta_2$: $0.999$, $0.95$, $0.9$\n",
    "- Épocas: $500$ e $700$\n",
    "- Função de ativação: $relu$\n",
    "- Quantidade de atributos considerados: $20$\n",
    "\n",
    "**Busca em grade 3:**\n",
    "- Paciência: $100$ e $50$\n",
    "- batch_size: $16$ e $32$\n",
    "- $\\beta_1$: $1$, $0.9$, $0.8$ , $0.95$\n",
    "- $\\beta_2$: $0.999$, $0.95$, $0.9$\n",
    "- Épocas: $500$ e $700$\n",
    "- Função de ativação: $relu$\n",
    "- Quantidade de atributos considerados: $15$\n",
    "\n",
    "***Obs:*** *Observamos que todos os resultados utilizando sigmoide apresentaram um desempenho extremamente baixo para prever quando o paciente realmente possui a síndrome dos ovários policístico. Por isso, nos resultados da busca em grade em que aparece \"logistic\", mudamos para \"relu\"*"
   ]
  },
  {
   "cell_type": "code",
   "execution_count": 1,
   "id": "2c6c2bdc",
   "metadata": {},
   "outputs": [],
   "source": [
    "import pandas as pd\n",
    "import numpy as np\n",
    "from utilities.show_results import plot_confusion_matrix, get_accuracy, get_precision\n",
    "from utilities.pearson_correlation import choose_with_pearson\n",
    "from sklearn.model_selection import train_test_split, cross_validate, KFold\n",
    "from sklearn.neural_network import MLPClassifier\n",
    "from sklearn import metrics\n",
    "from sklearn.ensemble import GradientBoostingClassifier\n",
    "from sklearn.metrics import mean_squared_error\n",
    "from joblib import dump, load"
   ]
  },
  {
   "cell_type": "markdown",
   "id": "92dc71de",
   "metadata": {},
   "source": [
    "## Carregando os datasets\n",
    "\n",
    "Abrindo:\n",
    "1. grid_1: Resultados da busca em grade utilizando os 20 atributos considerando a função de ativação sigmoide na busca\n",
    "2. grid_2: Resultados da busca em grade utilizando os 20 atributos sem considerar a função de ativação sigmoide na busca\n",
    "3. grid_3: Resultados da busca em grade utilizando 15 atributos sem considerar a função de ativação sigmoide na busca\n",
    "3. Dataset contendo os 20 atributos preditores + o atributo alvo (data)"
   ]
  },
  {
   "cell_type": "code",
   "execution_count": 2,
   "id": "9fc4f53d",
   "metadata": {},
   "outputs": [],
   "source": [
    "grid_1  = pd.read_csv('output/PCOS_20_attr.csv')\n",
    "grid_2 = pd.read_csv('output/PCOS_20_relu.csv')\n",
    "grid_3 = pd.read_csv('output/PCOS_15_attr.csv')\n",
    "data = pd.read_csv('data/PCOS_selected_pearson.csv')\n",
    "\n",
    "# grid_2.sort_values(by='rank_test_score', inplace=True)\n",
    "# grid_1.sort_values(by='rank_test_score', inplace=True)\n",
    "# grid_3.sort_values(by='rank_test_score', inplace=True)"
   ]
  },
  {
   "cell_type": "code",
   "execution_count": 3,
   "id": "e2e21f24",
   "metadata": {},
   "outputs": [
    {
     "data": {
      "text/html": [
       "<div>\n",
       "<style scoped>\n",
       "    .dataframe tbody tr th:only-of-type {\n",
       "        vertical-align: middle;\n",
       "    }\n",
       "\n",
       "    .dataframe tbody tr th {\n",
       "        vertical-align: top;\n",
       "    }\n",
       "\n",
       "    .dataframe thead th {\n",
       "        text-align: right;\n",
       "    }\n",
       "</style>\n",
       "<table border=\"1\" class=\"dataframe\">\n",
       "  <thead>\n",
       "    <tr style=\"text-align: right;\">\n",
       "      <th></th>\n",
       "      <th>Follicle No. (R)</th>\n",
       "      <th>Follicle No. (L)</th>\n",
       "      <th>Skin darkening (Y/N)</th>\n",
       "      <th>hair growth(Y/N)</th>\n",
       "      <th>Weight gain(Y/N)</th>\n",
       "      <th>Cycle(R/I)</th>\n",
       "      <th>Fast food (Y/N)</th>\n",
       "      <th>Pimples(Y/N)</th>\n",
       "      <th>AMH(ng/mL)</th>\n",
       "      <th>Weight (Kg)</th>\n",
       "      <th>...</th>\n",
       "      <th>Cycle length(days)</th>\n",
       "      <th>Hair loss(Y/N)</th>\n",
       "      <th>Age (yrs)</th>\n",
       "      <th>Waist(inch)</th>\n",
       "      <th>Hip(inch)</th>\n",
       "      <th>Avg. F size (L) (mm)</th>\n",
       "      <th>Marraige Status (Yrs)</th>\n",
       "      <th>Endometrium (mm)</th>\n",
       "      <th>Avg. F size (R) (mm)</th>\n",
       "      <th>PCOS (Y/N)</th>\n",
       "    </tr>\n",
       "  </thead>\n",
       "  <tbody>\n",
       "    <tr>\n",
       "      <th>0</th>\n",
       "      <td>3</td>\n",
       "      <td>3</td>\n",
       "      <td>0</td>\n",
       "      <td>0</td>\n",
       "      <td>0</td>\n",
       "      <td>2</td>\n",
       "      <td>1.0</td>\n",
       "      <td>0</td>\n",
       "      <td>2.07</td>\n",
       "      <td>44.6</td>\n",
       "      <td>...</td>\n",
       "      <td>5</td>\n",
       "      <td>0</td>\n",
       "      <td>28</td>\n",
       "      <td>30</td>\n",
       "      <td>36</td>\n",
       "      <td>18.0</td>\n",
       "      <td>7.0</td>\n",
       "      <td>8.5</td>\n",
       "      <td>18.0</td>\n",
       "      <td>0</td>\n",
       "    </tr>\n",
       "    <tr>\n",
       "      <th>1</th>\n",
       "      <td>5</td>\n",
       "      <td>3</td>\n",
       "      <td>0</td>\n",
       "      <td>0</td>\n",
       "      <td>0</td>\n",
       "      <td>2</td>\n",
       "      <td>0.0</td>\n",
       "      <td>0</td>\n",
       "      <td>1.53</td>\n",
       "      <td>65.0</td>\n",
       "      <td>...</td>\n",
       "      <td>5</td>\n",
       "      <td>0</td>\n",
       "      <td>36</td>\n",
       "      <td>32</td>\n",
       "      <td>38</td>\n",
       "      <td>15.0</td>\n",
       "      <td>11.0</td>\n",
       "      <td>3.7</td>\n",
       "      <td>14.0</td>\n",
       "      <td>0</td>\n",
       "    </tr>\n",
       "  </tbody>\n",
       "</table>\n",
       "<p>2 rows × 21 columns</p>\n",
       "</div>"
      ],
      "text/plain": [
       "   Follicle No. (R)  Follicle No. (L)  Skin darkening (Y/N)  hair growth(Y/N)  \\\n",
       "0                 3                 3                     0                 0   \n",
       "1                 5                 3                     0                 0   \n",
       "\n",
       "   Weight gain(Y/N)  Cycle(R/I)  Fast food (Y/N)  Pimples(Y/N)  AMH(ng/mL)  \\\n",
       "0                 0           2              1.0             0        2.07   \n",
       "1                 0           2              0.0             0        1.53   \n",
       "\n",
       "   Weight (Kg)  ...  Cycle length(days)  Hair loss(Y/N)   Age (yrs)  \\\n",
       "0         44.6  ...                   5               0          28   \n",
       "1         65.0  ...                   5               0          36   \n",
       "\n",
       "   Waist(inch)  Hip(inch)  Avg. F size (L) (mm)  Marraige Status (Yrs)  \\\n",
       "0           30         36                  18.0                    7.0   \n",
       "1           32         38                  15.0                   11.0   \n",
       "\n",
       "   Endometrium (mm)  Avg. F size (R) (mm)  PCOS (Y/N)  \n",
       "0               8.5                  18.0           0  \n",
       "1               3.7                  14.0           0  \n",
       "\n",
       "[2 rows x 21 columns]"
      ]
     },
     "execution_count": 3,
     "metadata": {},
     "output_type": "execute_result"
    }
   ],
   "source": [
    "data.head(2)"
   ]
  },
  {
   "cell_type": "markdown",
   "id": "42ceaeba",
   "metadata": {},
   "source": [
    "## 1. Separando os atributos preditores do atributo alvo"
   ]
  },
  {
   "cell_type": "code",
   "execution_count": 4,
   "id": "98e26d0f",
   "metadata": {},
   "outputs": [],
   "source": [
    "X = data.drop(columns=['PCOS (Y/N)'], axis=1)\n",
    "y = data[\"PCOS (Y/N)\"]"
   ]
  },
  {
   "cell_type": "markdown",
   "id": "bb0ad692",
   "metadata": {},
   "source": [
    "## 2. Separando o conjunto de teste e treino"
   ]
  },
  {
   "cell_type": "code",
   "execution_count": 5,
   "id": "af0187e1",
   "metadata": {},
   "outputs": [
    {
     "data": {
      "text/plain": [
       "((376, 20), (162, 20), 55, 107)"
      ]
     },
     "execution_count": 5,
     "metadata": {},
     "output_type": "execute_result"
    }
   ],
   "source": [
    "X_train, X_test, y_train, y_test = train_test_split(X, y,test_size=0.30, random_state=28)\n",
    "\n",
    "X_train.shape, X_test.shape, (y_test == 1).sum(), (y_test == 0).sum()"
   ]
  },
  {
   "cell_type": "code",
   "execution_count": 6,
   "id": "46be07a1",
   "metadata": {
    "scrolled": false
   },
   "outputs": [
    {
     "name": "stderr",
     "output_type": "stream",
     "text": [
      "C:\\Users\\Callidus\\anaconda3\\lib\\site-packages\\numpy\\core\\fromnumeric.py:84: FutureWarning: In a future version, DataFrame.min(axis=None) will return a scalar min over the entire DataFrame. To retain the old behavior, use 'frame.min(axis=0)' or just 'frame.min()'\n",
      "  return reduction(axis=axis, out=out, **passkwargs)\n",
      "C:\\Users\\Callidus\\anaconda3\\lib\\site-packages\\numpy\\core\\fromnumeric.py:84: FutureWarning: In a future version, DataFrame.max(axis=None) will return a scalar max over the entire DataFrame. To retain the old behavior, use 'frame.max(axis=0)' or just 'frame.max()'\n",
      "  return reduction(axis=axis, out=out, **passkwargs)\n"
     ]
    }
   ],
   "source": [
    "X_train_norm = (X_train - np.min(X_train))/(np.max(X_train) - np.min(X_train))\n",
    "\n",
    "X_test_norm = (X_test - np.min(X_train))/(np.max(X_train) - np.min(X_train))"
   ]
  },
  {
   "cell_type": "markdown",
   "id": "d3bd50f1",
   "metadata": {},
   "source": [
    "## 3. Busca em grade"
   ]
  },
  {
   "cell_type": "markdown",
   "id": "45d2417f",
   "metadata": {},
   "source": [
    "###  3.1 Carregando e treinando os três melhores conjuntos de hipeparâmetros da primeira busca em grade\n",
    "\n",
    "- Paciência: $25$ e $50$\n",
    "- batch_size: $16$ e $32$\n",
    "- $\\beta_1$: $1$, $0.9$, $0.8$ \n",
    "- $\\beta_2$: $0.999$, $0.95$, $0.9$\n",
    "- Épocas: $300$ e $500$\n",
    "- Função de ativação: $relu, sigmoide$\n",
    "- Quantidade de atributos considerados: $20$\n",
    "\n",
    "Mesmo resultando logistic, resolvemos utilizar \"relu\" no terceiro lugar"
   ]
  },
  {
   "cell_type": "code",
   "execution_count": 7,
   "id": "d4122e9d",
   "metadata": {},
   "outputs": [
    {
     "data": {
      "text/plain": [
       "\"{'activation': 'relu', 'batch_size': 16, 'beta_1': 0.8, 'beta_2': 0.95, 'hidden_layer_sizes': (2, 11), 'max_iter': 300, 'n_iter_no_change': 25, 'solver': 'adam', 'verbose': False}\""
      ]
     },
     "execution_count": 7,
     "metadata": {},
     "output_type": "execute_result"
    }
   ],
   "source": [
    "grid_1[\"params\"].iloc[0]"
   ]
  },
  {
   "cell_type": "code",
   "execution_count": 59,
   "id": "673ceaf8",
   "metadata": {},
   "outputs": [
    {
     "data": {
      "text/plain": [
       "MLPClassifier(batch_size=16, beta_1=0.8, beta_2=0.95, early_stopping=True,\n",
       "              hidden_layer_sizes=(2, 11), max_iter=300, n_iter_no_change=25)"
      ]
     },
     "execution_count": 59,
     "metadata": {},
     "output_type": "execute_result"
    }
   ],
   "source": [
    "mlp_1 = MLPClassifier(\n",
    "    verbose= False,\n",
    "    max_iter=300, \n",
    "    activation='relu', \n",
    "    hidden_layer_sizes=(2,11),\n",
    "    batch_size=16,\n",
    "    beta_1=0.8,\n",
    "    beta_2=0.95,\n",
    "    solver='adam',\n",
    "    early_stopping=True,\n",
    "    n_iter_no_change=25\n",
    ")\n",
    "mlp_1.fit(X_train_norm.values, y_train)"
   ]
  },
  {
   "cell_type": "code",
   "execution_count": 60,
   "id": "bc110a83",
   "metadata": {},
   "outputs": [
    {
     "name": "stdout",
     "output_type": "stream",
     "text": [
      "ACURÁCIA: 0.8889\n",
      "PRECISÃO: 0.8889\n"
     ]
    },
    {
     "data": {
      "image/png": "[encoded data removed]",
      "text/plain": [
       "<Figure size 400x400 with 2 Axes>"
      ]
     },
     "metadata": {},
     "output_type": "display_data"
    }
   ],
   "source": [
    "y_pred = mlp_1.predict(X_test_norm.values)\n",
    "get_accuracy(y_test, y_pred)\n",
    "get_precision(y_test, y_pred)\n",
    "plot_confusion_matrix(y_test, y_pred, True)"
   ]
  },
  {
   "cell_type": "code",
   "execution_count": 10,
   "id": "a20da351",
   "metadata": {},
   "outputs": [
    {
     "data": {
      "text/plain": [
       "\"{'activation': 'relu', 'batch_size': 16, 'beta_1': 0.9, 'beta_2': 0.95, 'hidden_layer_sizes': (4, 9), 'max_iter': 300, 'n_iter_no_change': 25, 'solver': 'adam', 'verbose': False}\""
      ]
     },
     "execution_count": 10,
     "metadata": {},
     "output_type": "execute_result"
    }
   ],
   "source": [
    "grid_1[\"params\"].iloc[1]"
   ]
  },
  {
   "cell_type": "code",
   "execution_count": 63,
   "id": "962687a3",
   "metadata": {},
   "outputs": [
    {
     "data": {
      "text/plain": [
       "MLPClassifier(batch_size=16, beta_2=0.95, early_stopping=True,\n",
       "              hidden_layer_sizes=(4, 9), max_iter=300, n_iter_no_change=25)"
      ]
     },
     "execution_count": 63,
     "metadata": {},
     "output_type": "execute_result"
    }
   ],
   "source": [
    "mlp_2 = MLPClassifier(\n",
    "    verbose= False,\n",
    "    max_iter=300, \n",
    "    activation='relu', \n",
    "    hidden_layer_sizes=(4,9),\n",
    "    batch_size=16,\n",
    "    beta_1=0.9,\n",
    "    beta_2=0.95,\n",
    "    solver='adam',\n",
    "    early_stopping=True,\n",
    "    n_iter_no_change=25\n",
    ")\n",
    "mlp_2.fit(X_train_norm.values, y_train)"
   ]
  },
  {
   "cell_type": "code",
   "execution_count": 64,
   "id": "6bf3ef13",
   "metadata": {},
   "outputs": [
    {
     "name": "stdout",
     "output_type": "stream",
     "text": [
      "ACURÁCIA: 0.8827\n",
      "PRECISÃO: 0.8827\n"
     ]
    },
    {
     "data": {
      "image/png": "[encoded data removed]",
      "text/plain": [
       "<Figure size 400x400 with 2 Axes>"
      ]
     },
     "metadata": {},
     "output_type": "display_data"
    }
   ],
   "source": [
    "y_pred = mlp_2.predict(X_test_norm.values)\n",
    "get_accuracy(y_test, y_pred)\n",
    "get_precision(y_test, y_pred)\n",
    "plot_confusion_matrix(y_test, y_pred, True)"
   ]
  },
  {
   "cell_type": "code",
   "execution_count": 13,
   "id": "6dbfff8b",
   "metadata": {},
   "outputs": [
    {
     "data": {
      "text/plain": [
       "\"{'activation': 'logistic', 'batch_size': 16, 'beta_1': 0.9, 'beta_2': 0.9, 'hidden_layer_sizes': (6, 14), 'max_iter': 500, 'n_iter_no_change': 25, 'solver': 'adam', 'verbose': False}\""
      ]
     },
     "execution_count": 13,
     "metadata": {},
     "output_type": "execute_result"
    }
   ],
   "source": [
    "grid_1[\"params\"].iloc[2]"
   ]
  },
  {
   "cell_type": "code",
   "execution_count": 73,
   "id": "2a35776e",
   "metadata": {
    "scrolled": false
   },
   "outputs": [
    {
     "data": {
      "text/plain": [
       "MLPClassifier(batch_size=16, beta_2=0.9, early_stopping=True,\n",
       "              hidden_layer_sizes=(6, 14), max_iter=500, n_iter_no_change=25)"
      ]
     },
     "execution_count": 73,
     "metadata": {},
     "output_type": "execute_result"
    }
   ],
   "source": [
    "mlp_3 = MLPClassifier(\n",
    "    verbose= False,\n",
    "    max_iter=500, \n",
    "    activation='relu', \n",
    "    hidden_layer_sizes=(6,14),\n",
    "    batch_size=16,\n",
    "    beta_1=0.9,\n",
    "    beta_2=0.9,\n",
    "    solver='adam',\n",
    "    early_stopping=True,\n",
    "    n_iter_no_change=25\n",
    ")\n",
    "mlp_3.fit(X_train_norm.values, y_train)"
   ]
  },
  {
   "cell_type": "code",
   "execution_count": 74,
   "id": "e68ae234",
   "metadata": {},
   "outputs": [
    {
     "name": "stdout",
     "output_type": "stream",
     "text": [
      "ACURÁCIA: 0.9012\n",
      "PRECISÃO: 0.9012\n"
     ]
    },
    {
     "data": {
      "image/png": "[encoded data removed]",
      "text/plain": [
       "<Figure size 400x400 with 2 Axes>"
      ]
     },
     "metadata": {},
     "output_type": "display_data"
    }
   ],
   "source": [
    "y_pred = mlp_3.predict(X_test_norm.values)\n",
    "get_accuracy(y_test, y_pred)\n",
    "get_precision(y_test, y_pred)\n",
    "plot_confusion_matrix(y_test, y_pred, True)"
   ]
  },
  {
   "cell_type": "markdown",
   "id": "f1061ccb",
   "metadata": {},
   "source": [
    "**Análise:** Comparando ilustrativamente, a mesma MLPClassifier tem um desempenho muito pior ao usar \"logistic\" (sigmoide) como função de ativação  \n",
    "\n"
   ]
  },
  {
   "cell_type": "markdown",
   "id": "a5b02228",
   "metadata": {},
   "source": [
    "###  3.2 Carregando e treinando os três melhores conjuntos de hipeparâmetros da segunda busca em grade\n",
    "\n",
    "A segunda busca em grade não considera \"logistic\" em sua lista de hiperparâmetros\n",
    "- Paciência: $100$ e $50$\n",
    "- batch_size: $16$ e $32$\n",
    "- $\\beta_1$: $1$, $0.9$, $0.8$, $0.95$\n",
    "- $\\beta_2$: $0.999$, $0.95$, $0.9$\n",
    "- Épocas: $500$ e $700$\n",
    "- Função de ativação: $relu$\n",
    "- Quantidade de atributos considerados: $20$"
   ]
  },
  {
   "cell_type": "code",
   "execution_count": 16,
   "id": "9c47ba58",
   "metadata": {},
   "outputs": [
    {
     "data": {
      "text/plain": [
       "\"{'activation': 'relu', 'batch_size': 32, 'beta_1': 0.9, 'beta_2': 0.9, 'hidden_layer_sizes': (5, 4), 'max_iter': 500, 'n_iter_no_change': 100, 'solver': 'adam', 'verbose': False}\""
      ]
     },
     "execution_count": 16,
     "metadata": {},
     "output_type": "execute_result"
    }
   ],
   "source": [
    "grid_2[\"params\"].iloc[0]"
   ]
  },
  {
   "cell_type": "code",
   "execution_count": 17,
   "id": "9301655a",
   "metadata": {},
   "outputs": [
    {
     "data": {
      "text/plain": [
       "MLPClassifier(batch_size=32, beta_2=0.9, early_stopping=True,\n",
       "              hidden_layer_sizes=(5, 4), max_iter=500, n_iter_no_change=100)"
      ]
     },
     "execution_count": 17,
     "metadata": {},
     "output_type": "execute_result"
    }
   ],
   "source": [
    "clf_1 = MLPClassifier(\n",
    "    verbose= False,\n",
    "    max_iter=500, \n",
    "    activation='relu', \n",
    "    hidden_layer_sizes=(5,4),\n",
    "    batch_size=32,\n",
    "    beta_1=0.9,\n",
    "    beta_2=0.9,\n",
    "    solver='adam',\n",
    "    early_stopping=True,\n",
    "    n_iter_no_change=100\n",
    ")\n",
    "clf_1.fit(X_train_norm.values, y_train)"
   ]
  },
  {
   "cell_type": "code",
   "execution_count": 18,
   "id": "1e7ed552",
   "metadata": {},
   "outputs": [
    {
     "name": "stdout",
     "output_type": "stream",
     "text": [
      "ACURÁCIA: 0.9198\n",
      "PRECISÃO: 0.9198\n"
     ]
    },
    {
     "data": {
      "image/png": "[encoded data removed]",
      "text/plain": [
       "<Figure size 400x400 with 2 Axes>"
      ]
     },
     "metadata": {},
     "output_type": "display_data"
    }
   ],
   "source": [
    "y_pred = clf_1.predict(X_test_norm.values)\n",
    "get_accuracy(y_test, y_pred)\n",
    "get_precision(y_test, y_pred)\n",
    "plot_confusion_matrix(y_test, y_pred, True)"
   ]
  },
  {
   "cell_type": "code",
   "execution_count": 19,
   "id": "06338570",
   "metadata": {},
   "outputs": [
    {
     "data": {
      "text/plain": [
       "\"{'activation': 'relu', 'batch_size': 32, 'beta_1': 0.9, 'beta_2': 0.9, 'hidden_layer_sizes': (6, 3), 'max_iter': 500, 'n_iter_no_change': 100, 'solver': 'adam', 'verbose': False}\""
      ]
     },
     "execution_count": 19,
     "metadata": {},
     "output_type": "execute_result"
    }
   ],
   "source": [
    "grid_2[\"params\"].iloc[1]"
   ]
  },
  {
   "cell_type": "code",
   "execution_count": 20,
   "id": "585ba078",
   "metadata": {},
   "outputs": [
    {
     "data": {
      "text/plain": [
       "MLPClassifier(batch_size=32, beta_2=0.9, early_stopping=True,\n",
       "              hidden_layer_sizes=(6, 3), max_iter=500, n_iter_no_change=100)"
      ]
     },
     "execution_count": 20,
     "metadata": {},
     "output_type": "execute_result"
    }
   ],
   "source": [
    "clf_2 = MLPClassifier(\n",
    "    verbose= False,\n",
    "    max_iter=500, \n",
    "    activation='relu', \n",
    "    hidden_layer_sizes=(6,3),\n",
    "    batch_size=32,\n",
    "    beta_1=0.9,\n",
    "    beta_2=0.9,\n",
    "    solver='adam',\n",
    "    early_stopping=True,\n",
    "    n_iter_no_change=100\n",
    ")\n",
    "clf_2.fit(X_train_norm.values, y_train)"
   ]
  },
  {
   "cell_type": "code",
   "execution_count": 21,
   "id": "cd67805a",
   "metadata": {},
   "outputs": [
    {
     "name": "stdout",
     "output_type": "stream",
     "text": [
      "ACURÁCIA: 0.8827\n",
      "PRECISÃO: 0.8827\n"
     ]
    },
    {
     "data": {
      "image/png": "[encoded data removed]",
      "text/plain": [
       "<Figure size 400x400 with 2 Axes>"
      ]
     },
     "metadata": {},
     "output_type": "display_data"
    }
   ],
   "source": [
    "y_pred = clf_2.predict(X_test_norm.values)\n",
    "get_accuracy(y_test, y_pred)\n",
    "get_precision(y_test, y_pred)\n",
    "plot_confusion_matrix(y_test, y_pred, True)"
   ]
  },
  {
   "cell_type": "code",
   "execution_count": 22,
   "id": "b2bc438e",
   "metadata": {},
   "outputs": [
    {
     "data": {
      "text/plain": [
       "\"{'activation': 'relu', 'batch_size': 32, 'beta_1': 0.95, 'beta_2': 0.95, 'hidden_layer_sizes': (2, 12), 'max_iter': 500, 'n_iter_no_change': 100, 'solver': 'adam', 'verbose': False}\""
      ]
     },
     "execution_count": 22,
     "metadata": {},
     "output_type": "execute_result"
    }
   ],
   "source": [
    "grid_2[\"params\"].iloc[2]"
   ]
  },
  {
   "cell_type": "code",
   "execution_count": 23,
   "id": "51952334",
   "metadata": {
    "scrolled": false
   },
   "outputs": [
    {
     "data": {
      "text/plain": [
       "MLPClassifier(batch_size=32, beta_1=0.95, beta_2=0.95, early_stopping=True,\n",
       "              hidden_layer_sizes=(2, 12), max_iter=500, n_iter_no_change=100)"
      ]
     },
     "execution_count": 23,
     "metadata": {},
     "output_type": "execute_result"
    }
   ],
   "source": [
    "clf_3 = MLPClassifier(\n",
    "    verbose= False,\n",
    "    max_iter=500, \n",
    "    activation='relu', \n",
    "    hidden_layer_sizes=(2, 12),\n",
    "    batch_size=32,\n",
    "    beta_1=0.95,\n",
    "    beta_2=0.95,\n",
    "    solver='adam',\n",
    "    early_stopping=True,\n",
    "    n_iter_no_change=100\n",
    ")\n",
    "clf_3.fit(X_train_norm.values, y_train)"
   ]
  },
  {
   "cell_type": "code",
   "execution_count": 24,
   "id": "c24f00e2",
   "metadata": {},
   "outputs": [
    {
     "name": "stdout",
     "output_type": "stream",
     "text": [
      "ACURÁCIA: 0.9259\n",
      "PRECISÃO: 0.9259\n"
     ]
    },
    {
     "data": {
      "image/png": "[encoded data removed]",
      "text/plain": [
       "<Figure size 400x400 with 2 Axes>"
      ]
     },
     "metadata": {},
     "output_type": "display_data"
    }
   ],
   "source": [
    "y_pred = clf_3.predict(X_test_norm.values)\n",
    "get_accuracy(y_test, y_pred)\n",
    "get_precision(y_test, y_pred)\n",
    "plot_confusion_matrix(y_test, y_pred, True)"
   ]
  },
  {
   "cell_type": "markdown",
   "id": "df00b764",
   "metadata": {},
   "source": [
    "### 3.3 Carregando e treinando os três melhores conjuntos de hipeparâmetros da terceira busca em grade\n",
    "\n",
    "A terceira busca em grade não considera \"logistic\" em sua lista de hiperparâmetros e utiliza somente 15 atributos\n",
    "- Paciência: $100$ e $50$\n",
    "- batch_size: $16$ e $32$\n",
    "- $\\beta_1$: $1$, $0.9$, $0.8$ , $0.95$\n",
    "- $\\beta_2$: $0.999$, $0.95$, $0.9$\n",
    "- Épocas: $500$ e $700$\n",
    "- Função de ativação: $relu$\n",
    "- Quantidade de atributos considerados: $15$"
   ]
  },
  {
   "cell_type": "code",
   "execution_count": 25,
   "id": "5c8c3704",
   "metadata": {},
   "outputs": [],
   "source": [
    "X_train_2 = X_train_norm.iloc[:, :15]\n",
    "X_test_2 = X_test_norm.iloc[:, :15]"
   ]
  },
  {
   "cell_type": "code",
   "execution_count": 26,
   "id": "073fbf4c",
   "metadata": {},
   "outputs": [
    {
     "data": {
      "text/plain": [
       "\"{'activation': 'relu', 'batch_size': 32, 'beta_1': 0.95, 'beta_2': 0.95, 'hidden_layer_sizes': (3, 5), 'max_iter': 700, 'n_iter_no_change': 100, 'solver': 'adam', 'verbose': False}\""
      ]
     },
     "execution_count": 26,
     "metadata": {},
     "output_type": "execute_result"
    }
   ],
   "source": [
    "grid_3[\"params\"].iloc[0]"
   ]
  },
  {
   "cell_type": "code",
   "execution_count": 27,
   "id": "4ebec7fa",
   "metadata": {},
   "outputs": [
    {
     "data": {
      "text/plain": [
       "MLPClassifier(batch_size=32, beta_1=0.95, beta_2=0.95, early_stopping=True,\n",
       "              hidden_layer_sizes=(3, 5), max_iter=700, n_iter_no_change=100)"
      ]
     },
     "execution_count": 27,
     "metadata": {},
     "output_type": "execute_result"
    }
   ],
   "source": [
    "mlp_clf_1 = MLPClassifier(\n",
    "    verbose= False,\n",
    "    max_iter=700, \n",
    "    activation='relu', \n",
    "    hidden_layer_sizes=(3,5),\n",
    "    batch_size=32,\n",
    "    beta_1=0.95,\n",
    "    beta_2=0.95,\n",
    "    solver='adam',\n",
    "    early_stopping=True,\n",
    "    n_iter_no_change=100\n",
    ")\n",
    "mlp_clf_1.fit(X_train_2.values, y_train)"
   ]
  },
  {
   "cell_type": "code",
   "execution_count": 28,
   "id": "22ce829d",
   "metadata": {},
   "outputs": [
    {
     "name": "stdout",
     "output_type": "stream",
     "text": [
      "ACURÁCIA: 0.8889\n",
      "PRECISÃO: 0.8889\n"
     ]
    },
    {
     "data": {
      "image/png": "[encoded data removed]",
      "text/plain": [
       "<Figure size 400x400 with 2 Axes>"
      ]
     },
     "metadata": {},
     "output_type": "display_data"
    }
   ],
   "source": [
    "y_pred = mlp_clf_1.predict(X_test_2.values)\n",
    "get_accuracy(y_test, y_pred)\n",
    "get_precision(y_test, y_pred)\n",
    "plot_confusion_matrix(y_test, y_pred, True)"
   ]
  },
  {
   "cell_type": "code",
   "execution_count": 29,
   "id": "f7d4ff75",
   "metadata": {},
   "outputs": [
    {
     "data": {
      "text/plain": [
       "\"{'activation': 'relu', 'batch_size': 16, 'beta_1': 0.8, 'beta_2': 0.95, 'hidden_layer_sizes': (4, 8), 'max_iter': 500, 'n_iter_no_change': 50, 'solver': 'adam', 'verbose': False}\""
      ]
     },
     "execution_count": 29,
     "metadata": {},
     "output_type": "execute_result"
    }
   ],
   "source": [
    "grid_3[\"params\"].iloc[1]"
   ]
  },
  {
   "cell_type": "code",
   "execution_count": 30,
   "id": "57a8c42b",
   "metadata": {},
   "outputs": [
    {
     "data": {
      "text/plain": [
       "MLPClassifier(batch_size=16, beta_1=0.8, beta_2=0.95, early_stopping=True,\n",
       "              hidden_layer_sizes=(4, 8), max_iter=500, n_iter_no_change=50)"
      ]
     },
     "execution_count": 30,
     "metadata": {},
     "output_type": "execute_result"
    }
   ],
   "source": [
    "mlp_clf_2 = MLPClassifier(\n",
    "    verbose= False,\n",
    "    max_iter=500, \n",
    "    activation='relu', \n",
    "    hidden_layer_sizes=(4,8),\n",
    "    batch_size=16,\n",
    "    beta_1=0.8,\n",
    "    beta_2=0.95,\n",
    "    solver='adam',\n",
    "    early_stopping=True,\n",
    "    n_iter_no_change=50\n",
    ")\n",
    "mlp_clf_2.fit(X_train_2.values, y_train)"
   ]
  },
  {
   "cell_type": "code",
   "execution_count": 31,
   "id": "84fa5826",
   "metadata": {},
   "outputs": [
    {
     "name": "stdout",
     "output_type": "stream",
     "text": [
      "ACURÁCIA: 0.8272\n",
      "PRECISÃO: 0.8272\n"
     ]
    },
    {
     "data": {
      "image/png": "[encoded data removed]",
      "text/plain": [
       "<Figure size 400x400 with 2 Axes>"
      ]
     },
     "metadata": {},
     "output_type": "display_data"
    }
   ],
   "source": [
    "y_pred = mlp_clf_2.predict(X_test_2.values)\n",
    "get_accuracy(y_test, y_pred)\n",
    "get_precision(y_test, y_pred)\n",
    "plot_confusion_matrix(y_test, y_pred, True)"
   ]
  },
  {
   "cell_type": "code",
   "execution_count": 32,
   "id": "2c7b9461",
   "metadata": {},
   "outputs": [
    {
     "data": {
      "text/plain": [
       "\"{'activation': 'relu', 'batch_size': 32, 'beta_1': 0.8, 'beta_2': 0.999, 'hidden_layer_sizes': (2, 10), 'max_iter': 500, 'n_iter_no_change': 50, 'solver': 'adam', 'verbose': False}\""
      ]
     },
     "execution_count": 32,
     "metadata": {},
     "output_type": "execute_result"
    }
   ],
   "source": [
    "grid_3[\"params\"].iloc[2]"
   ]
  },
  {
   "cell_type": "code",
   "execution_count": 33,
   "id": "24b6cad4",
   "metadata": {},
   "outputs": [
    {
     "data": {
      "text/plain": [
       "MLPClassifier(batch_size=32, beta_1=0.8, early_stopping=True,\n",
       "              hidden_layer_sizes=(2, 10), max_iter=500, n_iter_no_change=50)"
      ]
     },
     "execution_count": 33,
     "metadata": {},
     "output_type": "execute_result"
    }
   ],
   "source": [
    "mlp_clf_3 = MLPClassifier(\n",
    "    verbose= False,\n",
    "    max_iter=500, \n",
    "    activation='relu', \n",
    "    hidden_layer_sizes=(2,10),\n",
    "    batch_size=32,\n",
    "    beta_1=0.8,\n",
    "    beta_2=0.999,\n",
    "    solver='adam',\n",
    "    early_stopping=True,\n",
    "    n_iter_no_change=50\n",
    ")\n",
    "mlp_clf_3.fit(X_train_2.values, y_train)"
   ]
  },
  {
   "cell_type": "code",
   "execution_count": 34,
   "id": "4abe81bb",
   "metadata": {},
   "outputs": [
    {
     "name": "stdout",
     "output_type": "stream",
     "text": [
      "ACURÁCIA: 0.8765\n",
      "PRECISÃO: 0.8765\n"
     ]
    },
    {
     "data": {
      "image/png": "[encoded data removed]",
      "text/plain": [
       "<Figure size 400x400 with 2 Axes>"
      ]
     },
     "metadata": {},
     "output_type": "display_data"
    }
   ],
   "source": [
    "y_pred = mlp_clf_3.predict(X_test_2.values)\n",
    "get_accuracy(y_test, y_pred)\n",
    "get_precision(y_test, y_pred)\n",
    "plot_confusion_matrix(y_test, y_pred, True)"
   ]
  },
  {
   "cell_type": "markdown",
   "id": "18fd3453",
   "metadata": {},
   "source": [
    "## 4. Validação cruzada"
   ]
  },
  {
   "cell_type": "markdown",
   "id": "34f41175",
   "metadata": {},
   "source": [
    "### 4.1 Validação cruzada da melhor MLP com 20 atributos preditores"
   ]
  },
  {
   "cell_type": "code",
   "execution_count": 52,
   "id": "4bc4447a",
   "metadata": {},
   "outputs": [],
   "source": [
    "kf = KFold(n_splits=10, shuffle=True)\n",
    "\n",
    "best_mlp = clf_1\n",
    "best_mlp.fit(X_train_norm.values, y_train)\n",
    "y_pred_best = best_mlp.predict(X_test_norm.values)"
   ]
  },
  {
   "cell_type": "code",
   "execution_count": 53,
   "id": "e3caf59b",
   "metadata": {},
   "outputs": [],
   "source": [
    "result  = cross_validate(best_mlp, X.values, y, cv = kf, scoring=['accuracy', 'precision_micro', 'recall_micro'])"
   ]
  },
  {
   "cell_type": "code",
   "execution_count": 54,
   "id": "dbe14f23",
   "metadata": {},
   "outputs": [
    {
     "data": {
      "text/plain": [
       "(array([0.88888889, 0.87037037, 0.68518519, 0.88888889, 0.92592593,\n",
       "        0.92592593, 0.88888889, 0.90740741, 0.86792453, 0.9245283 ]),\n",
       " array([0.88888889, 0.87037037, 0.68518519, 0.88888889, 0.92592593,\n",
       "        0.92592593, 0.88888889, 0.90740741, 0.86792453, 0.9245283 ]))"
      ]
     },
     "execution_count": 54,
     "metadata": {},
     "output_type": "execute_result"
    }
   ],
   "source": [
    "acc = result['test_accuracy'].mean()\n",
    "prec = result['test_precision_micro'].mean()\n",
    "rec = result['test_recall_micro'].mean()\n",
    "result[\"test_accuracy\"], result[\"test_precision_micro\"]"
   ]
  },
  {
   "cell_type": "code",
   "execution_count": 55,
   "id": "7e5a7d2e",
   "metadata": {},
   "outputs": [
    {
     "name": "stdout",
     "output_type": "stream",
     "text": [
      "----- K-FOLD SCORE --------\n",
      "Acurácia: 0.8774\n",
      "Precisão: 0.8774\n",
      "\n",
      "---- MELHOR RNA MLP -----\n",
      "ACURÁCIA: 0.9198\n",
      "PRECISÃO: 0.9198\n"
     ]
    },
    {
     "data": {
      "text/plain": [
       "0.9197530864197531"
      ]
     },
     "execution_count": 55,
     "metadata": {},
     "output_type": "execute_result"
    }
   ],
   "source": [
    "print(\"----- K-FOLD SCORE --------\")\n",
    "print(f\"Acurácia: {acc:.4f}\")\n",
    "print(f\"Precisão: {prec:.4f}\")\n",
    "print()\n",
    "print(\"---- MELHOR RNA MLP -----\")\n",
    "get_accuracy(y_test, y_pred_best)\n",
    "get_precision(y_test, y_pred_best)"
   ]
  },
  {
   "cell_type": "markdown",
   "id": "ba316309",
   "metadata": {},
   "source": [
    "**Análise:** A melhor MLP se mostrou estável mesmo treinando com outras partes do dataset"
   ]
  },
  {
   "cell_type": "markdown",
   "id": "7c3544d0",
   "metadata": {},
   "source": [
    "### 4.2 Validação cruzada da melhor MLP com 15 atributos preditores"
   ]
  },
  {
   "cell_type": "code",
   "execution_count": 39,
   "id": "dcf682c7",
   "metadata": {},
   "outputs": [],
   "source": [
    "best_mlp = mlp_clf_2\n",
    "best_mlp.fit(X_train_norm.values, y_train)\n",
    "y_pred_best = best_mlp.predict(X_test_norm.values)"
   ]
  },
  {
   "cell_type": "code",
   "execution_count": 40,
   "id": "b52ce3a4",
   "metadata": {},
   "outputs": [
    {
     "data": {
      "text/plain": [
       "(array([0.92592593, 0.83333333, 0.92592593, 0.83333333, 0.92592593,\n",
       "        0.90740741, 0.81481481, 0.88888889, 0.94339623, 0.83018868]),\n",
       " array([0.92592593, 0.83333333, 0.92592593, 0.83333333, 0.92592593,\n",
       "        0.90740741, 0.81481481, 0.88888889, 0.94339623, 0.83018868]))"
      ]
     },
     "execution_count": 40,
     "metadata": {},
     "output_type": "execute_result"
    }
   ],
   "source": [
    "result  = cross_validate(mlp_clf_1, X.iloc[:, :15].values, y, cv = kf, scoring=['accuracy', 'precision_micro', 'recall_micro'])\n",
    "acc = result['test_accuracy'].mean()\n",
    "prec = result['test_precision_micro'].mean()\n",
    "rec = result['test_recall_micro'].mean()\n",
    "result[\"test_accuracy\"], result[\"test_precision_micro\"]"
   ]
  },
  {
   "cell_type": "code",
   "execution_count": 41,
   "id": "2f59b2c4",
   "metadata": {},
   "outputs": [
    {
     "name": "stdout",
     "output_type": "stream",
     "text": [
      "----- K-FOLD SCORE --------\n",
      "Acurácia: 0.8829\n",
      "Precisão: 0.8829\n",
      "\n",
      "---- MELHOR RNA MLP -----\n",
      "ACURÁCIA: 0.9012\n",
      "PRECISÃO: 0.9012\n"
     ]
    },
    {
     "data": {
      "text/plain": [
       "0.9012345679012346"
      ]
     },
     "execution_count": 41,
     "metadata": {},
     "output_type": "execute_result"
    }
   ],
   "source": [
    "print(\"----- K-FOLD SCORE --------\")\n",
    "print(f\"Acurácia: {acc:.4f}\")\n",
    "print(f\"Precisão: {prec:.4f}\")\n",
    "print()\n",
    "print(\"---- MELHOR RNA MLP -----\")\n",
    "get_accuracy(y_test, y_pred_best)\n",
    "get_precision(y_test, y_pred_best)"
   ]
  },
  {
   "cell_type": "markdown",
   "id": "3aca0c5c",
   "metadata": {},
   "source": [
    "## 5. Salvando a melhor MLP com 20 atributos preditores"
   ]
  },
  {
   "cell_type": "code",
   "execution_count": 56,
   "id": "3579d2bf",
   "metadata": {},
   "outputs": [],
   "source": [
    "best_mlp = clf_3"
   ]
  },
  {
   "cell_type": "code",
   "execution_count": 57,
   "id": "1fe14c8e",
   "metadata": {},
   "outputs": [
    {
     "name": "stdout",
     "output_type": "stream",
     "text": [
      "ACURÁCIA: 0.9164\n",
      "PRECISÃO: 0.9164\n"
     ]
    },
    {
     "data": {
      "image/png": "[encoded data removed]",
      "text/plain": [
       "<Figure size 400x400 with 2 Axes>"
      ]
     },
     "metadata": {},
     "output_type": "display_data"
    }
   ],
   "source": [
    "clf = best_mlp.fit(X.values, y)\n",
    "\n",
    "y_pred = clf.predict(X.values)\n",
    "get_accuracy(y, y_pred)\n",
    "get_precision(y, y_pred)\n",
    "plot_confusion_matrix(y, y_pred, True)"
   ]
  },
  {
   "cell_type": "code",
   "execution_count": 44,
   "id": "f08f342f",
   "metadata": {},
   "outputs": [
    {
     "data": {
      "text/plain": [
       "['models/pcos-diagnosis-20-params.joblib']"
      ]
     },
     "execution_count": 44,
     "metadata": {},
     "output_type": "execute_result"
    }
   ],
   "source": [
    "#dump(clf, 'models/pcos-diagnosis-20-params.joblib')"
   ]
  },
  {
   "cell_type": "markdown",
   "id": "10247de9",
   "metadata": {},
   "source": [
    "## 6. Salvando a melhor MLP com 15 atributos preditores"
   ]
  },
  {
   "cell_type": "code",
   "execution_count": 45,
   "id": "13781014",
   "metadata": {},
   "outputs": [
    {
     "name": "stdout",
     "output_type": "stream",
     "text": [
      "ACURÁCIA: 0.8848\n",
      "PRECISÃO: 0.8848\n"
     ]
    },
    {
     "data": {
      "image/png": "[encoded data removed]",
      "text/plain": [
       "<Figure size 400x400 with 2 Axes>"
      ]
     },
     "metadata": {},
     "output_type": "display_data"
    }
   ],
   "source": [
    "clf_2 = mlp_clf_2.fit(X.iloc[:, :15].values, y)\n",
    "\n",
    "y_pred = clf_2.predict(X.iloc[:, :15].values)\n",
    "get_accuracy(y, y_pred)\n",
    "get_precision(y, y_pred)\n",
    "plot_confusion_matrix(y, y_pred, True)"
   ]
  },
  {
   "cell_type": "code",
   "execution_count": 46,
   "id": "1d532275",
   "metadata": {},
   "outputs": [],
   "source": [
    "#dump(clf_2, 'models/pcos-diagnosis-15-params.joblib')"
   ]
  }
 ],
 "metadata": {
  "kernelspec": {
   "display_name": "Python 3 (ipykernel)",
   "language": "python",
   "name": "python3"
  },
  "language_info": {
   "codemirror_mode": {
    "name": "ipython",
    "version": 3
   },
   "file_extension": ".py",
   "mimetype": "text/x-python",
   "name": "python",
   "nbconvert_exporter": "python",
   "pygments_lexer": "ipython3",
   "version": "3.9.13"
  }
 },
 "nbformat": 4,
 "nbformat_minor": 5
}
