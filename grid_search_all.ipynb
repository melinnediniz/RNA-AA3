{
 "cells": [
  {
   "cell_type": "markdown",
   "id": "63385577",
   "metadata": {},
   "source": [
    "# Resultados da busca em grade utilizando todos os parâmetros do dataset\n",
    "\n",
    "**Busca em grade**\n",
    "- Paciência: $25$ e $50$\n",
    "- batch_size: $16$ e $32$\n",
    "- $\\beta_1$: $1$, $0.9$, $0.8$ \n",
    "- $\\beta_2$: $0.999$, $0.95$, $0.9$\n",
    "- Épocas: $300$ e $500$\n",
    "- Função de ativação: $relu, sigmoide$\n",
    "\n",
    "***Obs:*** *Observamos que todos os resultados utilizando sigmoide apresentaram um desempenho extremamente baixo para prever quando o paciente realmente possui a síndrome dos ovários policístico. Por isso, nos resultados da busca em grade em que aparece \"logistic\", mudamos para \"relu\"*"
   ]
  },
  {
   "cell_type": "code",
   "execution_count": 1,
   "id": "4012ed22",
   "metadata": {},
   "outputs": [],
   "source": [
    "import pandas as pd\n",
    "import numpy as np\n",
    "from utilities.show_results import plot_confusion_matrix, get_accuracy, get_precision, f_score\n",
    "from sklearn.model_selection import train_test_split, cross_val_score, KFold\n",
    "from sklearn.neural_network import MLPClassifier\n",
    "from sklearn import metrics\n",
    "from sklearn.ensemble import GradientBoostingClassifier\n",
    "from sklearn.metrics import mean_squared_error\n",
    "from joblib import dump, load"
   ]
  },
  {
   "cell_type": "markdown",
   "id": "634ebed2",
   "metadata": {},
   "source": [
    "## Carregando os datasets\n",
    "Abrindo:\n",
    "1. Dataset contendo os resultados da busca em grade utilizando todos os atributos (grid)\n",
    "2. Dataset contendo todos os atributos (42 no total)"
   ]
  },
  {
   "cell_type": "code",
   "execution_count": 2,
   "id": "63fd3886",
   "metadata": {},
   "outputs": [],
   "source": [
    "grid = pd.read_csv('output/PCOS_45_attr.csv')\n",
    "data = pd.read_csv('PCOS.csv')"
   ]
  },
  {
   "cell_type": "code",
   "execution_count": 3,
   "id": "68289ad8",
   "metadata": {},
   "outputs": [],
   "source": [
    "grid.sort_values(by='rank_test_score', inplace=True)"
   ]
  },
  {
   "cell_type": "code",
   "execution_count": 4,
   "id": "998206bf",
   "metadata": {},
   "outputs": [
    {
     "data": {
      "text/html": [
       "<div>\n",
       "<style scoped>\n",
       "    .dataframe tbody tr th:only-of-type {\n",
       "        vertical-align: middle;\n",
       "    }\n",
       "\n",
       "    .dataframe tbody tr th {\n",
       "        vertical-align: top;\n",
       "    }\n",
       "\n",
       "    .dataframe thead th {\n",
       "        text-align: right;\n",
       "    }\n",
       "</style>\n",
       "<table border=\"1\" class=\"dataframe\">\n",
       "  <thead>\n",
       "    <tr style=\"text-align: right;\">\n",
       "      <th></th>\n",
       "      <th>Unnamed: 0</th>\n",
       "      <th>mean_fit_time</th>\n",
       "      <th>std_fit_time</th>\n",
       "      <th>mean_score_time</th>\n",
       "      <th>std_score_time</th>\n",
       "      <th>param_activation</th>\n",
       "      <th>param_batch_size</th>\n",
       "      <th>param_beta_1</th>\n",
       "      <th>param_beta_2</th>\n",
       "      <th>param_hidden_layer_sizes</th>\n",
       "      <th>...</th>\n",
       "      <th>param_verbose</th>\n",
       "      <th>params</th>\n",
       "      <th>split0_test_score</th>\n",
       "      <th>split1_test_score</th>\n",
       "      <th>split2_test_score</th>\n",
       "      <th>split3_test_score</th>\n",
       "      <th>split4_test_score</th>\n",
       "      <th>mean_test_score</th>\n",
       "      <th>std_test_score</th>\n",
       "      <th>rank_test_score</th>\n",
       "    </tr>\n",
       "  </thead>\n",
       "  <tbody>\n",
       "    <tr>\n",
       "      <th>2830</th>\n",
       "      <td>2830</td>\n",
       "      <td>3.715950</td>\n",
       "      <td>0.006767</td>\n",
       "      <td>0.000912</td>\n",
       "      <td>0.000011</td>\n",
       "      <td>logistic</td>\n",
       "      <td>16</td>\n",
       "      <td>0.9</td>\n",
       "      <td>0.9</td>\n",
       "      <td>(4, 16)</td>\n",
       "      <td>...</td>\n",
       "      <td>False</td>\n",
       "      <td>{'activation': 'logistic', 'batch_size': 16, '...</td>\n",
       "      <td>0.921053</td>\n",
       "      <td>0.92</td>\n",
       "      <td>0.946667</td>\n",
       "      <td>0.96</td>\n",
       "      <td>0.893333</td>\n",
       "      <td>0.928211</td>\n",
       "      <td>0.023179</td>\n",
       "      <td>1</td>\n",
       "    </tr>\n",
       "    <tr>\n",
       "      <th>3200</th>\n",
       "      <td>3200</td>\n",
       "      <td>2.281947</td>\n",
       "      <td>0.022440</td>\n",
       "      <td>0.000944</td>\n",
       "      <td>0.000016</td>\n",
       "      <td>logistic</td>\n",
       "      <td>16</td>\n",
       "      <td>0.8</td>\n",
       "      <td>0.9</td>\n",
       "      <td>(7, 13)</td>\n",
       "      <td>...</td>\n",
       "      <td>False</td>\n",
       "      <td>{'activation': 'logistic', 'batch_size': 16, '...</td>\n",
       "      <td>0.907895</td>\n",
       "      <td>0.92</td>\n",
       "      <td>0.933333</td>\n",
       "      <td>0.96</td>\n",
       "      <td>0.906667</td>\n",
       "      <td>0.925579</td>\n",
       "      <td>0.019731</td>\n",
       "      <td>2</td>\n",
       "    </tr>\n",
       "  </tbody>\n",
       "</table>\n",
       "<p>2 rows × 23 columns</p>\n",
       "</div>"
      ],
      "text/plain": [
       "      Unnamed: 0  mean_fit_time  std_fit_time  mean_score_time  \\\n",
       "2830        2830       3.715950      0.006767         0.000912   \n",
       "3200        3200       2.281947      0.022440         0.000944   \n",
       "\n",
       "      std_score_time param_activation  param_batch_size  param_beta_1  \\\n",
       "2830        0.000011         logistic                16           0.9   \n",
       "3200        0.000016         logistic                16           0.8   \n",
       "\n",
       "      param_beta_2 param_hidden_layer_sizes  ...  param_verbose  \\\n",
       "2830           0.9                  (4, 16)  ...          False   \n",
       "3200           0.9                  (7, 13)  ...          False   \n",
       "\n",
       "                                                 params split0_test_score  \\\n",
       "2830  {'activation': 'logistic', 'batch_size': 16, '...          0.921053   \n",
       "3200  {'activation': 'logistic', 'batch_size': 16, '...          0.907895   \n",
       "\n",
       "      split1_test_score split2_test_score  split3_test_score  \\\n",
       "2830               0.92          0.946667               0.96   \n",
       "3200               0.92          0.933333               0.96   \n",
       "\n",
       "      split4_test_score  mean_test_score  std_test_score  rank_test_score  \n",
       "2830           0.893333         0.928211        0.023179                1  \n",
       "3200           0.906667         0.925579        0.019731                2  \n",
       "\n",
       "[2 rows x 23 columns]"
      ]
     },
     "execution_count": 4,
     "metadata": {},
     "output_type": "execute_result"
    }
   ],
   "source": [
    "grid.head(2)"
   ]
  },
  {
   "cell_type": "markdown",
   "id": "c0d3e8d0",
   "metadata": {},
   "source": [
    "## Separando os atributos preditores do atributo alvo"
   ]
  },
  {
   "cell_type": "code",
   "execution_count": 5,
   "id": "9f31e675",
   "metadata": {},
   "outputs": [],
   "source": [
    "X = data.drop(columns=['PCOS (Y/N)'], axis=1)\n",
    "y = data[\"PCOS (Y/N)\"]"
   ]
  },
  {
   "cell_type": "markdown",
   "id": "168bd262",
   "metadata": {},
   "source": [
    "## Separando o conjunto de teste e treino"
   ]
  },
  {
   "cell_type": "code",
   "execution_count": 6,
   "id": "9e1f9ea6",
   "metadata": {},
   "outputs": [
    {
     "data": {
      "text/plain": [
       "((376, 42), (162, 42), 49, 113)"
      ]
     },
     "execution_count": 6,
     "metadata": {},
     "output_type": "execute_result"
    }
   ],
   "source": [
    "X_train, X_test, y_train, y_test = train_test_split(X, y,test_size=0.30)\n",
    "\n",
    "X_train.shape, X_test.shape, (y_test == 1).sum(), (y_test == 0).sum()"
   ]
  },
  {
   "cell_type": "code",
   "execution_count": 7,
   "id": "b6779757",
   "metadata": {},
   "outputs": [
    {
     "name": "stderr",
     "output_type": "stream",
     "text": [
      "C:\\Users\\Callidus\\anaconda3\\lib\\site-packages\\numpy\\core\\fromnumeric.py:84: FutureWarning: In a future version, DataFrame.min(axis=None) will return a scalar min over the entire DataFrame. To retain the old behavior, use 'frame.min(axis=0)' or just 'frame.min()'\n",
      "  return reduction(axis=axis, out=out, **passkwargs)\n",
      "C:\\Users\\Callidus\\anaconda3\\lib\\site-packages\\numpy\\core\\fromnumeric.py:84: FutureWarning: In a future version, DataFrame.max(axis=None) will return a scalar max over the entire DataFrame. To retain the old behavior, use 'frame.max(axis=0)' or just 'frame.max()'\n",
      "  return reduction(axis=axis, out=out, **passkwargs)\n"
     ]
    }
   ],
   "source": [
    "X_train_norm = (X_train - np.min(X_train))/(np.max(X_train) - np.min(X_train))\n",
    "\n",
    "X_test_norm = (X_test - np.min(X_train))/(np.max(X_train) - np.min(X_train))"
   ]
  },
  {
   "cell_type": "markdown",
   "id": "2562aa2b",
   "metadata": {},
   "source": [
    "## Carregando e treinando os três melhores conjuntos de hipeparâmetros da busca em grade"
   ]
  },
  {
   "cell_type": "code",
   "execution_count": 8,
   "id": "b911bdc3",
   "metadata": {},
   "outputs": [
    {
     "data": {
      "text/plain": [
       "\"{'activation': 'logistic', 'batch_size': 16, 'beta_1': 0.9, 'beta_2': 0.9, 'hidden_layer_sizes': (4, 16), 'max_iter': 500, 'n_iter_no_change': 25, 'solver': 'adam', 'verbose': False}\""
      ]
     },
     "execution_count": 8,
     "metadata": {},
     "output_type": "execute_result"
    }
   ],
   "source": [
    "grid[\"params\"].iloc[0]"
   ]
  },
  {
   "cell_type": "code",
   "execution_count": 21,
   "id": "738d7fa4",
   "metadata": {},
   "outputs": [
    {
     "name": "stdout",
     "output_type": "stream",
     "text": [
      "ACURÁCIA: 0.9321\n",
      "PRECISÃO: 0.9321\n"
     ]
    },
    {
     "data": {
      "image/png": "[encoded data removed]",
      "text/plain": [
       "<Figure size 400x400 with 2 Axes>"
      ]
     },
     "metadata": {},
     "output_type": "display_data"
    }
   ],
   "source": [
    "mlp_1 = MLPClassifier(\n",
    "    verbose= False,\n",
    "    max_iter=500, \n",
    "    activation='relu', \n",
    "    hidden_layer_sizes=(4,16),\n",
    "    batch_size=16,\n",
    "    beta_1=0.9,\n",
    "    beta_2=0.9,\n",
    "    solver='adam',\n",
    "    early_stopping=True,\n",
    "    n_iter_no_change=25\n",
    ")\n",
    "mlp_1.fit(X_train_norm.values, y_train)\n",
    "\n",
    "y_pred = mlp_1.predict(X_test_norm.values)\n",
    "get_accuracy(y_test, y_pred)\n",
    "get_precision(y_test, y_pred)\n",
    "plot_confusion_matrix(y_test, y_pred, True)"
   ]
  },
  {
   "cell_type": "code",
   "execution_count": 10,
   "id": "64cea4ce",
   "metadata": {},
   "outputs": [
    {
     "data": {
      "text/plain": [
       "\"{'activation': 'logistic', 'batch_size': 16, 'beta_1': 0.8, 'beta_2': 0.9, 'hidden_layer_sizes': (7, 13), 'max_iter': 300, 'n_iter_no_change': 25, 'solver': 'adam', 'verbose': False}\""
      ]
     },
     "execution_count": 10,
     "metadata": {},
     "output_type": "execute_result"
    }
   ],
   "source": [
    "grid[\"params\"].iloc[1]"
   ]
  },
  {
   "cell_type": "code",
   "execution_count": 22,
   "id": "a2857a61",
   "metadata": {},
   "outputs": [
    {
     "name": "stdout",
     "output_type": "stream",
     "text": [
      "ACURÁCIA: 0.9136\n",
      "PRECISÃO: 0.9136\n"
     ]
    },
    {
     "data": {
      "image/png": "[encoded data removed]",
      "text/plain": [
       "<Figure size 400x400 with 2 Axes>"
      ]
     },
     "metadata": {},
     "output_type": "display_data"
    }
   ],
   "source": [
    "mlp_2 = MLPClassifier(\n",
    "    verbose= False,\n",
    "    max_iter=300, \n",
    "    activation='relu', \n",
    "    hidden_layer_sizes=(7,13),\n",
    "    batch_size=16,\n",
    "    beta_1=0.8,\n",
    "    beta_2=0.9,\n",
    "    solver='adam',\n",
    "    early_stopping=True,\n",
    "    n_iter_no_change=25\n",
    ")\n",
    "mlp_2.fit(X_train_norm.values, y_train)\n",
    "\n",
    "y_pred = mlp_2.predict(X_test_norm.values)\n",
    "get_accuracy(y_test, y_pred)\n",
    "get_precision(y_test, y_pred)\n",
    "plot_confusion_matrix(y_test, y_pred, True)"
   ]
  },
  {
   "cell_type": "code",
   "execution_count": 12,
   "id": "2e941961",
   "metadata": {},
   "outputs": [
    {
     "data": {
      "text/plain": [
       "\"{'activation': 'logistic', 'batch_size': 16, 'beta_1': 0.9, 'beta_2': 0.9, 'hidden_layer_sizes': (5, 15), 'max_iter': 500, 'n_iter_no_change': 25, 'solver': 'adam', 'verbose': False}\""
      ]
     },
     "execution_count": 12,
     "metadata": {},
     "output_type": "execute_result"
    }
   ],
   "source": [
    "grid[\"params\"].iloc[2]"
   ]
  },
  {
   "cell_type": "code",
   "execution_count": 23,
   "id": "edb87e06",
   "metadata": {},
   "outputs": [
    {
     "name": "stdout",
     "output_type": "stream",
     "text": [
      "ACURÁCIA: 0.8951\n",
      "PRECISÃO: 0.8951\n"
     ]
    },
    {
     "data": {
      "image/png": "[encoded data removed]",
      "text/plain": [
       "<Figure size 400x400 with 2 Axes>"
      ]
     },
     "metadata": {},
     "output_type": "display_data"
    }
   ],
   "source": [
    "mlp_3 = MLPClassifier(\n",
    "    verbose= False,\n",
    "    max_iter=500, \n",
    "    activation='relu', \n",
    "    hidden_layer_sizes=(5,15),\n",
    "    batch_size=16,\n",
    "    beta_1=0.9,\n",
    "    beta_2=0.9,\n",
    "    solver='adam',\n",
    "    early_stopping=True,\n",
    "    n_iter_no_change=25\n",
    ")\n",
    "mlp_3.fit(X_train_norm.values, y_train)\n",
    "\n",
    "y_pred = mlp_3.predict(X_test_norm.values)\n",
    "get_accuracy(y_test, y_pred)\n",
    "get_precision(y_test, y_pred)\n",
    "plot_confusion_matrix(y_test, y_pred, True)"
   ]
  },
  {
   "cell_type": "markdown",
   "id": "8724f7cf",
   "metadata": {},
   "source": [
    "## Validação cruzada das três MLPs"
   ]
  },
  {
   "cell_type": "code",
   "execution_count": 15,
   "id": "446d6fac",
   "metadata": {},
   "outputs": [],
   "source": [
    "kf = KFold(n_splits=10, shuffle=True, random_state=42)"
   ]
  },
  {
   "cell_type": "code",
   "execution_count": 17,
   "id": "518f1c58",
   "metadata": {},
   "outputs": [],
   "source": [
    "scores_1 = cross_val_score(mlp_1, X.values, y, cv=kf, scoring='accuracy')\n",
    "scores_2 = cross_val_score(mlp_2, X.values, y, cv=kf, scoring='accuracy')\n",
    "scores_3 = cross_val_score(mlp_3, X.values, y, cv=kf, scoring='accuracy')"
   ]
  },
  {
   "cell_type": "code",
   "execution_count": 18,
   "id": "643b7bf8",
   "metadata": {},
   "outputs": [
    {
     "name": "stdout",
     "output_type": "stream",
     "text": [
      "Acurácia da MLP em 1°: 0.6951 (+/- 0.23)\n",
      "Acurácia da MLP em 2°: 0.7133 (+/- 0.22)\n",
      "Acurácia da MLP em 3°: 0.6936 (+/- 0.20)\n"
     ]
    }
   ],
   "source": [
    "print(\"Acurácia da MLP em 1°: %0.4f (+/- %0.2f)\" % (scores_1.mean(), scores_1.std() * 2))\n",
    "print(\"Acurácia da MLP em 2°: %0.4f (+/- %0.2f)\" % (scores_2.mean(), scores_2.std() * 2))\n",
    "print(\"Acurácia da MLP em 3°: %0.4f (+/- %0.2f)\" % (scores_3.mean(), scores_3.std() * 2))"
   ]
  },
  {
   "cell_type": "markdown",
   "id": "45f81e07",
   "metadata": {},
   "source": [
    "## Salvando a melhor MLP"
   ]
  },
  {
   "cell_type": "code",
   "execution_count": 24,
   "id": "2d7ad376",
   "metadata": {},
   "outputs": [
    {
     "name": "stdout",
     "output_type": "stream",
     "text": [
      "ACURÁCIA: 0.8755\n",
      "PRECISÃO: 0.8755\n"
     ]
    },
    {
     "data": {
      "image/png": "[encoded data removed]",
      "text/plain": [
       "<Figure size 400x400 with 2 Axes>"
      ]
     },
     "metadata": {},
     "output_type": "display_data"
    }
   ],
   "source": [
    "clf = mlp_2.fit(X.values, y)\n",
    "\n",
    "y_pred = clf.predict(X.values)\n",
    "get_accuracy(y, y_pred)\n",
    "get_precision(y, y_pred)\n",
    "plot_confusion_matrix(y, y_pred, True)"
   ]
  },
  {
   "cell_type": "code",
   "execution_count": 20,
   "id": "5443df0d",
   "metadata": {},
   "outputs": [
    {
     "data": {
      "text/plain": [
       "['models/pcos-diagnosis-45-params.joblib']"
      ]
     },
     "execution_count": 20,
     "metadata": {},
     "output_type": "execute_result"
    }
   ],
   "source": [
    "#dump(clf, 'models/pcos-diagnosis-45-params.joblib')"
   ]
  }
 ],
 "metadata": {
  "kernelspec": {
   "display_name": "Python 3 (ipykernel)",
   "language": "python",
   "name": "python3"
  },
  "language_info": {
   "codemirror_mode": {
    "name": "ipython",
    "version": 3
   },
   "file_extension": ".py",
   "mimetype": "text/x-python",
   "name": "python",
   "nbconvert_exporter": "python",
   "pygments_lexer": "ipython3",
   "version": "3.9.13"
  }
 },
 "nbformat": 4,
 "nbformat_minor": 5
}
