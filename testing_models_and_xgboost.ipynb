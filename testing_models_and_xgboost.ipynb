{
 "cells": [
  {
   "cell_type": "markdown",
   "id": "e69fee88",
   "metadata": {},
   "source": [
    "# Testando os resultados da busca em grade e comparando com XGBoost"
   ]
  },
  {
   "cell_type": "code",
   "execution_count": 1,
   "id": "8873a717",
   "metadata": {},
   "outputs": [],
   "source": [
    "import pandas as pd\n",
    "import numpy as np\n",
    "import seaborn as sns\n",
    "import matplotlib.pyplot as plt\n",
    "import math\n",
    "\n",
    "from utilities.show_results import plot_confusion_matrix, get_accuracy, get_precision, f_score\n",
    "from utilities.pearson_correlation import choose_with_pearson\n",
    "from utilities.neuron_architectures import create_architectures, test_alphas\n",
    "\n",
    "from sklearn.model_selection import train_test_split, cross_val_score, KFold\n",
    "from sklearn.neural_network import MLPClassifier\n",
    "from sklearn import metrics\n",
    "from sklearn.ensemble import GradientBoostingClassifier\n",
    "from sklearn.metrics import mean_squared_error\n",
    "\n",
    "import xgboost as xgb\n",
    "from joblib import load, dump\n",
    "import plotly.graph_objects as go"
   ]
  },
  {
   "cell_type": "markdown",
   "id": "63f1cf61",
   "metadata": {},
   "source": [
    "## 1. Abrindo o dataset e tratando os dados"
   ]
  },
  {
   "cell_type": "code",
   "execution_count": 2,
   "id": "ad85e141",
   "metadata": {},
   "outputs": [],
   "source": [
    "data = pd.read_csv('PCOS.csv')"
   ]
  },
  {
   "cell_type": "code",
   "execution_count": 3,
   "id": "d689f6e0",
   "metadata": {},
   "outputs": [
    {
     "data": {
      "text/html": [
       "<div>\n",
       "<style scoped>\n",
       "    .dataframe tbody tr th:only-of-type {\n",
       "        vertical-align: middle;\n",
       "    }\n",
       "\n",
       "    .dataframe tbody tr th {\n",
       "        vertical-align: top;\n",
       "    }\n",
       "\n",
       "    .dataframe thead th {\n",
       "        text-align: right;\n",
       "    }\n",
       "</style>\n",
       "<table border=\"1\" class=\"dataframe\">\n",
       "  <thead>\n",
       "    <tr style=\"text-align: right;\">\n",
       "      <th></th>\n",
       "      <th>Unnamed: 0</th>\n",
       "      <th>PCOS (Y/N)</th>\n",
       "      <th>Age (yrs)</th>\n",
       "      <th>Weight (Kg)</th>\n",
       "      <th>Height(Cm)</th>\n",
       "      <th>BMI</th>\n",
       "      <th>Blood Group</th>\n",
       "      <th>Pulse rate(bpm)</th>\n",
       "      <th>RR (breaths/min)</th>\n",
       "      <th>Hb(g/dl)</th>\n",
       "      <th>...</th>\n",
       "      <th>Pimples(Y/N)</th>\n",
       "      <th>Fast food (Y/N)</th>\n",
       "      <th>Reg.Exercise(Y/N)</th>\n",
       "      <th>BP _Systolic (mmHg)</th>\n",
       "      <th>BP _Diastolic (mmHg)</th>\n",
       "      <th>Follicle No. (L)</th>\n",
       "      <th>Follicle No. (R)</th>\n",
       "      <th>Avg. F size (L) (mm)</th>\n",
       "      <th>Avg. F size (R) (mm)</th>\n",
       "      <th>Endometrium (mm)</th>\n",
       "    </tr>\n",
       "  </thead>\n",
       "  <tbody>\n",
       "    <tr>\n",
       "      <th>0</th>\n",
       "      <td>0</td>\n",
       "      <td>0</td>\n",
       "      <td>28</td>\n",
       "      <td>44.6</td>\n",
       "      <td>152.0</td>\n",
       "      <td>19.3</td>\n",
       "      <td>15</td>\n",
       "      <td>78</td>\n",
       "      <td>22</td>\n",
       "      <td>10.48</td>\n",
       "      <td>...</td>\n",
       "      <td>0</td>\n",
       "      <td>1.0</td>\n",
       "      <td>0</td>\n",
       "      <td>110</td>\n",
       "      <td>80</td>\n",
       "      <td>3</td>\n",
       "      <td>3</td>\n",
       "      <td>18.0</td>\n",
       "      <td>18.0</td>\n",
       "      <td>8.5</td>\n",
       "    </tr>\n",
       "    <tr>\n",
       "      <th>1</th>\n",
       "      <td>1</td>\n",
       "      <td>0</td>\n",
       "      <td>36</td>\n",
       "      <td>65.0</td>\n",
       "      <td>161.5</td>\n",
       "      <td>24.9</td>\n",
       "      <td>15</td>\n",
       "      <td>74</td>\n",
       "      <td>20</td>\n",
       "      <td>11.70</td>\n",
       "      <td>...</td>\n",
       "      <td>0</td>\n",
       "      <td>0.0</td>\n",
       "      <td>0</td>\n",
       "      <td>120</td>\n",
       "      <td>70</td>\n",
       "      <td>3</td>\n",
       "      <td>5</td>\n",
       "      <td>15.0</td>\n",
       "      <td>14.0</td>\n",
       "      <td>3.7</td>\n",
       "    </tr>\n",
       "  </tbody>\n",
       "</table>\n",
       "<p>2 rows × 43 columns</p>\n",
       "</div>"
      ],
      "text/plain": [
       "   Unnamed: 0  PCOS (Y/N)   Age (yrs)  Weight (Kg)  Height(Cm)    BMI  \\\n",
       "0           0           0          28         44.6        152.0  19.3   \n",
       "1           1           0          36         65.0        161.5  24.9   \n",
       "\n",
       "   Blood Group  Pulse rate(bpm)   RR (breaths/min)  Hb(g/dl)  ...  \\\n",
       "0           15                78                22     10.48  ...   \n",
       "1           15                74                20     11.70  ...   \n",
       "\n",
       "   Pimples(Y/N)  Fast food (Y/N)  Reg.Exercise(Y/N)  BP _Systolic (mmHg)  \\\n",
       "0             0              1.0                  0                  110   \n",
       "1             0              0.0                  0                  120   \n",
       "\n",
       "   BP _Diastolic (mmHg)  Follicle No. (L)  Follicle No. (R)  \\\n",
       "0                    80                 3                 3   \n",
       "1                    70                 3                 5   \n",
       "\n",
       "   Avg. F size (L) (mm)  Avg. F size (R) (mm)  Endometrium (mm)  \n",
       "0                  18.0                  18.0               8.5  \n",
       "1                  15.0                  14.0               3.7  \n",
       "\n",
       "[2 rows x 43 columns]"
      ]
     },
     "execution_count": 3,
     "metadata": {},
     "output_type": "execute_result"
    }
   ],
   "source": [
    "data.head(2)"
   ]
  },
  {
   "cell_type": "code",
   "execution_count": 4,
   "id": "07f92017",
   "metadata": {},
   "outputs": [
    {
     "name": "stdout",
     "output_type": "stream",
     "text": [
      "<class 'pandas.core.frame.DataFrame'>\n",
      "RangeIndex: 538 entries, 0 to 537\n",
      "Data columns (total 43 columns):\n",
      " #   Column                  Non-Null Count  Dtype  \n",
      "---  ------                  --------------  -----  \n",
      " 0   Unnamed: 0              538 non-null    int64  \n",
      " 1   PCOS (Y/N)              538 non-null    int64  \n",
      " 2    Age (yrs)              538 non-null    int64  \n",
      " 3   Weight (Kg)             538 non-null    float64\n",
      " 4   Height(Cm)              538 non-null    float64\n",
      " 5   BMI                     538 non-null    float64\n",
      " 6   Blood Group             538 non-null    int64  \n",
      " 7   Pulse rate(bpm)         538 non-null    int64  \n",
      " 8   RR (breaths/min)        538 non-null    int64  \n",
      " 9   Hb(g/dl)                538 non-null    float64\n",
      " 10  Cycle(R/I)              538 non-null    int64  \n",
      " 11  Cycle length(days)      538 non-null    int64  \n",
      " 12  Marraige Status (Yrs)   538 non-null    float64\n",
      " 13  Pregnant(Y/N)           538 non-null    int64  \n",
      " 14  No. of abortions        538 non-null    int64  \n",
      " 15    I   beta-HCG(mIU/mL)  538 non-null    float64\n",
      " 16  II    beta-HCG(mIU/mL)  538 non-null    float64\n",
      " 17  FSH(mIU/mL)             538 non-null    float64\n",
      " 18  LH(mIU/mL)              538 non-null    float64\n",
      " 19  FSH/LH                  538 non-null    float64\n",
      " 20  Hip(inch)               538 non-null    int64  \n",
      " 21  Waist(inch)             538 non-null    int64  \n",
      " 22  Waist:Hip Ratio         538 non-null    float64\n",
      " 23  TSH (mIU/L)             538 non-null    float64\n",
      " 24  AMH(ng/mL)              538 non-null    float64\n",
      " 25  PRL(ng/mL)              538 non-null    float64\n",
      " 26  Vit D3 (ng/mL)          538 non-null    float64\n",
      " 27  PRG(ng/mL)              538 non-null    float64\n",
      " 28  RBS(mg/dl)              538 non-null    float64\n",
      " 29  Weight gain(Y/N)        538 non-null    int64  \n",
      " 30  hair growth(Y/N)        538 non-null    int64  \n",
      " 31  Skin darkening (Y/N)    538 non-null    int64  \n",
      " 32  Hair loss(Y/N)          538 non-null    int64  \n",
      " 33  Pimples(Y/N)            538 non-null    int64  \n",
      " 34  Fast food (Y/N)         538 non-null    float64\n",
      " 35  Reg.Exercise(Y/N)       538 non-null    int64  \n",
      " 36  BP _Systolic (mmHg)     538 non-null    int64  \n",
      " 37  BP _Diastolic (mmHg)    538 non-null    int64  \n",
      " 38  Follicle No. (L)        538 non-null    int64  \n",
      " 39  Follicle No. (R)        538 non-null    int64  \n",
      " 40  Avg. F size (L) (mm)    538 non-null    float64\n",
      " 41  Avg. F size (R) (mm)    538 non-null    float64\n",
      " 42  Endometrium (mm)        538 non-null    float64\n",
      "dtypes: float64(21), int64(22)\n",
      "memory usage: 180.9 KB\n"
     ]
    }
   ],
   "source": [
    "data.info()"
   ]
  },
  {
   "cell_type": "markdown",
   "id": "0a267996",
   "metadata": {},
   "source": [
    "## 2. Usando a correlação de Pearson para encontrar os melhores atributos preditores"
   ]
  },
  {
   "cell_type": "code",
   "execution_count": 5,
   "id": "9c919840",
   "metadata": {},
   "outputs": [],
   "source": [
    "X = data.drop(columns=['PCOS (Y/N)'], axis=1)\n",
    "y = data[\"PCOS (Y/N)\"]"
   ]
  },
  {
   "cell_type": "code",
   "execution_count": 6,
   "id": "471b96b4",
   "metadata": {},
   "outputs": [],
   "source": [
    "#utilizando função definida na pasta utilities\n",
    "X_selected, _ = choose_with_pearson(20, X, y)"
   ]
  },
  {
   "cell_type": "code",
   "execution_count": 7,
   "id": "1c824cfe",
   "metadata": {
    "scrolled": true
   },
   "outputs": [
    {
     "data": {
      "text/plain": [
       "PCOS (Y/N)                1.000000\n",
       "Follicle No. (R)          0.650929\n",
       "Follicle No. (L)          0.601208\n",
       "Skin darkening (Y/N)      0.481323\n",
       "hair growth(Y/N)          0.466508\n",
       "Weight gain(Y/N)          0.443093\n",
       "Cycle(R/I)                0.401837\n",
       "Fast food (Y/N)           0.380985\n",
       "Pimples(Y/N)              0.290335\n",
       "AMH(ng/mL)                0.263974\n",
       "Weight (Kg)               0.209969\n",
       "BMI                       0.198854\n",
       "Hair loss(Y/N)            0.176496\n",
       "Waist(inch)               0.161922\n",
       "Hip(inch)                 0.160882\n",
       "Avg. F size (L) (mm)      0.129997\n",
       "Endometrium (mm)          0.107639\n",
       "Avg. F size (R) (mm)      0.094528\n",
       "Pulse rate(bpm)           0.092699\n",
       "Hb(g/dl)                  0.087809\n",
       "Vit D3 (ng/mL)            0.085825\n",
       "Reg.Exercise(Y/N)         0.071979\n",
       "Height(Cm)                0.065465\n",
       "LH(mIU/mL)                0.064074\n",
       "Unnamed: 0                0.057574\n",
       "RBS(mg/dl)                0.049452\n",
       "RR (breaths/min)          0.038641\n",
       "Blood Group               0.033701\n",
       "BP _Diastolic (mmHg)      0.033562\n",
       "II    beta-HCG(mIU/mL)    0.012808\n",
       "Waist:Hip Ratio           0.009309\n",
       "BP _Systolic (mmHg)       0.007923\n",
       "PRL(ng/mL)                0.001649\n",
       "TSH (mIU/L)              -0.005277\n",
       "FSH/LH                   -0.018512\n",
       "Pregnant(Y/N)            -0.027632\n",
       "  I   beta-HCG(mIU/mL)   -0.028074\n",
       "FSH(mIU/mL)              -0.030384\n",
       "PRG(ng/mL)               -0.043897\n",
       "No. of abortions         -0.057316\n",
       "Marraige Status (Yrs)    -0.113406\n",
       " Age (yrs)               -0.171349\n",
       "Cycle length(days)       -0.183811\n",
       "Name: PCOS (Y/N), dtype: float64"
      ]
     },
     "execution_count": 7,
     "metadata": {},
     "output_type": "execute_result"
    }
   ],
   "source": [
    "correlation = data.corr()\n",
    "correlation[\"PCOS (Y/N)\"].sort_values(ascending=False)"
   ]
  },
  {
   "cell_type": "code",
   "execution_count": 8,
   "id": "e3e37f53",
   "metadata": {},
   "outputs": [],
   "source": [
    "#Salvando como um dataframe\n",
    "#selected_df = pd.merge(X_selected, data['PCOS (Y/N)'], left_index=True, right_index=True)\n",
    "#selected_df.to_csv(\"data/PCOS_selected_pearson.csv\", index=False)"
   ]
  },
  {
   "cell_type": "markdown",
   "id": "a4f09511",
   "metadata": {},
   "source": [
    "## 3. Separando o conjunto de testes e treino\n",
    "\n",
    "Partição 70/30"
   ]
  },
  {
   "cell_type": "code",
   "execution_count": 9,
   "id": "32f668c7",
   "metadata": {},
   "outputs": [
    {
     "data": {
      "text/plain": [
       "((376, 42), (162, 42), 50, 112)"
      ]
     },
     "execution_count": 9,
     "metadata": {},
     "output_type": "execute_result"
    }
   ],
   "source": [
    "X_train, X_test, y_train, y_test = train_test_split(X, y,test_size=0.30)\n",
    "\n",
    "X_train.shape, X_test.shape, (y_test == 1).sum(), (y_test == 0).sum()"
   ]
  },
  {
   "cell_type": "markdown",
   "id": "1bb1dc9d",
   "metadata": {},
   "source": [
    "### 3.1 Normalizando os atributos preditores"
   ]
  },
  {
   "cell_type": "code",
   "execution_count": 10,
   "id": "2e70461f",
   "metadata": {},
   "outputs": [
    {
     "name": "stderr",
     "output_type": "stream",
     "text": [
      "C:\\Users\\Callidus\\anaconda3\\lib\\site-packages\\numpy\\core\\fromnumeric.py:84: FutureWarning: In a future version, DataFrame.min(axis=None) will return a scalar min over the entire DataFrame. To retain the old behavior, use 'frame.min(axis=0)' or just 'frame.min()'\n",
      "  return reduction(axis=axis, out=out, **passkwargs)\n",
      "C:\\Users\\Callidus\\anaconda3\\lib\\site-packages\\numpy\\core\\fromnumeric.py:84: FutureWarning: In a future version, DataFrame.max(axis=None) will return a scalar max over the entire DataFrame. To retain the old behavior, use 'frame.max(axis=0)' or just 'frame.max()'\n",
      "  return reduction(axis=axis, out=out, **passkwargs)\n"
     ]
    }
   ],
   "source": [
    "X_train_norm = (X_train - np.min(X_train))/(np.max(X_train) - np.min(X_train))\n",
    "\n",
    "X_test_norm = (X_test - np.min(X_train))/(np.max(X_train) - np.min(X_train))"
   ]
  },
  {
   "cell_type": "markdown",
   "id": "f06b28f9",
   "metadata": {},
   "source": [
    "## 4. Resultados da busca em grade"
   ]
  },
  {
   "cell_type": "code",
   "execution_count": 11,
   "id": "3722a38d",
   "metadata": {},
   "outputs": [],
   "source": [
    "# Lista de acurácia dos modelos\n",
    "cv_results = []"
   ]
  },
  {
   "cell_type": "markdown",
   "id": "6dfe92b8",
   "metadata": {},
   "source": [
    "### 4.1 Carregando o melhor modelo da busca em grade com todos os parâmetros"
   ]
  },
  {
   "cell_type": "code",
   "execution_count": 12,
   "id": "ac8c736b",
   "metadata": {},
   "outputs": [],
   "source": [
    "clf_45 = load('models/pcos-diagnosis-45-params.joblib')"
   ]
  },
  {
   "cell_type": "code",
   "execution_count": 39,
   "id": "0112e07f",
   "metadata": {},
   "outputs": [
    {
     "name": "stdout",
     "output_type": "stream",
     "text": [
      "F-SCORE: 0.8513\n"
     ]
    },
    {
     "data": {
      "image/png": "[encoded data removed]",
      "text/plain": [
       "<Figure size 400x400 with 2 Axes>"
      ]
     },
     "metadata": {},
     "output_type": "display_data"
    }
   ],
   "source": [
    "y_pred = clf_45.predict(X.values)\n",
    "\n",
    "f_score(y, y_pred)\n",
    "plot_confusion_matrix(y, y_pred, True)"
   ]
  },
  {
   "cell_type": "markdown",
   "id": "3f0a63a7",
   "metadata": {},
   "source": [
    "### 4.2 Carregando o melhor modelo da busca em grade com 20 parâmetros escolhidos a partir da correlação de Pearson"
   ]
  },
  {
   "cell_type": "code",
   "execution_count": 14,
   "id": "3a672165",
   "metadata": {},
   "outputs": [],
   "source": [
    "clf_20_pearson = load('models/pcos-diagnosis-20-params.joblib')"
   ]
  },
  {
   "cell_type": "code",
   "execution_count": 46,
   "id": "dcc80511",
   "metadata": {},
   "outputs": [
    {
     "name": "stdout",
     "output_type": "stream",
     "text": [
      "ACURÁCIA: 0.9164\n",
      "F-SCORE: 0.9164\n"
     ]
    },
    {
     "data": {
      "image/png": "[encoded data removed]",
      "text/plain": [
       "<Figure size 400x400 with 2 Axes>"
      ]
     },
     "metadata": {},
     "output_type": "display_data"
    }
   ],
   "source": [
    "y_pred = clf_20_pearson.predict(X[X_selected.columns].values)\n",
    "\n",
    "# cv_results.append(round(get_accuracy(y_test, y_pred )* 100, 2))\n",
    "get_accuracy(y, y_pred)\n",
    "f_score(y, y_pred)\n",
    "plot_confusion_matrix(y, y_pred, True)"
   ]
  },
  {
   "cell_type": "markdown",
   "id": "751555b0",
   "metadata": {},
   "source": [
    "### 4.3 Carregando o melhor modelo da busca em grade com 15 parâmetros escolhidos a partir da correlação de Pearson"
   ]
  },
  {
   "cell_type": "code",
   "execution_count": 44,
   "id": "ef035856",
   "metadata": {},
   "outputs": [],
   "source": [
    "clf_15_pearson = load('models/pcos-diagnosis-15-params.joblib')"
   ]
  },
  {
   "cell_type": "code",
   "execution_count": 45,
   "id": "8758444f",
   "metadata": {},
   "outputs": [
    {
     "name": "stdout",
     "output_type": "stream",
     "text": [
      "ACURÁCIA: 0.9108\n",
      "F-SCORE: 0.9108\n"
     ]
    },
    {
     "data": {
      "image/png": "[encoded data removed]",
      "text/plain": [
       "<Figure size 400x400 with 2 Axes>"
      ]
     },
     "metadata": {},
     "output_type": "display_data"
    }
   ],
   "source": [
    "y_pred = clf_15_pearson.predict(X_selected.iloc[:, :15].values)\n",
    "\n",
    "# cv_results.append(round(get_accuracy(y_test, y_pred )* 100, 2))\n",
    "get_accuracy(y, y_pred)\n",
    "f_score(y, y_pred)\n",
    "plot_confusion_matrix(y, y_pred, True)"
   ]
  },
  {
   "cell_type": "markdown",
   "id": "701c0024",
   "metadata": {},
   "source": [
    "## 5. Algoritmo XGBoost"
   ]
  },
  {
   "cell_type": "markdown",
   "id": "c04f25ab",
   "metadata": {},
   "source": [
    "### 5.1 Utilizando a biblioteca xgboost para prever somente com 44 atributos preditores selecionados a partir da correlação de Pearson"
   ]
  },
  {
   "cell_type": "code",
   "execution_count": 18,
   "id": "ec0c5c95",
   "metadata": {},
   "outputs": [],
   "source": [
    "clf_xgb_45 = xgb.XGBClassifier()\n",
    "class_xgb_45 = xgb.XGBClassifier(booster='gblinear')"
   ]
  },
  {
   "cell_type": "code",
   "execution_count": 19,
   "id": "eb9c3ca5",
   "metadata": {},
   "outputs": [
    {
     "data": {
      "text/plain": [
       "0.6599231306778476"
      ]
     },
     "execution_count": 19,
     "metadata": {},
     "output_type": "execute_result"
    }
   ],
   "source": [
    "xgb_results_45 = cross_val_score(class_xgb_45, X, y, cv=10)\n",
    "xgb_results_45.mean()"
   ]
  },
  {
   "cell_type": "code",
   "execution_count": 52,
   "id": "6eb4cadd",
   "metadata": {},
   "outputs": [
    {
     "data": {
      "text/plain": [
       "0.8790705800139763"
      ]
     },
     "execution_count": 52,
     "metadata": {},
     "output_type": "execute_result"
    }
   ],
   "source": [
    "xgb_results_45 = cross_val_score(clf_xgb_45, X, y, cv=10)\n",
    "xgb_results_45.mean()"
   ]
  },
  {
   "cell_type": "code",
   "execution_count": 61,
   "id": "d487220b",
   "metadata": {},
   "outputs": [
    {
     "data": {
      "text/plain": [
       "0.8810834198684667"
      ]
     },
     "execution_count": 61,
     "metadata": {},
     "output_type": "execute_result"
    }
   ],
   "source": [
    "cross_val_score(class_xgb_45, X, y).mean()"
   ]
  },
  {
   "cell_type": "code",
   "execution_count": 62,
   "id": "2c9d3285",
   "metadata": {},
   "outputs": [
    {
     "data": {
      "text/plain": [
       "XGBClassifier(base_score=None, booster='gblinear', callbacks=None,\n",
       "              colsample_bylevel=None, colsample_bynode=None,\n",
       "              colsample_bytree=None, early_stopping_rounds=None,\n",
       "              enable_categorical=False, eval_metric=None, feature_types=None,\n",
       "              gamma=None, gpu_id=None, grow_policy=None, importance_type=None,\n",
       "              interaction_constraints=None, learning_rate=None, max_bin=None,\n",
       "              max_cat_threshold=None, max_cat_to_onehot=None,\n",
       "              max_delta_step=None, max_depth=None, max_leaves=None,\n",
       "              min_child_weight=None, missing=nan, monotone_constraints=None,\n",
       "              n_estimators=100, n_jobs=None, num_parallel_tree=None,\n",
       "              predictor=None, random_state=None, ...)"
      ]
     },
     "execution_count": 62,
     "metadata": {},
     "output_type": "execute_result"
    }
   ],
   "source": [
    "class_xgb_45.fit(X_train_norm, y_train)"
   ]
  },
  {
   "cell_type": "code",
   "execution_count": 63,
   "id": "8eb3f532",
   "metadata": {},
   "outputs": [],
   "source": [
    "y_xgb = class_xgb_45.predict(X_test_norm)"
   ]
  },
  {
   "cell_type": "code",
   "execution_count": 64,
   "id": "c24888da",
   "metadata": {},
   "outputs": [
    {
     "name": "stdout",
     "output_type": "stream",
     "text": [
      "ACURÁCIA: 0.8889\n"
     ]
    },
    {
     "data": {
      "image/png": "[encoded data removed]",
      "text/plain": [
       "<Figure size 400x400 with 2 Axes>"
      ]
     },
     "metadata": {},
     "output_type": "display_data"
    }
   ],
   "source": [
    "get_accuracy(y_test, y_xgb)\n",
    "plot_confusion_matrix(y_test, y_xgb, True)"
   ]
  },
  {
   "cell_type": "markdown",
   "id": "54dcbd7d",
   "metadata": {},
   "source": [
    "### 5.2 Utilizando a biblioteca xgboost para prever somente com 20 atributos preditores selecionados a partir da correlação de Pearson"
   ]
  },
  {
   "cell_type": "code",
   "execution_count": 22,
   "id": "3c5462b1",
   "metadata": {},
   "outputs": [],
   "source": [
    "clf_xgb = xgb.XGBClassifier()\n",
    "class_xgb = xgb.XGBClassifier(booster='gblinear')"
   ]
  },
  {
   "cell_type": "code",
   "execution_count": 23,
   "id": "a1cffb1e",
   "metadata": {},
   "outputs": [
    {
     "data": {
      "text/plain": [
       "0.8883997204751921"
      ]
     },
     "execution_count": 23,
     "metadata": {},
     "output_type": "execute_result"
    }
   ],
   "source": [
    "xgb_results = cross_val_score(clf_xgb, X[X_selected.columns], y, cv=10)\n",
    "xgb_results.mean()"
   ]
  },
  {
   "cell_type": "code",
   "execution_count": 24,
   "id": "7da501c5",
   "metadata": {},
   "outputs": [
    {
     "data": {
      "text/plain": [
       "0.9049615653389239"
      ]
     },
     "execution_count": 24,
     "metadata": {},
     "output_type": "execute_result"
    }
   ],
   "source": [
    "cross_val_score(class_xgb, X[X_selected.columns], y, cv=10).mean()"
   ]
  },
  {
   "cell_type": "code",
   "execution_count": 25,
   "id": "7c255c61",
   "metadata": {},
   "outputs": [
    {
     "data": {
      "text/plain": [
       "XGBClassifier(base_score=None, booster=None, callbacks=None,\n",
       "              colsample_bylevel=None, colsample_bynode=None,\n",
       "              colsample_bytree=None, early_stopping_rounds=None,\n",
       "              enable_categorical=False, eval_metric=None, feature_types=None,\n",
       "              gamma=None, gpu_id=None, grow_policy=None, importance_type=None,\n",
       "              interaction_constraints=None, learning_rate=None, max_bin=None,\n",
       "              max_cat_threshold=None, max_cat_to_onehot=None,\n",
       "              max_delta_step=None, max_depth=None, max_leaves=None,\n",
       "              min_child_weight=None, missing=nan, monotone_constraints=None,\n",
       "              n_estimators=100, n_jobs=None, num_parallel_tree=None,\n",
       "              predictor=None, random_state=None, ...)"
      ]
     },
     "execution_count": 25,
     "metadata": {},
     "output_type": "execute_result"
    }
   ],
   "source": [
    "clf_xgb.fit(X_train_norm[X_selected.columns], y_train)"
   ]
  },
  {
   "cell_type": "code",
   "execution_count": 26,
   "id": "ddd8a111",
   "metadata": {},
   "outputs": [],
   "source": [
    "y_xgb_pred = clf_xgb.predict(X_test_norm[X_selected.columns])"
   ]
  },
  {
   "cell_type": "code",
   "execution_count": 27,
   "id": "2f2a1be1",
   "metadata": {},
   "outputs": [
    {
     "name": "stdout",
     "output_type": "stream",
     "text": [
      "ACURÁCIA: 0.9012\n"
     ]
    },
    {
     "data": {
      "image/png": "[encoded data removed]",
      "text/plain": [
       "<Figure size 400x400 with 2 Axes>"
      ]
     },
     "metadata": {},
     "output_type": "display_data"
    }
   ],
   "source": [
    "get_accuracy(y_test, y_xgb_pred)\n",
    "plot_confusion_matrix(y_test, y_xgb_pred, True)"
   ]
  },
  {
   "cell_type": "code",
   "execution_count": 28,
   "id": "27500b53",
   "metadata": {},
   "outputs": [
    {
     "data": {
      "text/plain": [
       "(50, 112, 162)"
      ]
     },
     "execution_count": 28,
     "metadata": {},
     "output_type": "execute_result"
    }
   ],
   "source": [
    "(y_test == 1).sum(), (y_test == 0).sum(), len(y_test)"
   ]
  },
  {
   "cell_type": "markdown",
   "id": "83b537ac",
   "metadata": {},
   "source": [
    "### 5.2 Salvando modelo XGBoost"
   ]
  },
  {
   "cell_type": "code",
   "execution_count": 29,
   "id": "13ec894b",
   "metadata": {},
   "outputs": [],
   "source": [
    "# dump(class_xgb, 'models/pcos-diagnosis-20-params-xgb.joblib')"
   ]
  },
  {
   "cell_type": "markdown",
   "id": "e9fc0072",
   "metadata": {},
   "source": [
    "## 6. Validação Cruzada dos melhores modelos MLP"
   ]
  },
  {
   "cell_type": "code",
   "execution_count": 47,
   "id": "e1ed7c04",
   "metadata": {},
   "outputs": [],
   "source": [
    "kf = KFold(n_splits=10, shuffle=True, random_state=42)\n",
    "\n",
    "scores_xgb_45 = cross_val_score(class_xgb_45, X, y, cv=kf, scoring='accuracy')\n",
    "scores_xgb_20 = cross_val_score(class_xgb, X_selected, y, cv=kf, scoring='accuracy')\n",
    "\n",
    "scores_mlp_45 = cross_val_score(clf_45, X.values, y, cv=kf, scoring='accuracy')\n",
    "scores_mlp_20 = cross_val_score(clf_20_pearson, X_selected.values, y, cv=kf, scoring='accuracy')\n",
    "scores_mlp_15 = cross_val_score(clf_15_pearson, X.values, y, cv=kf, scoring='accuracy')\n"
   ]
  },
  {
   "cell_type": "code",
   "execution_count": 48,
   "id": "484b2904",
   "metadata": {},
   "outputs": [
    {
     "name": "stdout",
     "output_type": "stream",
     "text": [
      "Acurácia XGBoost 42 parâmetros: 0.8922 (+/- 0.10)\n",
      "Acurácia XGBoost 20 parâmetros: 0.9089 (+/- 0.09)\n",
      "Acurácia MLPClassifier com 20 parâmetros: 0.8755 (+/- 0.09)\n",
      "Acurácia MLPClassifier com 42 parâmetros: 0.7134 (+/- 0.17)\n",
      "Acurácia MLPClassifier com 15 parâmetros: 0.7210 (+/- 0.17)\n"
     ]
    }
   ],
   "source": [
    "print(\"Acurácia XGBoost 42 parâmetros: %0.4f (+/- %0.2f)\" % (scores_xgb_45.mean(), scores_xgb_45.std() * 2))\n",
    "print(\"Acurácia XGBoost 20 parâmetros: %0.4f (+/- %0.2f)\" % (scores_xgb_20.mean(), scores_xgb_20.std() * 2))\n",
    "print(f\"Acurácia MLPClassifier com 20 parâmetros: {scores_mlp_20.mean():.4f} (+/- {scores_mlp_20.std() * 2:.2f})\")\n",
    "print(f\"Acurácia MLPClassifier com 42 parâmetros: {scores_mlp_45.mean():.4f} (+/- {scores_mlp_45.std() * 2:.2f})\")\n",
    "print(f\"Acurácia MLPClassifier com 15 parâmetros: {scores_mlp_15.mean():.4f} (+/- {scores_mlp_15.std() * 2:.2f})\")"
   ]
  },
  {
   "cell_type": "markdown",
   "id": "41db4a16",
   "metadata": {},
   "source": [
    "# Resultados obtidos"
   ]
  },
  {
   "cell_type": "code",
   "execution_count": 49,
   "id": "7735aae2",
   "metadata": {},
   "outputs": [
    {
     "data": {
      "text/plain": [
       "[71.34, 87.55, 72.1, 89.22, 90.89]"
      ]
     },
     "execution_count": 49,
     "metadata": {},
     "output_type": "execute_result"
    }
   ],
   "source": [
    "cv_results = [round(scores_mlp_45.mean()*100,2), \n",
    "              round(scores_mlp_20.mean()*100,2), \n",
    "              round(scores_mlp_15.mean()*100,2), \n",
    "              round(scores_xgb_45.mean()*100,2),\n",
    "              round(scores_xgb_20.mean()*100,2),\n",
    "             ]\n",
    "\n",
    "cv_results"
   ]
  },
  {
   "cell_type": "code",
   "execution_count": 50,
   "id": "7e95bd3b",
   "metadata": {},
   "outputs": [],
   "source": [
    "model_list = ['MLP com 42 atributos',\n",
    "              'MLP com 20 atributos',\n",
    "              'MLP com 15 atributos',\n",
    "              'XGBoost com 42 atrib.',\n",
    "              'XGBoost com 20 atrib.',\n",
    "             ]"
   ]
  },
  {
   "cell_type": "code",
   "execution_count": 51,
   "id": "6992bd15",
   "metadata": {},
   "outputs": [
    {
     "data": {
      "application/vnd.plotly.v1+json": {
       "config": {
        "plotlyServerURL": "https://plot.ly"
       },
       "data": [
        {
         "marker": {
          "color": "rgb(179,0,59)",
          "line": {
           "color": "rgb(0,0,0)",
           "width": 1
          }
         },
         "type": "bar",
         "x": [
          "MLP com 42 atributos",
          "MLP com 20 atributos",
          "MLP com 15 atributos",
          "XGBoost com 42 atrib.",
          "XGBoost com 20 atrib."
         ],
         "y": [
          71.34,
          87.55,
          72.1,
          89.22,
          90.89
         ]
        }
       ],
       "layout": {
        "template": {
         "data": {
          "bar": [
           {
            "error_x": {
             "color": "#2a3f5f"
            },
            "error_y": {
             "color": "#2a3f5f"
            },
            "marker": {
             "line": {
              "color": "#E5ECF6",
              "width": 0.5
             },
             "pattern": {
              "fillmode": "overlay",
              "size": 10,
              "solidity": 0.2
             }
            },
            "type": "bar"
           }
          ],
          "barpolar": [
           {
            "marker": {
             "line": {
              "color": "#E5ECF6",
              "width": 0.5
             },
             "pattern": {
              "fillmode": "overlay",
              "size": 10,
              "solidity": 0.2
             }
            },
            "type": "barpolar"
           }
          ],
          "carpet": [
           {
            "aaxis": {
             "endlinecolor": "#2a3f5f",
             "gridcolor": "white",
             "linecolor": "white",
             "minorgridcolor": "white",
             "startlinecolor": "#2a3f5f"
            },
            "baxis": {
             "endlinecolor": "#2a3f5f",
             "gridcolor": "white",
             "linecolor": "white",
             "minorgridcolor": "white",
             "startlinecolor": "#2a3f5f"
            },
            "type": "carpet"
           }
          ],
          "choropleth": [
           {
            "colorbar": {
             "outlinewidth": 0,
             "ticks": ""
            },
            "type": "choropleth"
           }
          ],
          "contour": [
           {
            "colorbar": {
             "outlinewidth": 0,
             "ticks": ""
            },
            "colorscale": [
             [
              0,
              "#0d0887"
             ],
             [
              0.1111111111111111,
              "#46039f"
             ],
             [
              0.2222222222222222,
              "#7201a8"
             ],
             [
              0.3333333333333333,
              "#9c179e"
             ],
             [
              0.4444444444444444,
              "#bd3786"
             ],
             [
              0.5555555555555556,
              "#d8576b"
             ],
             [
              0.6666666666666666,
              "#ed7953"
             ],
             [
              0.7777777777777778,
              "#fb9f3a"
             ],
             [
              0.8888888888888888,
              "#fdca26"
             ],
             [
              1,
              "#f0f921"
             ]
            ],
            "type": "contour"
           }
          ],
          "contourcarpet": [
           {
            "colorbar": {
             "outlinewidth": 0,
             "ticks": ""
            },
            "type": "contourcarpet"
           }
          ],
          "heatmap": [
           {
            "colorbar": {
             "outlinewidth": 0,
             "ticks": ""
            },
            "colorscale": [
             [
              0,
              "#0d0887"
             ],
             [
              0.1111111111111111,
              "#46039f"
             ],
             [
              0.2222222222222222,
              "#7201a8"
             ],
             [
              0.3333333333333333,
              "#9c179e"
             ],
             [
              0.4444444444444444,
              "#bd3786"
             ],
             [
              0.5555555555555556,
              "#d8576b"
             ],
             [
              0.6666666666666666,
              "#ed7953"
             ],
             [
              0.7777777777777778,
              "#fb9f3a"
             ],
             [
              0.8888888888888888,
              "#fdca26"
             ],
             [
              1,
              "#f0f921"
             ]
            ],
            "type": "heatmap"
           }
          ],
          "heatmapgl": [
           {
            "colorbar": {
             "outlinewidth": 0,
             "ticks": ""
            },
            "colorscale": [
             [
              0,
              "#0d0887"
             ],
             [
              0.1111111111111111,
              "#46039f"
             ],
             [
              0.2222222222222222,
              "#7201a8"
             ],
             [
              0.3333333333333333,
              "#9c179e"
             ],
             [
              0.4444444444444444,
              "#bd3786"
             ],
             [
              0.5555555555555556,
              "#d8576b"
             ],
             [
              0.6666666666666666,
              "#ed7953"
             ],
             [
              0.7777777777777778,
              "#fb9f3a"
             ],
             [
              0.8888888888888888,
              "#fdca26"
             ],
             [
              1,
              "#f0f921"
             ]
            ],
            "type": "heatmapgl"
           }
          ],
          "histogram": [
           {
            "marker": {
             "pattern": {
              "fillmode": "overlay",
              "size": 10,
              "solidity": 0.2
             }
            },
            "type": "histogram"
           }
          ],
          "histogram2d": [
           {
            "colorbar": {
             "outlinewidth": 0,
             "ticks": ""
            },
            "colorscale": [
             [
              0,
              "#0d0887"
             ],
             [
              0.1111111111111111,
              "#46039f"
             ],
             [
              0.2222222222222222,
              "#7201a8"
             ],
             [
              0.3333333333333333,
              "#9c179e"
             ],
             [
              0.4444444444444444,
              "#bd3786"
             ],
             [
              0.5555555555555556,
              "#d8576b"
             ],
             [
              0.6666666666666666,
              "#ed7953"
             ],
             [
              0.7777777777777778,
              "#fb9f3a"
             ],
             [
              0.8888888888888888,
              "#fdca26"
             ],
             [
              1,
              "#f0f921"
             ]
            ],
            "type": "histogram2d"
           }
          ],
          "histogram2dcontour": [
           {
            "colorbar": {
             "outlinewidth": 0,
             "ticks": ""
            },
            "colorscale": [
             [
              0,
              "#0d0887"
             ],
             [
              0.1111111111111111,
              "#46039f"
             ],
             [
              0.2222222222222222,
              "#7201a8"
             ],
             [
              0.3333333333333333,
              "#9c179e"
             ],
             [
              0.4444444444444444,
              "#bd3786"
             ],
             [
              0.5555555555555556,
              "#d8576b"
             ],
             [
              0.6666666666666666,
              "#ed7953"
             ],
             [
              0.7777777777777778,
              "#fb9f3a"
             ],
             [
              0.8888888888888888,
              "#fdca26"
             ],
             [
              1,
              "#f0f921"
             ]
            ],
            "type": "histogram2dcontour"
           }
          ],
          "mesh3d": [
           {
            "colorbar": {
             "outlinewidth": 0,
             "ticks": ""
            },
            "type": "mesh3d"
           }
          ],
          "parcoords": [
           {
            "line": {
             "colorbar": {
              "outlinewidth": 0,
              "ticks": ""
             }
            },
            "type": "parcoords"
           }
          ],
          "pie": [
           {
            "automargin": true,
            "type": "pie"
           }
          ],
          "scatter": [
           {
            "fillpattern": {
             "fillmode": "overlay",
             "size": 10,
             "solidity": 0.2
            },
            "type": "scatter"
           }
          ],
          "scatter3d": [
           {
            "line": {
             "colorbar": {
              "outlinewidth": 0,
              "ticks": ""
             }
            },
            "marker": {
             "colorbar": {
              "outlinewidth": 0,
              "ticks": ""
             }
            },
            "type": "scatter3d"
           }
          ],
          "scattercarpet": [
           {
            "marker": {
             "colorbar": {
              "outlinewidth": 0,
              "ticks": ""
             }
            },
            "type": "scattercarpet"
           }
          ],
          "scattergeo": [
           {
            "marker": {
             "colorbar": {
              "outlinewidth": 0,
              "ticks": ""
             }
            },
            "type": "scattergeo"
           }
          ],
          "scattergl": [
           {
            "marker": {
             "colorbar": {
              "outlinewidth": 0,
              "ticks": ""
             }
            },
            "type": "scattergl"
           }
          ],
          "scattermapbox": [
           {
            "marker": {
             "colorbar": {
              "outlinewidth": 0,
              "ticks": ""
             }
            },
            "type": "scattermapbox"
           }
          ],
          "scatterpolar": [
           {
            "marker": {
             "colorbar": {
              "outlinewidth": 0,
              "ticks": ""
             }
            },
            "type": "scatterpolar"
           }
          ],
          "scatterpolargl": [
           {
            "marker": {
             "colorbar": {
              "outlinewidth": 0,
              "ticks": ""
             }
            },
            "type": "scatterpolargl"
           }
          ],
          "scatterternary": [
           {
            "marker": {
             "colorbar": {
              "outlinewidth": 0,
              "ticks": ""
             }
            },
            "type": "scatterternary"
           }
          ],
          "surface": [
           {
            "colorbar": {
             "outlinewidth": 0,
             "ticks": ""
            },
            "colorscale": [
             [
              0,
              "#0d0887"
             ],
             [
              0.1111111111111111,
              "#46039f"
             ],
             [
              0.2222222222222222,
              "#7201a8"
             ],
             [
              0.3333333333333333,
              "#9c179e"
             ],
             [
              0.4444444444444444,
              "#bd3786"
             ],
             [
              0.5555555555555556,
              "#d8576b"
             ],
             [
              0.6666666666666666,
              "#ed7953"
             ],
             [
              0.7777777777777778,
              "#fb9f3a"
             ],
             [
              0.8888888888888888,
              "#fdca26"
             ],
             [
              1,
              "#f0f921"
             ]
            ],
            "type": "surface"
           }
          ],
          "table": [
           {
            "cells": {
             "fill": {
              "color": "#EBF0F8"
             },
             "line": {
              "color": "white"
             }
            },
            "header": {
             "fill": {
              "color": "#C8D4E3"
             },
             "line": {
              "color": "white"
             }
            },
            "type": "table"
           }
          ]
         },
         "layout": {
          "annotationdefaults": {
           "arrowcolor": "#2a3f5f",
           "arrowhead": 0,
           "arrowwidth": 1
          },
          "autotypenumbers": "strict",
          "coloraxis": {
           "colorbar": {
            "outlinewidth": 0,
            "ticks": ""
           }
          },
          "colorscale": {
           "diverging": [
            [
             0,
             "#8e0152"
            ],
            [
             0.1,
             "#c51b7d"
            ],
            [
             0.2,
             "#de77ae"
            ],
            [
             0.3,
             "#f1b6da"
            ],
            [
             0.4,
             "#fde0ef"
            ],
            [
             0.5,
             "#f7f7f7"
            ],
            [
             0.6,
             "#e6f5d0"
            ],
            [
             0.7,
             "#b8e186"
            ],
            [
             0.8,
             "#7fbc41"
            ],
            [
             0.9,
             "#4d9221"
            ],
            [
             1,
             "#276419"
            ]
           ],
           "sequential": [
            [
             0,
             "#0d0887"
            ],
            [
             0.1111111111111111,
             "#46039f"
            ],
            [
             0.2222222222222222,
             "#7201a8"
            ],
            [
             0.3333333333333333,
             "#9c179e"
            ],
            [
             0.4444444444444444,
             "#bd3786"
            ],
            [
             0.5555555555555556,
             "#d8576b"
            ],
            [
             0.6666666666666666,
             "#ed7953"
            ],
            [
             0.7777777777777778,
             "#fb9f3a"
            ],
            [
             0.8888888888888888,
             "#fdca26"
            ],
            [
             1,
             "#f0f921"
            ]
           ],
           "sequentialminus": [
            [
             0,
             "#0d0887"
            ],
            [
             0.1111111111111111,
             "#46039f"
            ],
            [
             0.2222222222222222,
             "#7201a8"
            ],
            [
             0.3333333333333333,
             "#9c179e"
            ],
            [
             0.4444444444444444,
             "#bd3786"
            ],
            [
             0.5555555555555556,
             "#d8576b"
            ],
            [
             0.6666666666666666,
             "#ed7953"
            ],
            [
             0.7777777777777778,
             "#fb9f3a"
            ],
            [
             0.8888888888888888,
             "#fdca26"
            ],
            [
             1,
             "#f0f921"
            ]
           ]
          },
          "colorway": [
           "#636efa",
           "#EF553B",
           "#00cc96",
           "#ab63fa",
           "#FFA15A",
           "#19d3f3",
           "#FF6692",
           "#B6E880",
           "#FF97FF",
           "#FECB52"
          ],
          "font": {
           "color": "#2a3f5f"
          },
          "geo": {
           "bgcolor": "white",
           "lakecolor": "white",
           "landcolor": "#E5ECF6",
           "showlakes": true,
           "showland": true,
           "subunitcolor": "white"
          },
          "hoverlabel": {
           "align": "left"
          },
          "hovermode": "closest",
          "mapbox": {
           "style": "light"
          },
          "paper_bgcolor": "white",
          "plot_bgcolor": "#E5ECF6",
          "polar": {
           "angularaxis": {
            "gridcolor": "white",
            "linecolor": "white",
            "ticks": ""
           },
           "bgcolor": "#E5ECF6",
           "radialaxis": {
            "gridcolor": "white",
            "linecolor": "white",
            "ticks": ""
           }
          },
          "scene": {
           "xaxis": {
            "backgroundcolor": "#E5ECF6",
            "gridcolor": "white",
            "gridwidth": 2,
            "linecolor": "white",
            "showbackground": true,
            "ticks": "",
            "zerolinecolor": "white"
           },
           "yaxis": {
            "backgroundcolor": "#E5ECF6",
            "gridcolor": "white",
            "gridwidth": 2,
            "linecolor": "white",
            "showbackground": true,
            "ticks": "",
            "zerolinecolor": "white"
           },
           "zaxis": {
            "backgroundcolor": "#E5ECF6",
            "gridcolor": "white",
            "gridwidth": 2,
            "linecolor": "white",
            "showbackground": true,
            "ticks": "",
            "zerolinecolor": "white"
           }
          },
          "shapedefaults": {
           "line": {
            "color": "#2a3f5f"
           }
          },
          "ternary": {
           "aaxis": {
            "gridcolor": "white",
            "linecolor": "white",
            "ticks": ""
           },
           "baxis": {
            "gridcolor": "white",
            "linecolor": "white",
            "ticks": ""
           },
           "bgcolor": "#E5ECF6",
           "caxis": {
            "gridcolor": "white",
            "linecolor": "white",
            "ticks": ""
           }
          },
          "title": {
           "x": 0.05
          },
          "xaxis": {
           "automargin": true,
           "gridcolor": "white",
           "linecolor": "white",
           "ticks": "",
           "title": {
            "standoff": 15
           },
           "zerolinecolor": "white",
           "zerolinewidth": 2
          },
          "yaxis": {
           "automargin": true,
           "gridcolor": "white",
           "linecolor": "white",
           "ticks": "",
           "title": {
            "standoff": 15
           },
           "zerolinecolor": "white",
           "zerolinewidth": 2
          }
         }
        },
        "title": {
         "text": "Acurácia dos diferentes classificadores"
        },
        "xaxis": {
         "title": {
          "text": "Modelos classificadores treinados"
         }
        },
        "yaxis": {
         "title": {
          "text": "% de Acurácia"
         }
        }
       }
      },
      "text/html": [
       "<div>                            <div id=\"4fb8f8eb-6b91-497f-9a70-ccdaa94eb667\" class=\"plotly-graph-div\" style=\"height:525px; width:100%;\"></div>            <script type=\"text/javascript\">                require([\"plotly\"], function(Plotly) {                    window.PLOTLYENV=window.PLOTLYENV || {};                                    if (document.getElementById(\"4fb8f8eb-6b91-497f-9a70-ccdaa94eb667\")) {                    Plotly.newPlot(                        \"4fb8f8eb-6b91-497f-9a70-ccdaa94eb667\",                        [{\"marker\":{\"color\":\"rgb(179,0,59)\",\"line\":{\"color\":\"rgb(0,0,0)\",\"width\":1}},\"x\":[\"MLP com 42 atributos\",\"MLP com 20 atributos\",\"MLP com 15 atributos\",\"XGBoost com 42 atrib.\",\"XGBoost com 20 atrib.\"],\"y\":[71.34,87.55,72.1,89.22,90.89],\"type\":\"bar\"}],                        {\"title\":{\"text\":\"Acur\\u00e1cia dos diferentes classificadores\"},\"xaxis\":{\"title\":{\"text\":\"Modelos classificadores treinados\"}},\"yaxis\":{\"title\":{\"text\":\"% de Acur\\u00e1cia\"}},\"template\":{\"data\":{\"histogram2dcontour\":[{\"type\":\"histogram2dcontour\",\"colorbar\":{\"outlinewidth\":0,\"ticks\":\"\"},\"colorscale\":[[0.0,\"#0d0887\"],[0.1111111111111111,\"#46039f\"],[0.2222222222222222,\"#7201a8\"],[0.3333333333333333,\"#9c179e\"],[0.4444444444444444,\"#bd3786\"],[0.5555555555555556,\"#d8576b\"],[0.6666666666666666,\"#ed7953\"],[0.7777777777777778,\"#fb9f3a\"],[0.8888888888888888,\"#fdca26\"],[1.0,\"#f0f921\"]]}],\"choropleth\":[{\"type\":\"choropleth\",\"colorbar\":{\"outlinewidth\":0,\"ticks\":\"\"}}],\"histogram2d\":[{\"type\":\"histogram2d\",\"colorbar\":{\"outlinewidth\":0,\"ticks\":\"\"},\"colorscale\":[[0.0,\"#0d0887\"],[0.1111111111111111,\"#46039f\"],[0.2222222222222222,\"#7201a8\"],[0.3333333333333333,\"#9c179e\"],[0.4444444444444444,\"#bd3786\"],[0.5555555555555556,\"#d8576b\"],[0.6666666666666666,\"#ed7953\"],[0.7777777777777778,\"#fb9f3a\"],[0.8888888888888888,\"#fdca26\"],[1.0,\"#f0f921\"]]}],\"heatmap\":[{\"type\":\"heatmap\",\"colorbar\":{\"outlinewidth\":0,\"ticks\":\"\"},\"colorscale\":[[0.0,\"#0d0887\"],[0.1111111111111111,\"#46039f\"],[0.2222222222222222,\"#7201a8\"],[0.3333333333333333,\"#9c179e\"],[0.4444444444444444,\"#bd3786\"],[0.5555555555555556,\"#d8576b\"],[0.6666666666666666,\"#ed7953\"],[0.7777777777777778,\"#fb9f3a\"],[0.8888888888888888,\"#fdca26\"],[1.0,\"#f0f921\"]]}],\"heatmapgl\":[{\"type\":\"heatmapgl\",\"colorbar\":{\"outlinewidth\":0,\"ticks\":\"\"},\"colorscale\":[[0.0,\"#0d0887\"],[0.1111111111111111,\"#46039f\"],[0.2222222222222222,\"#7201a8\"],[0.3333333333333333,\"#9c179e\"],[0.4444444444444444,\"#bd3786\"],[0.5555555555555556,\"#d8576b\"],[0.6666666666666666,\"#ed7953\"],[0.7777777777777778,\"#fb9f3a\"],[0.8888888888888888,\"#fdca26\"],[1.0,\"#f0f921\"]]}],\"contourcarpet\":[{\"type\":\"contourcarpet\",\"colorbar\":{\"outlinewidth\":0,\"ticks\":\"\"}}],\"contour\":[{\"type\":\"contour\",\"colorbar\":{\"outlinewidth\":0,\"ticks\":\"\"},\"colorscale\":[[0.0,\"#0d0887\"],[0.1111111111111111,\"#46039f\"],[0.2222222222222222,\"#7201a8\"],[0.3333333333333333,\"#9c179e\"],[0.4444444444444444,\"#bd3786\"],[0.5555555555555556,\"#d8576b\"],[0.6666666666666666,\"#ed7953\"],[0.7777777777777778,\"#fb9f3a\"],[0.8888888888888888,\"#fdca26\"],[1.0,\"#f0f921\"]]}],\"surface\":[{\"type\":\"surface\",\"colorbar\":{\"outlinewidth\":0,\"ticks\":\"\"},\"colorscale\":[[0.0,\"#0d0887\"],[0.1111111111111111,\"#46039f\"],[0.2222222222222222,\"#7201a8\"],[0.3333333333333333,\"#9c179e\"],[0.4444444444444444,\"#bd3786\"],[0.5555555555555556,\"#d8576b\"],[0.6666666666666666,\"#ed7953\"],[0.7777777777777778,\"#fb9f3a\"],[0.8888888888888888,\"#fdca26\"],[1.0,\"#f0f921\"]]}],\"mesh3d\":[{\"type\":\"mesh3d\",\"colorbar\":{\"outlinewidth\":0,\"ticks\":\"\"}}],\"scatter\":[{\"fillpattern\":{\"fillmode\":\"overlay\",\"size\":10,\"solidity\":0.2},\"type\":\"scatter\"}],\"parcoords\":[{\"type\":\"parcoords\",\"line\":{\"colorbar\":{\"outlinewidth\":0,\"ticks\":\"\"}}}],\"scatterpolargl\":[{\"type\":\"scatterpolargl\",\"marker\":{\"colorbar\":{\"outlinewidth\":0,\"ticks\":\"\"}}}],\"bar\":[{\"error_x\":{\"color\":\"#2a3f5f\"},\"error_y\":{\"color\":\"#2a3f5f\"},\"marker\":{\"line\":{\"color\":\"#E5ECF6\",\"width\":0.5},\"pattern\":{\"fillmode\":\"overlay\",\"size\":10,\"solidity\":0.2}},\"type\":\"bar\"}],\"scattergeo\":[{\"type\":\"scattergeo\",\"marker\":{\"colorbar\":{\"outlinewidth\":0,\"ticks\":\"\"}}}],\"scatterpolar\":[{\"type\":\"scatterpolar\",\"marker\":{\"colorbar\":{\"outlinewidth\":0,\"ticks\":\"\"}}}],\"histogram\":[{\"marker\":{\"pattern\":{\"fillmode\":\"overlay\",\"size\":10,\"solidity\":0.2}},\"type\":\"histogram\"}],\"scattergl\":[{\"type\":\"scattergl\",\"marker\":{\"colorbar\":{\"outlinewidth\":0,\"ticks\":\"\"}}}],\"scatter3d\":[{\"type\":\"scatter3d\",\"line\":{\"colorbar\":{\"outlinewidth\":0,\"ticks\":\"\"}},\"marker\":{\"colorbar\":{\"outlinewidth\":0,\"ticks\":\"\"}}}],\"scattermapbox\":[{\"type\":\"scattermapbox\",\"marker\":{\"colorbar\":{\"outlinewidth\":0,\"ticks\":\"\"}}}],\"scatterternary\":[{\"type\":\"scatterternary\",\"marker\":{\"colorbar\":{\"outlinewidth\":0,\"ticks\":\"\"}}}],\"scattercarpet\":[{\"type\":\"scattercarpet\",\"marker\":{\"colorbar\":{\"outlinewidth\":0,\"ticks\":\"\"}}}],\"carpet\":[{\"aaxis\":{\"endlinecolor\":\"#2a3f5f\",\"gridcolor\":\"white\",\"linecolor\":\"white\",\"minorgridcolor\":\"white\",\"startlinecolor\":\"#2a3f5f\"},\"baxis\":{\"endlinecolor\":\"#2a3f5f\",\"gridcolor\":\"white\",\"linecolor\":\"white\",\"minorgridcolor\":\"white\",\"startlinecolor\":\"#2a3f5f\"},\"type\":\"carpet\"}],\"table\":[{\"cells\":{\"fill\":{\"color\":\"#EBF0F8\"},\"line\":{\"color\":\"white\"}},\"header\":{\"fill\":{\"color\":\"#C8D4E3\"},\"line\":{\"color\":\"white\"}},\"type\":\"table\"}],\"barpolar\":[{\"marker\":{\"line\":{\"color\":\"#E5ECF6\",\"width\":0.5},\"pattern\":{\"fillmode\":\"overlay\",\"size\":10,\"solidity\":0.2}},\"type\":\"barpolar\"}],\"pie\":[{\"automargin\":true,\"type\":\"pie\"}]},\"layout\":{\"autotypenumbers\":\"strict\",\"colorway\":[\"#636efa\",\"#EF553B\",\"#00cc96\",\"#ab63fa\",\"#FFA15A\",\"#19d3f3\",\"#FF6692\",\"#B6E880\",\"#FF97FF\",\"#FECB52\"],\"font\":{\"color\":\"#2a3f5f\"},\"hovermode\":\"closest\",\"hoverlabel\":{\"align\":\"left\"},\"paper_bgcolor\":\"white\",\"plot_bgcolor\":\"#E5ECF6\",\"polar\":{\"bgcolor\":\"#E5ECF6\",\"angularaxis\":{\"gridcolor\":\"white\",\"linecolor\":\"white\",\"ticks\":\"\"},\"radialaxis\":{\"gridcolor\":\"white\",\"linecolor\":\"white\",\"ticks\":\"\"}},\"ternary\":{\"bgcolor\":\"#E5ECF6\",\"aaxis\":{\"gridcolor\":\"white\",\"linecolor\":\"white\",\"ticks\":\"\"},\"baxis\":{\"gridcolor\":\"white\",\"linecolor\":\"white\",\"ticks\":\"\"},\"caxis\":{\"gridcolor\":\"white\",\"linecolor\":\"white\",\"ticks\":\"\"}},\"coloraxis\":{\"colorbar\":{\"outlinewidth\":0,\"ticks\":\"\"}},\"colorscale\":{\"sequential\":[[0.0,\"#0d0887\"],[0.1111111111111111,\"#46039f\"],[0.2222222222222222,\"#7201a8\"],[0.3333333333333333,\"#9c179e\"],[0.4444444444444444,\"#bd3786\"],[0.5555555555555556,\"#d8576b\"],[0.6666666666666666,\"#ed7953\"],[0.7777777777777778,\"#fb9f3a\"],[0.8888888888888888,\"#fdca26\"],[1.0,\"#f0f921\"]],\"sequentialminus\":[[0.0,\"#0d0887\"],[0.1111111111111111,\"#46039f\"],[0.2222222222222222,\"#7201a8\"],[0.3333333333333333,\"#9c179e\"],[0.4444444444444444,\"#bd3786\"],[0.5555555555555556,\"#d8576b\"],[0.6666666666666666,\"#ed7953\"],[0.7777777777777778,\"#fb9f3a\"],[0.8888888888888888,\"#fdca26\"],[1.0,\"#f0f921\"]],\"diverging\":[[0,\"#8e0152\"],[0.1,\"#c51b7d\"],[0.2,\"#de77ae\"],[0.3,\"#f1b6da\"],[0.4,\"#fde0ef\"],[0.5,\"#f7f7f7\"],[0.6,\"#e6f5d0\"],[0.7,\"#b8e186\"],[0.8,\"#7fbc41\"],[0.9,\"#4d9221\"],[1,\"#276419\"]]},\"xaxis\":{\"gridcolor\":\"white\",\"linecolor\":\"white\",\"ticks\":\"\",\"title\":{\"standoff\":15},\"zerolinecolor\":\"white\",\"automargin\":true,\"zerolinewidth\":2},\"yaxis\":{\"gridcolor\":\"white\",\"linecolor\":\"white\",\"ticks\":\"\",\"title\":{\"standoff\":15},\"zerolinecolor\":\"white\",\"automargin\":true,\"zerolinewidth\":2},\"scene\":{\"xaxis\":{\"backgroundcolor\":\"#E5ECF6\",\"gridcolor\":\"white\",\"linecolor\":\"white\",\"showbackground\":true,\"ticks\":\"\",\"zerolinecolor\":\"white\",\"gridwidth\":2},\"yaxis\":{\"backgroundcolor\":\"#E5ECF6\",\"gridcolor\":\"white\",\"linecolor\":\"white\",\"showbackground\":true,\"ticks\":\"\",\"zerolinecolor\":\"white\",\"gridwidth\":2},\"zaxis\":{\"backgroundcolor\":\"#E5ECF6\",\"gridcolor\":\"white\",\"linecolor\":\"white\",\"showbackground\":true,\"ticks\":\"\",\"zerolinecolor\":\"white\",\"gridwidth\":2}},\"shapedefaults\":{\"line\":{\"color\":\"#2a3f5f\"}},\"annotationdefaults\":{\"arrowcolor\":\"#2a3f5f\",\"arrowhead\":0,\"arrowwidth\":1},\"geo\":{\"bgcolor\":\"white\",\"landcolor\":\"#E5ECF6\",\"subunitcolor\":\"white\",\"showland\":true,\"showlakes\":true,\"lakecolor\":\"white\"},\"title\":{\"x\":0.05},\"mapbox\":{\"style\":\"light\"}}}},                        {\"responsive\": true}                    ).then(function(){\n",
       "                            \n",
       "var gd = document.getElementById('4fb8f8eb-6b91-497f-9a70-ccdaa94eb667');\n",
       "var x = new MutationObserver(function (mutations, observer) {{\n",
       "        var display = window.getComputedStyle(gd).display;\n",
       "        if (!display || display === 'none') {{\n",
       "            console.log([gd, 'removed!']);\n",
       "            Plotly.purge(gd);\n",
       "            observer.disconnect();\n",
       "        }}\n",
       "}});\n",
       "\n",
       "// Listen for the removal of the full notebook cells\n",
       "var notebookContainer = gd.closest('#notebook-container');\n",
       "if (notebookContainer) {{\n",
       "    x.observe(notebookContainer, {childList: true});\n",
       "}}\n",
       "\n",
       "// Listen for the clearing of the current output cell\n",
       "var outputEl = gd.closest('.output');\n",
       "if (outputEl) {{\n",
       "    x.observe(outputEl, {childList: true});\n",
       "}}\n",
       "\n",
       "                        })                };                });            </script>        </div>"
      ]
     },
     "metadata": {},
     "output_type": "display_data"
    }
   ],
   "source": [
    "trace1 = go.Bar(\n",
    "                x = model_list,\n",
    "                y = cv_results,\n",
    "                marker = dict(color = 'rgb(179,0,59)',\n",
    "                              line=dict(color='rgb(0,0,0)',width=1)))\n",
    "layout = go.Layout(title = 'Acurácia dos diferentes classificadores' , xaxis = dict(title = 'Modelos classificadores treinados'), yaxis = dict(title = '% de Acurácia'))\n",
    "fig = go.Figure(data = [trace1], layout = layout)\n",
    "fig.show()"
   ]
  }
 ],
 "metadata": {
  "kernelspec": {
   "display_name": "Python 3 (ipykernel)",
   "language": "python",
   "name": "python3"
  },
  "language_info": {
   "codemirror_mode": {
    "name": "ipython",
    "version": 3
   },
   "file_extension": ".py",
   "mimetype": "text/x-python",
   "name": "python",
   "nbconvert_exporter": "python",
   "pygments_lexer": "ipython3",
   "version": "3.9.13"
  }
 },
 "nbformat": 4,
 "nbformat_minor": 5
}
