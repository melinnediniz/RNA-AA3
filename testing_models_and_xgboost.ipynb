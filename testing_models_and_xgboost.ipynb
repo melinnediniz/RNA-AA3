{
 "cells": [
  {
   "cell_type": "markdown",
   "id": "e69fee88",
   "metadata": {},
   "source": [
    "# 1.2 Construção do Modelo"
   ]
  },
  {
   "cell_type": "code",
   "execution_count": 1,
   "id": "8873a717",
   "metadata": {},
   "outputs": [],
   "source": [
    "import pandas as pd\n",
    "import numpy as np\n",
    "import seaborn as sns\n",
    "import matplotlib.pyplot as plt\n",
    "import math\n",
    "\n",
    "from utilities.show_results import plot_confusion_matrix, get_accuracy, get_precision, f_score\n",
    "from utilities.pearson_correlation import choose_with_pearson\n",
    "from utilities.neuron_architectures import create_architectures, test_alphas\n",
    "\n",
    "from sklearn.model_selection import train_test_split, cross_val_score, KFold\n",
    "from sklearn.neural_network import MLPClassifier\n",
    "from sklearn import metrics\n",
    "from sklearn.ensemble import GradientBoostingClassifier\n",
    "from sklearn.metrics import mean_squared_error\n",
    "\n",
    "import xgboost as xgb\n",
    "from joblib import load, dump"
   ]
  },
  {
   "cell_type": "markdown",
   "id": "63f1cf61",
   "metadata": {},
   "source": [
    "## 1.2.1 Abrindo o dataset e tratando os dados"
   ]
  },
  {
   "cell_type": "code",
   "execution_count": 2,
   "id": "ad85e141",
   "metadata": {},
   "outputs": [],
   "source": [
    "data = pd.read_csv('PCOS.csv')"
   ]
  },
  {
   "cell_type": "code",
   "execution_count": 3,
   "id": "d689f6e0",
   "metadata": {},
   "outputs": [
    {
     "data": {
      "text/html": [
       "<div>\n",
       "<style scoped>\n",
       "    .dataframe tbody tr th:only-of-type {\n",
       "        vertical-align: middle;\n",
       "    }\n",
       "\n",
       "    .dataframe tbody tr th {\n",
       "        vertical-align: top;\n",
       "    }\n",
       "\n",
       "    .dataframe thead th {\n",
       "        text-align: right;\n",
       "    }\n",
       "</style>\n",
       "<table border=\"1\" class=\"dataframe\">\n",
       "  <thead>\n",
       "    <tr style=\"text-align: right;\">\n",
       "      <th></th>\n",
       "      <th>Unnamed: 0</th>\n",
       "      <th>PCOS (Y/N)</th>\n",
       "      <th>Age (yrs)</th>\n",
       "      <th>Weight (Kg)</th>\n",
       "      <th>Height(Cm)</th>\n",
       "      <th>BMI</th>\n",
       "      <th>Blood Group</th>\n",
       "      <th>Pulse rate(bpm)</th>\n",
       "      <th>RR (breaths/min)</th>\n",
       "      <th>Hb(g/dl)</th>\n",
       "      <th>...</th>\n",
       "      <th>Pimples(Y/N)</th>\n",
       "      <th>Fast food (Y/N)</th>\n",
       "      <th>Reg.Exercise(Y/N)</th>\n",
       "      <th>BP _Systolic (mmHg)</th>\n",
       "      <th>BP _Diastolic (mmHg)</th>\n",
       "      <th>Follicle No. (L)</th>\n",
       "      <th>Follicle No. (R)</th>\n",
       "      <th>Avg. F size (L) (mm)</th>\n",
       "      <th>Avg. F size (R) (mm)</th>\n",
       "      <th>Endometrium (mm)</th>\n",
       "    </tr>\n",
       "  </thead>\n",
       "  <tbody>\n",
       "    <tr>\n",
       "      <th>0</th>\n",
       "      <td>0</td>\n",
       "      <td>0</td>\n",
       "      <td>28</td>\n",
       "      <td>44.6</td>\n",
       "      <td>152.0</td>\n",
       "      <td>19.3</td>\n",
       "      <td>15</td>\n",
       "      <td>78</td>\n",
       "      <td>22</td>\n",
       "      <td>10.48</td>\n",
       "      <td>...</td>\n",
       "      <td>0</td>\n",
       "      <td>1.0</td>\n",
       "      <td>0</td>\n",
       "      <td>110</td>\n",
       "      <td>80</td>\n",
       "      <td>3</td>\n",
       "      <td>3</td>\n",
       "      <td>18.0</td>\n",
       "      <td>18.0</td>\n",
       "      <td>8.5</td>\n",
       "    </tr>\n",
       "    <tr>\n",
       "      <th>1</th>\n",
       "      <td>1</td>\n",
       "      <td>0</td>\n",
       "      <td>36</td>\n",
       "      <td>65.0</td>\n",
       "      <td>161.5</td>\n",
       "      <td>24.9</td>\n",
       "      <td>15</td>\n",
       "      <td>74</td>\n",
       "      <td>20</td>\n",
       "      <td>11.70</td>\n",
       "      <td>...</td>\n",
       "      <td>0</td>\n",
       "      <td>0.0</td>\n",
       "      <td>0</td>\n",
       "      <td>120</td>\n",
       "      <td>70</td>\n",
       "      <td>3</td>\n",
       "      <td>5</td>\n",
       "      <td>15.0</td>\n",
       "      <td>14.0</td>\n",
       "      <td>3.7</td>\n",
       "    </tr>\n",
       "  </tbody>\n",
       "</table>\n",
       "<p>2 rows × 43 columns</p>\n",
       "</div>"
      ],
      "text/plain": [
       "   Unnamed: 0  PCOS (Y/N)   Age (yrs)  Weight (Kg)  Height(Cm)    BMI  \\\n",
       "0           0           0          28         44.6        152.0  19.3   \n",
       "1           1           0          36         65.0        161.5  24.9   \n",
       "\n",
       "   Blood Group  Pulse rate(bpm)   RR (breaths/min)  Hb(g/dl)  ...  \\\n",
       "0           15                78                22     10.48  ...   \n",
       "1           15                74                20     11.70  ...   \n",
       "\n",
       "   Pimples(Y/N)  Fast food (Y/N)  Reg.Exercise(Y/N)  BP _Systolic (mmHg)  \\\n",
       "0             0              1.0                  0                  110   \n",
       "1             0              0.0                  0                  120   \n",
       "\n",
       "   BP _Diastolic (mmHg)  Follicle No. (L)  Follicle No. (R)  \\\n",
       "0                    80                 3                 3   \n",
       "1                    70                 3                 5   \n",
       "\n",
       "   Avg. F size (L) (mm)  Avg. F size (R) (mm)  Endometrium (mm)  \n",
       "0                  18.0                  18.0               8.5  \n",
       "1                  15.0                  14.0               3.7  \n",
       "\n",
       "[2 rows x 43 columns]"
      ]
     },
     "execution_count": 3,
     "metadata": {},
     "output_type": "execute_result"
    }
   ],
   "source": [
    "data.head(2)"
   ]
  },
  {
   "cell_type": "code",
   "execution_count": 4,
   "id": "07f92017",
   "metadata": {},
   "outputs": [
    {
     "name": "stdout",
     "output_type": "stream",
     "text": [
      "<class 'pandas.core.frame.DataFrame'>\n",
      "RangeIndex: 538 entries, 0 to 537\n",
      "Data columns (total 43 columns):\n",
      " #   Column                  Non-Null Count  Dtype  \n",
      "---  ------                  --------------  -----  \n",
      " 0   Unnamed: 0              538 non-null    int64  \n",
      " 1   PCOS (Y/N)              538 non-null    int64  \n",
      " 2    Age (yrs)              538 non-null    int64  \n",
      " 3   Weight (Kg)             538 non-null    float64\n",
      " 4   Height(Cm)              538 non-null    float64\n",
      " 5   BMI                     538 non-null    float64\n",
      " 6   Blood Group             538 non-null    int64  \n",
      " 7   Pulse rate(bpm)         538 non-null    int64  \n",
      " 8   RR (breaths/min)        538 non-null    int64  \n",
      " 9   Hb(g/dl)                538 non-null    float64\n",
      " 10  Cycle(R/I)              538 non-null    int64  \n",
      " 11  Cycle length(days)      538 non-null    int64  \n",
      " 12  Marraige Status (Yrs)   538 non-null    float64\n",
      " 13  Pregnant(Y/N)           538 non-null    int64  \n",
      " 14  No. of abortions        538 non-null    int64  \n",
      " 15    I   beta-HCG(mIU/mL)  538 non-null    float64\n",
      " 16  II    beta-HCG(mIU/mL)  538 non-null    float64\n",
      " 17  FSH(mIU/mL)             538 non-null    float64\n",
      " 18  LH(mIU/mL)              538 non-null    float64\n",
      " 19  FSH/LH                  538 non-null    float64\n",
      " 20  Hip(inch)               538 non-null    int64  \n",
      " 21  Waist(inch)             538 non-null    int64  \n",
      " 22  Waist:Hip Ratio         538 non-null    float64\n",
      " 23  TSH (mIU/L)             538 non-null    float64\n",
      " 24  AMH(ng/mL)              538 non-null    float64\n",
      " 25  PRL(ng/mL)              538 non-null    float64\n",
      " 26  Vit D3 (ng/mL)          538 non-null    float64\n",
      " 27  PRG(ng/mL)              538 non-null    float64\n",
      " 28  RBS(mg/dl)              538 non-null    float64\n",
      " 29  Weight gain(Y/N)        538 non-null    int64  \n",
      " 30  hair growth(Y/N)        538 non-null    int64  \n",
      " 31  Skin darkening (Y/N)    538 non-null    int64  \n",
      " 32  Hair loss(Y/N)          538 non-null    int64  \n",
      " 33  Pimples(Y/N)            538 non-null    int64  \n",
      " 34  Fast food (Y/N)         538 non-null    float64\n",
      " 35  Reg.Exercise(Y/N)       538 non-null    int64  \n",
      " 36  BP _Systolic (mmHg)     538 non-null    int64  \n",
      " 37  BP _Diastolic (mmHg)    538 non-null    int64  \n",
      " 38  Follicle No. (L)        538 non-null    int64  \n",
      " 39  Follicle No. (R)        538 non-null    int64  \n",
      " 40  Avg. F size (L) (mm)    538 non-null    float64\n",
      " 41  Avg. F size (R) (mm)    538 non-null    float64\n",
      " 42  Endometrium (mm)        538 non-null    float64\n",
      "dtypes: float64(21), int64(22)\n",
      "memory usage: 180.9 KB\n"
     ]
    }
   ],
   "source": [
    "data.info()"
   ]
  },
  {
   "cell_type": "markdown",
   "id": "0a267996",
   "metadata": {},
   "source": [
    "## Usando a correlação de Pearson para encontrar os melhores atributos preditores"
   ]
  },
  {
   "cell_type": "code",
   "execution_count": 5,
   "id": "9c919840",
   "metadata": {},
   "outputs": [],
   "source": [
    "X = data.drop(columns=['PCOS (Y/N)'], axis=1)\n",
    "y = data[\"PCOS (Y/N)\"]"
   ]
  },
  {
   "cell_type": "code",
   "execution_count": 6,
   "id": "471b96b4",
   "metadata": {},
   "outputs": [],
   "source": [
    "X_selected, _ = choose_with_pearson(20, X, y)"
   ]
  },
  {
   "cell_type": "code",
   "execution_count": 7,
   "id": "1c824cfe",
   "metadata": {
    "scrolled": true
   },
   "outputs": [
    {
     "data": {
      "text/plain": [
       "PCOS (Y/N)                1.000000\n",
       "Follicle No. (R)          0.650929\n",
       "Follicle No. (L)          0.601208\n",
       "Skin darkening (Y/N)      0.481323\n",
       "hair growth(Y/N)          0.466508\n",
       "Weight gain(Y/N)          0.443093\n",
       "Cycle(R/I)                0.401837\n",
       "Fast food (Y/N)           0.380985\n",
       "Pimples(Y/N)              0.290335\n",
       "AMH(ng/mL)                0.263974\n",
       "Weight (Kg)               0.209969\n",
       "BMI                       0.198854\n",
       "Hair loss(Y/N)            0.176496\n",
       "Waist(inch)               0.161922\n",
       "Hip(inch)                 0.160882\n",
       "Avg. F size (L) (mm)      0.129997\n",
       "Endometrium (mm)          0.107639\n",
       "Avg. F size (R) (mm)      0.094528\n",
       "Pulse rate(bpm)           0.092699\n",
       "Hb(g/dl)                  0.087809\n",
       "Vit D3 (ng/mL)            0.085825\n",
       "Reg.Exercise(Y/N)         0.071979\n",
       "Height(Cm)                0.065465\n",
       "LH(mIU/mL)                0.064074\n",
       "Unnamed: 0                0.057574\n",
       "RBS(mg/dl)                0.049452\n",
       "RR (breaths/min)          0.038641\n",
       "Blood Group               0.033701\n",
       "BP _Diastolic (mmHg)      0.033562\n",
       "II    beta-HCG(mIU/mL)    0.012808\n",
       "Waist:Hip Ratio           0.009309\n",
       "BP _Systolic (mmHg)       0.007923\n",
       "PRL(ng/mL)                0.001649\n",
       "TSH (mIU/L)              -0.005277\n",
       "FSH/LH                   -0.018512\n",
       "Pregnant(Y/N)            -0.027632\n",
       "  I   beta-HCG(mIU/mL)   -0.028074\n",
       "FSH(mIU/mL)              -0.030384\n",
       "PRG(ng/mL)               -0.043897\n",
       "No. of abortions         -0.057316\n",
       "Marraige Status (Yrs)    -0.113406\n",
       " Age (yrs)               -0.171349\n",
       "Cycle length(days)       -0.183811\n",
       "Name: PCOS (Y/N), dtype: float64"
      ]
     },
     "execution_count": 7,
     "metadata": {},
     "output_type": "execute_result"
    }
   ],
   "source": [
    "correlation = data.corr()\n",
    "correlation[\"PCOS (Y/N)\"].sort_values(ascending=False)"
   ]
  },
  {
   "cell_type": "code",
   "execution_count": 8,
   "id": "e3e37f53",
   "metadata": {},
   "outputs": [],
   "source": [
    "selected_df = pd.merge(X_selected, data['PCOS (Y/N)'], left_index=True, right_index=True)\n",
    "selected_df.to_csv(\"data/PCOS_selected_pearson.csv\", index=False)"
   ]
  },
  {
   "cell_type": "markdown",
   "id": "a4f09511",
   "metadata": {},
   "source": [
    "## Separando o conjunto de testes e treino\n",
    "\n",
    "Partição 70/30"
   ]
  },
  {
   "cell_type": "code",
   "execution_count": 9,
   "id": "32f668c7",
   "metadata": {},
   "outputs": [
    {
     "data": {
      "text/plain": [
       "((376, 42), (162, 42), 61, 101)"
      ]
     },
     "execution_count": 9,
     "metadata": {},
     "output_type": "execute_result"
    }
   ],
   "source": [
    "X_train, X_test, y_train, y_test = train_test_split(X, y,test_size=0.30)\n",
    "\n",
    "X_train.shape, X_test.shape, (y_test == 1).sum(), (y_test == 0).sum()"
   ]
  },
  {
   "cell_type": "markdown",
   "id": "1bb1dc9d",
   "metadata": {},
   "source": [
    "### Normalizando os atributos preditores"
   ]
  },
  {
   "cell_type": "code",
   "execution_count": 10,
   "id": "2e70461f",
   "metadata": {},
   "outputs": [
    {
     "name": "stderr",
     "output_type": "stream",
     "text": [
      "C:\\Users\\Callidus\\anaconda3\\lib\\site-packages\\numpy\\core\\fromnumeric.py:84: FutureWarning: In a future version, DataFrame.min(axis=None) will return a scalar min over the entire DataFrame. To retain the old behavior, use 'frame.min(axis=0)' or just 'frame.min()'\n",
      "  return reduction(axis=axis, out=out, **passkwargs)\n",
      "C:\\Users\\Callidus\\anaconda3\\lib\\site-packages\\numpy\\core\\fromnumeric.py:84: FutureWarning: In a future version, DataFrame.max(axis=None) will return a scalar max over the entire DataFrame. To retain the old behavior, use 'frame.max(axis=0)' or just 'frame.max()'\n",
      "  return reduction(axis=axis, out=out, **passkwargs)\n"
     ]
    }
   ],
   "source": [
    "X_train_norm = (X_train - np.min(X_train))/(np.max(X_train) - np.min(X_train))\n",
    "\n",
    "X_test_norm = (X_test - np.min(X_train))/(np.max(X_train) - np.min(X_train))"
   ]
  },
  {
   "cell_type": "markdown",
   "id": "f06b28f9",
   "metadata": {},
   "source": [
    "## Resultados da busca em grade"
   ]
  },
  {
   "cell_type": "markdown",
   "id": "6dfe92b8",
   "metadata": {},
   "source": [
    "### Carregando o melhor modelo da busca em grade com todos os parâmetros"
   ]
  },
  {
   "cell_type": "code",
   "execution_count": 11,
   "id": "ac8c736b",
   "metadata": {},
   "outputs": [],
   "source": [
    "clf_45 = load('models/pcos-diagnosis-45-params.joblib')"
   ]
  },
  {
   "cell_type": "code",
   "execution_count": 12,
   "id": "0112e07f",
   "metadata": {},
   "outputs": [
    {
     "name": "stdout",
     "output_type": "stream",
     "text": [
      "ACURÁCIA: 0.8996\n",
      "F-SCORE: 0.8996\n"
     ]
    },
    {
     "data": {
      "image/png": "[encoded data removed]",
      "text/plain": [
       "<Figure size 400x400 with 1 Axes>"
      ]
     },
     "metadata": {},
     "output_type": "display_data"
    }
   ],
   "source": [
    "y_pred = clf_45.predict(X.values)\n",
    "\n",
    "get_accuracy(y, y_pred)\n",
    "f_score(y, y_pred)\n",
    "plot_confusion_matrix(y, y_pred)"
   ]
  },
  {
   "cell_type": "markdown",
   "id": "3f0a63a7",
   "metadata": {},
   "source": [
    "### Carregando o melhor modelo da busca em grade com 20 parâmetros escolhidos a partir da correlação de Pearson"
   ]
  },
  {
   "cell_type": "code",
   "execution_count": 13,
   "id": "3a672165",
   "metadata": {},
   "outputs": [],
   "source": [
    "clf_20_pearson = load('models/pcos-diagnosis-20-params.joblib')"
   ]
  },
  {
   "cell_type": "code",
   "execution_count": 14,
   "id": "dcc80511",
   "metadata": {},
   "outputs": [
    {
     "name": "stdout",
     "output_type": "stream",
     "text": [
      "ACURÁCIA: 0.9033\n",
      "F-SCORE: 0.9033\n"
     ]
    },
    {
     "data": {
      "image/png": "[encoded data removed]",
      "text/plain": [
       "<Figure size 400x400 with 1 Axes>"
      ]
     },
     "metadata": {},
     "output_type": "display_data"
    }
   ],
   "source": [
    "y_pred = clf_20_pearson.predict(X[X_selected.columns].values)\n",
    "\n",
    "get_accuracy(y, y_pred)\n",
    "f_score(y, y_pred)\n",
    "plot_confusion_matrix(y, y_pred)"
   ]
  },
  {
   "cell_type": "markdown",
   "id": "b4a4bbfc",
   "metadata": {},
   "source": [
    "### Carregando o melhor modelo da busca em grade com 20 parâmetros escolhidos com SelectK"
   ]
  },
  {
   "cell_type": "code",
   "execution_count": 15,
   "id": "c7e20679",
   "metadata": {},
   "outputs": [],
   "source": [
    "clf_20_selectk = load('models/pcos-diagnosis-20-params-selectk.joblib')"
   ]
  },
  {
   "cell_type": "code",
   "execution_count": 16,
   "id": "db1f9191",
   "metadata": {},
   "outputs": [],
   "source": [
    "df = pd.read_csv(\"data/PCOS_selected_features.csv\")\n",
    "X_2 = df.drop(columns=[\"PCOS (Y/N)\"], axis=1)\n",
    "y_2 = df[\"PCOS (Y/N)\"]"
   ]
  },
  {
   "cell_type": "code",
   "execution_count": 17,
   "id": "425b12aa",
   "metadata": {},
   "outputs": [
    {
     "name": "stdout",
     "output_type": "stream",
     "text": [
      "ACURÁCIA: 0.5929\n",
      "F-SCORE: 0.5929\n"
     ]
    },
    {
     "data": {
      "image/png": "[encoded data removed]",
      "text/plain": [
       "<Figure size 400x400 with 1 Axes>"
      ]
     },
     "metadata": {},
     "output_type": "display_data"
    }
   ],
   "source": [
    "y_pred = clf_20_selectk.predict(X_2.values)\n",
    "\n",
    "get_accuracy(y_2, y_pred)\n",
    "f_score(y_2, y_pred)\n",
    "plot_confusion_matrix(y_2, y_pred)"
   ]
  },
  {
   "cell_type": "markdown",
   "id": "701c0024",
   "metadata": {},
   "source": [
    "## Algoritmo XGBoost"
   ]
  },
  {
   "cell_type": "code",
   "execution_count": 18,
   "id": "5437c171",
   "metadata": {},
   "outputs": [
    {
     "name": "stdout",
     "output_type": "stream",
     "text": [
      "0.8518518518518519\n",
      "=-=-=-=-=-=-=\n",
      "0.8580246913580247\n"
     ]
    }
   ],
   "source": [
    "clf = GradientBoostingClassifier(\n",
    "    max_depth=2,\n",
    "    n_estimators=120,\n",
    "    random_state=0).fit(X_train_norm, y_train)\n",
    "\n",
    "print(clf.score(X_test_norm, y_test))\n",
    "\n",
    "print(\"=-=-=-=-=-=-=\")\n",
    "\n",
    "errors = [mean_squared_error(y_test, y_pred)\n",
    "          for y_pred in clf.staged_predict(X_test_norm)]\n",
    "\n",
    "best_n_estimator = np.argmin(errors) + 1\n",
    "\n",
    "clf_best =  GradientBoostingClassifier(\n",
    "    max_depth=2,\n",
    "    n_estimators=best_n_estimator,\n",
    "    random_state=0).fit(X_train_norm, y_train)\n",
    "\n",
    "print(clf_best.score(X_test_norm, y_test))\n",
    "\n",
    "y_pred = clf.predict(X_test_norm)"
   ]
  },
  {
   "cell_type": "code",
   "execution_count": 19,
   "id": "db742a2d",
   "metadata": {},
   "outputs": [
    {
     "name": "stdout",
     "output_type": "stream",
     "text": [
      "ACURÁCIA: 0.8519\n",
      "F-SCORE: 0.8519\n"
     ]
    },
    {
     "data": {
      "image/png": "[encoded data removed]",
      "text/plain": [
       "<Figure size 400x400 with 1 Axes>"
      ]
     },
     "metadata": {},
     "output_type": "display_data"
    }
   ],
   "source": [
    "get_accuracy(y_test, y_pred)\n",
    "f_score(y_test, y_pred)\n",
    "plot_confusion_matrix(y_test, y_pred)"
   ]
  },
  {
   "cell_type": "markdown",
   "id": "c04f25ab",
   "metadata": {},
   "source": [
    "### Utilizando a biblioteca xgboost para prever somente com 20 atributos preditores selecionados a partir da correlação de Pearson"
   ]
  },
  {
   "cell_type": "code",
   "execution_count": 20,
   "id": "f685b19c",
   "metadata": {},
   "outputs": [
    {
     "name": "stderr",
     "output_type": "stream",
     "text": [
      "C:\\Users\\Callidus\\anaconda3\\lib\\site-packages\\numpy\\core\\fromnumeric.py:84: FutureWarning: In a future version, DataFrame.min(axis=None) will return a scalar min over the entire DataFrame. To retain the old behavior, use 'frame.min(axis=0)' or just 'frame.min()'\n",
      "  return reduction(axis=axis, out=out, **passkwargs)\n",
      "C:\\Users\\Callidus\\anaconda3\\lib\\site-packages\\numpy\\core\\fromnumeric.py:84: FutureWarning: In a future version, DataFrame.max(axis=None) will return a scalar max over the entire DataFrame. To retain the old behavior, use 'frame.max(axis=0)' or just 'frame.max()'\n",
      "  return reduction(axis=axis, out=out, **passkwargs)\n"
     ]
    }
   ],
   "source": [
    "X_train, X_test, y_train, y_test = train_test_split(X_selected, y,test_size=0.30)\n",
    "\n",
    "X_train_norm = (X_train - np.min(X_train))/(np.max(X_train) - np.min(X_train))\n",
    "X_test_norm = (X_test - np.min(X_train))/(np.max(X_train) - np.min(X_train))"
   ]
  },
  {
   "cell_type": "code",
   "execution_count": 21,
   "id": "ec0c5c95",
   "metadata": {},
   "outputs": [],
   "source": [
    "clf_xgb = xgb.XGBClassifier()"
   ]
  },
  {
   "cell_type": "code",
   "execution_count": 22,
   "id": "a1cffb1e",
   "metadata": {},
   "outputs": [
    {
     "data": {
      "text/plain": [
       "0.9015087719298247"
      ]
     },
     "execution_count": 22,
     "metadata": {},
     "output_type": "execute_result"
    }
   ],
   "source": [
    "xgb_results = cross_val_score(clf_xgb, X_train_norm.values, y_train, cv=5)\n",
    "xgb_results.mean()"
   ]
  },
  {
   "cell_type": "code",
   "execution_count": 23,
   "id": "f90c1fde",
   "metadata": {},
   "outputs": [
    {
     "data": {
      "text/plain": [
       "0.9014736842105263"
      ]
     },
     "execution_count": 23,
     "metadata": {},
     "output_type": "execute_result"
    }
   ],
   "source": [
    "clf_xgb_modified = xgb.XGBClassifier(max_depth=2)\n",
    "cross_val_score(clf_xgb_modified, X_train_norm.values, y_train).mean()"
   ]
  },
  {
   "cell_type": "code",
   "execution_count": 24,
   "id": "7da501c5",
   "metadata": {},
   "outputs": [
    {
     "data": {
      "text/plain": [
       "0.922842105263158"
      ]
     },
     "execution_count": 24,
     "metadata": {},
     "output_type": "execute_result"
    }
   ],
   "source": [
    "class_xgb = xgb.XGBClassifier(booster='gblinear')\n",
    "cross_val_score(class_xgb, X_train_norm.values, y_train).mean()"
   ]
  },
  {
   "cell_type": "code",
   "execution_count": 25,
   "id": "7c255c61",
   "metadata": {},
   "outputs": [
    {
     "data": {
      "text/plain": [
       "XGBClassifier(base_score=None, booster='gblinear', callbacks=None,\n",
       "              colsample_bylevel=None, colsample_bynode=None,\n",
       "              colsample_bytree=None, early_stopping_rounds=None,\n",
       "              enable_categorical=False, eval_metric=None, feature_types=None,\n",
       "              gamma=None, gpu_id=None, grow_policy=None, importance_type=None,\n",
       "              interaction_constraints=None, learning_rate=None, max_bin=None,\n",
       "              max_cat_threshold=None, max_cat_to_onehot=None,\n",
       "              max_delta_step=None, max_depth=None, max_leaves=None,\n",
       "              min_child_weight=None, missing=nan, monotone_constraints=None,\n",
       "              n_estimators=100, n_jobs=None, num_parallel_tree=None,\n",
       "              predictor=None, random_state=None, ...)"
      ]
     },
     "execution_count": 25,
     "metadata": {},
     "output_type": "execute_result"
    }
   ],
   "source": [
    "class_xgb.fit(X_train_norm.values, y_train)"
   ]
  },
  {
   "cell_type": "code",
   "execution_count": 26,
   "id": "ddd8a111",
   "metadata": {},
   "outputs": [],
   "source": [
    "y_xgb_pred = class_xgb.predict(X_test_norm)"
   ]
  },
  {
   "cell_type": "code",
   "execution_count": 27,
   "id": "2f2a1be1",
   "metadata": {},
   "outputs": [
    {
     "name": "stdout",
     "output_type": "stream",
     "text": [
      "ACURÁCIA: 0.8951\n"
     ]
    },
    {
     "data": {
      "image/png": "[encoded data removed]",
      "text/plain": [
       "<Figure size 400x400 with 1 Axes>"
      ]
     },
     "metadata": {},
     "output_type": "display_data"
    }
   ],
   "source": [
    "get_accuracy(y_test, y_xgb_pred)\n",
    "plot_confusion_matrix(y_test, y_xgb_pred)"
   ]
  },
  {
   "cell_type": "code",
   "execution_count": 28,
   "id": "27500b53",
   "metadata": {},
   "outputs": [
    {
     "data": {
      "text/plain": [
       "(49, 113, 162)"
      ]
     },
     "execution_count": 28,
     "metadata": {},
     "output_type": "execute_result"
    }
   ],
   "source": [
    "(y_test == 1).sum(), (y_test == 0).sum(), len(y_test)"
   ]
  },
  {
   "cell_type": "markdown",
   "id": "83b537ac",
   "metadata": {},
   "source": [
    "### Salvando modelo XGBoost"
   ]
  },
  {
   "cell_type": "code",
   "execution_count": 29,
   "id": "13ec894b",
   "metadata": {},
   "outputs": [
    {
     "data": {
      "text/plain": [
       "['models/pcos-diagnosis-20-params-xgb.joblib']"
      ]
     },
     "execution_count": 29,
     "metadata": {},
     "output_type": "execute_result"
    }
   ],
   "source": [
    "dump(class_xgb, 'models/pcos-diagnosis-20-params-xgb.joblib')"
   ]
  },
  {
   "cell_type": "markdown",
   "id": "e9fc0072",
   "metadata": {},
   "source": [
    "## Validação Cruzada"
   ]
  },
  {
   "cell_type": "code",
   "execution_count": 30,
   "id": "e1ed7c04",
   "metadata": {},
   "outputs": [],
   "source": [
    "kf = KFold(n_splits=10, shuffle=True, random_state=42)\n",
    "\n",
    "scores = cross_val_score(clf, X, y, cv=kf, scoring='accuracy')\n",
    "scores_mlp_pearson = cross_val_score(clf_20_pearson, X_selected.values, y, cv=kf, scoring='accuracy')\n",
    "scores_mlp = cross_val_score(clf_45, X.values, y, cv=kf, scoring='accuracy')"
   ]
  },
  {
   "cell_type": "code",
   "execution_count": 31,
   "id": "484b2904",
   "metadata": {},
   "outputs": [
    {
     "name": "stdout",
     "output_type": "stream",
     "text": [
      "Acurácia XGBoost: 0.8960 (+/- 0.08)\n",
      "Acurácia MLPClassifier com 20 parâmetros: 0.7864 (+/- 0.22)\n",
      "Acurácia MLPClassifier com 45 parâmetros: 0.7024 (+/- 0.20)\n"
     ]
    }
   ],
   "source": [
    "print(\"Acurácia XGBoost: %0.4f (+/- %0.2f)\" % (scores.mean(), scores.std() * 2))\n",
    "print(f\"Acurácia MLPClassifier com 20 parâmetros: {scores_mlp_pearson.mean():.4f} (+/- {scores_mlp_pearson.std() * 2:.2f})\")\n",
    "print(f\"Acurácia MLPClassifier com 45 parâmetros: {scores_mlp.mean():.4f} (+/- {scores_mlp.std() * 2:.2f})\")"
   ]
  }
 ],
 "metadata": {
  "kernelspec": {
   "display_name": "Python 3 (ipykernel)",
   "language": "python",
   "name": "python3"
  },
  "language_info": {
   "codemirror_mode": {
    "name": "ipython",
    "version": 3
   },
   "file_extension": ".py",
   "mimetype": "text/x-python",
   "name": "python",
   "nbconvert_exporter": "python",
   "pygments_lexer": "ipython3",
   "version": "3.9.13"
  }
 },
 "nbformat": 4,
 "nbformat_minor": 5
}
