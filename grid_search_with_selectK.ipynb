{
 "cells": [
  {
   "cell_type": "markdown",
   "id": "847d46a3",
   "metadata": {},
   "source": [
    "# Resultados da busca em grade utilizando todos os parâmetros do dataset\n",
    "\n",
    "**MLP**\n",
    "- Paciência: $25$ e $50$\n",
    "- batch_size: $16$ e $32$\n",
    "- $\\beta_1$: $1$, $0.9$, $0.8$ \n",
    "- $\\beta_2$: $0.999$, $0.95$, $0.9$\n",
    "- Épocas: $300$ e $500$\n",
    "- Função de ativação: $relu, sigmoide$\n",
    "\n",
    "***Obs:*** *Observamos que todos os resultados utilizando sigmoide apresentaram um desempenho extremamente baixo para prever quando o paciente realmente possui a síndrome dos ovários policístico. Por isso, nos resultados da busca em grade em que aparece \"logistic\", mudamos para \"relu\"*"
   ]
  },
  {
   "cell_type": "code",
   "execution_count": 18,
   "id": "058b08ff",
   "metadata": {},
   "outputs": [],
   "source": [
    "import pandas as pd\n",
    "import numpy as np\n",
    "import math\n",
    "from utilities.show_results import plot_confusion_matrix, get_accuracy, get_precision, f_score\n",
    "from sklearn.model_selection import train_test_split, cross_val_score, KFold\n",
    "from sklearn.neural_network import MLPClassifier\n",
    "from sklearn import metrics\n",
    "from sklearn.ensemble import GradientBoostingClassifier\n",
    "from sklearn.metrics import mean_squared_error\n",
    "from joblib import dump, load"
   ]
  },
  {
   "cell_type": "code",
   "execution_count": 2,
   "id": "4592853d",
   "metadata": {},
   "outputs": [],
   "source": [
    "grid = pd.read_csv('data/PCOS_20_chi2.csv')\n",
    "data = pd.read_csv('data/PCOS_selected_features.csv')"
   ]
  },
  {
   "cell_type": "code",
   "execution_count": 3,
   "id": "92117eb5",
   "metadata": {},
   "outputs": [],
   "source": [
    "grid.sort_values(by='rank_test_score', inplace=True)"
   ]
  },
  {
   "cell_type": "code",
   "execution_count": 4,
   "id": "0fec135f",
   "metadata": {},
   "outputs": [
    {
     "data": {
      "text/html": [
       "<div>\n",
       "<style scoped>\n",
       "    .dataframe tbody tr th:only-of-type {\n",
       "        vertical-align: middle;\n",
       "    }\n",
       "\n",
       "    .dataframe tbody tr th {\n",
       "        vertical-align: top;\n",
       "    }\n",
       "\n",
       "    .dataframe thead th {\n",
       "        text-align: right;\n",
       "    }\n",
       "</style>\n",
       "<table border=\"1\" class=\"dataframe\">\n",
       "  <thead>\n",
       "    <tr style=\"text-align: right;\">\n",
       "      <th></th>\n",
       "      <th>PCOS (Y/N)</th>\n",
       "      <th>Age (yrs)</th>\n",
       "      <th>Height(Cm)</th>\n",
       "      <th>Hb(g/dl)</th>\n",
       "      <th>Cycle length(days)</th>\n",
       "      <th>No. of abortions</th>\n",
       "      <th>I   beta-HCG(mIU/mL)</th>\n",
       "      <th>II    beta-HCG(mIU/mL)</th>\n",
       "      <th>FSH(mIU/mL)</th>\n",
       "      <th>LH(mIU/mL)</th>\n",
       "      <th>TSH (mIU/L)</th>\n",
       "      <th>PRL(ng/mL)</th>\n",
       "      <th>Vit D3 (ng/mL)</th>\n",
       "      <th>RBS(mg/dl)</th>\n",
       "      <th>Weight gain(Y/N)</th>\n",
       "      <th>hair growth(Y/N)</th>\n",
       "      <th>Hair loss(Y/N)</th>\n",
       "      <th>Pimples(Y/N)</th>\n",
       "      <th>BP _Diastolic (mmHg)</th>\n",
       "      <th>Follicle No. (L)</th>\n",
       "    </tr>\n",
       "  </thead>\n",
       "  <tbody>\n",
       "    <tr>\n",
       "      <th>0</th>\n",
       "      <td>0</td>\n",
       "      <td>28</td>\n",
       "      <td>152.0</td>\n",
       "      <td>10.48</td>\n",
       "      <td>5</td>\n",
       "      <td>0</td>\n",
       "      <td>1.99</td>\n",
       "      <td>1.99</td>\n",
       "      <td>7.95</td>\n",
       "      <td>3.68</td>\n",
       "      <td>0.68</td>\n",
       "      <td>45.16</td>\n",
       "      <td>17.1</td>\n",
       "      <td>92.0</td>\n",
       "      <td>0</td>\n",
       "      <td>0</td>\n",
       "      <td>0</td>\n",
       "      <td>0</td>\n",
       "      <td>80</td>\n",
       "      <td>3</td>\n",
       "    </tr>\n",
       "    <tr>\n",
       "      <th>1</th>\n",
       "      <td>0</td>\n",
       "      <td>36</td>\n",
       "      <td>161.5</td>\n",
       "      <td>11.70</td>\n",
       "      <td>5</td>\n",
       "      <td>0</td>\n",
       "      <td>60.80</td>\n",
       "      <td>1.99</td>\n",
       "      <td>6.73</td>\n",
       "      <td>1.09</td>\n",
       "      <td>3.16</td>\n",
       "      <td>20.09</td>\n",
       "      <td>61.3</td>\n",
       "      <td>92.0</td>\n",
       "      <td>0</td>\n",
       "      <td>0</td>\n",
       "      <td>0</td>\n",
       "      <td>0</td>\n",
       "      <td>70</td>\n",
       "      <td>3</td>\n",
       "    </tr>\n",
       "  </tbody>\n",
       "</table>\n",
       "</div>"
      ],
      "text/plain": [
       "   PCOS (Y/N)   Age (yrs)  Height(Cm)   Hb(g/dl)  Cycle length(days)  \\\n",
       "0           0          28        152.0     10.48                   5   \n",
       "1           0          36        161.5     11.70                   5   \n",
       "\n",
       "   No. of abortions    I   beta-HCG(mIU/mL)  II    beta-HCG(mIU/mL)  \\\n",
       "0                 0                    1.99                    1.99   \n",
       "1                 0                   60.80                    1.99   \n",
       "\n",
       "   FSH(mIU/mL)  LH(mIU/mL)  TSH (mIU/L)  PRL(ng/mL)  Vit D3 (ng/mL)  \\\n",
       "0         7.95        3.68         0.68       45.16            17.1   \n",
       "1         6.73        1.09         3.16       20.09            61.3   \n",
       "\n",
       "   RBS(mg/dl)  Weight gain(Y/N)  hair growth(Y/N)  Hair loss(Y/N)  \\\n",
       "0        92.0                 0                 0               0   \n",
       "1        92.0                 0                 0               0   \n",
       "\n",
       "   Pimples(Y/N)  BP _Diastolic (mmHg)  Follicle No. (L)  \n",
       "0             0                    80                 3  \n",
       "1             0                    70                 3  "
      ]
     },
     "execution_count": 4,
     "metadata": {},
     "output_type": "execute_result"
    }
   ],
   "source": [
    "data.head(2)"
   ]
  },
  {
   "cell_type": "code",
   "execution_count": 5,
   "id": "1c4e1245",
   "metadata": {},
   "outputs": [],
   "source": [
    "X = data.drop(columns=['PCOS (Y/N)'], axis=1)\n",
    "y = data[\"PCOS (Y/N)\"]"
   ]
  },
  {
   "cell_type": "code",
   "execution_count": 6,
   "id": "e200a1ba",
   "metadata": {},
   "outputs": [
    {
     "data": {
      "text/plain": [
       "((376, 19), (162, 19), 52, 110)"
      ]
     },
     "execution_count": 6,
     "metadata": {},
     "output_type": "execute_result"
    }
   ],
   "source": [
    "X_train, X_test, y_train, y_test = train_test_split(X, y,test_size=0.30)\n",
    "\n",
    "X_train.shape, X_test.shape, (y_test == 1).sum(), (y_test == 0).sum()"
   ]
  },
  {
   "cell_type": "code",
   "execution_count": 7,
   "id": "061e464f",
   "metadata": {},
   "outputs": [
    {
     "name": "stderr",
     "output_type": "stream",
     "text": [
      "C:\\Users\\Callidus\\anaconda3\\lib\\site-packages\\numpy\\core\\fromnumeric.py:84: FutureWarning: In a future version, DataFrame.min(axis=None) will return a scalar min over the entire DataFrame. To retain the old behavior, use 'frame.min(axis=0)' or just 'frame.min()'\n",
      "  return reduction(axis=axis, out=out, **passkwargs)\n",
      "C:\\Users\\Callidus\\anaconda3\\lib\\site-packages\\numpy\\core\\fromnumeric.py:84: FutureWarning: In a future version, DataFrame.max(axis=None) will return a scalar max over the entire DataFrame. To retain the old behavior, use 'frame.max(axis=0)' or just 'frame.max()'\n",
      "  return reduction(axis=axis, out=out, **passkwargs)\n"
     ]
    }
   ],
   "source": [
    "X_train_norm = (X_train - np.min(X_train))/(np.max(X_train) - np.min(X_train))\n",
    "\n",
    "X_test_norm = (X_test - np.min(X_train))/(np.max(X_train) - np.min(X_train))"
   ]
  },
  {
   "cell_type": "code",
   "execution_count": 8,
   "id": "bd94e0a9",
   "metadata": {},
   "outputs": [
    {
     "data": {
      "text/html": [
       "<div>\n",
       "<style scoped>\n",
       "    .dataframe tbody tr th:only-of-type {\n",
       "        vertical-align: middle;\n",
       "    }\n",
       "\n",
       "    .dataframe tbody tr th {\n",
       "        vertical-align: top;\n",
       "    }\n",
       "\n",
       "    .dataframe thead th {\n",
       "        text-align: right;\n",
       "    }\n",
       "</style>\n",
       "<table border=\"1\" class=\"dataframe\">\n",
       "  <thead>\n",
       "    <tr style=\"text-align: right;\">\n",
       "      <th></th>\n",
       "      <th>Age (yrs)</th>\n",
       "      <th>Height(Cm)</th>\n",
       "      <th>Hb(g/dl)</th>\n",
       "      <th>Cycle length(days)</th>\n",
       "      <th>No. of abortions</th>\n",
       "      <th>I   beta-HCG(mIU/mL)</th>\n",
       "      <th>II    beta-HCG(mIU/mL)</th>\n",
       "      <th>FSH(mIU/mL)</th>\n",
       "      <th>LH(mIU/mL)</th>\n",
       "      <th>TSH (mIU/L)</th>\n",
       "      <th>PRL(ng/mL)</th>\n",
       "      <th>Vit D3 (ng/mL)</th>\n",
       "      <th>RBS(mg/dl)</th>\n",
       "      <th>Weight gain(Y/N)</th>\n",
       "      <th>hair growth(Y/N)</th>\n",
       "      <th>Hair loss(Y/N)</th>\n",
       "      <th>Pimples(Y/N)</th>\n",
       "      <th>BP _Diastolic (mmHg)</th>\n",
       "      <th>Follicle No. (L)</th>\n",
       "    </tr>\n",
       "  </thead>\n",
       "  <tbody>\n",
       "    <tr>\n",
       "      <th>199</th>\n",
       "      <td>0.357143</td>\n",
       "      <td>0.45</td>\n",
       "      <td>0.428571</td>\n",
       "      <td>0.4</td>\n",
       "      <td>0.0</td>\n",
       "      <td>0.000066</td>\n",
       "      <td>0.000014</td>\n",
       "      <td>0.001738</td>\n",
       "      <td>0.001520</td>\n",
       "      <td>0.080250</td>\n",
       "      <td>0.221136</td>\n",
       "      <td>0.004060</td>\n",
       "      <td>0.075000</td>\n",
       "      <td>0.0</td>\n",
       "      <td>0.0</td>\n",
       "      <td>1.0</td>\n",
       "      <td>1.0</td>\n",
       "      <td>0.0</td>\n",
       "      <td>0.095238</td>\n",
       "    </tr>\n",
       "    <tr>\n",
       "      <th>121</th>\n",
       "      <td>0.464286</td>\n",
       "      <td>0.20</td>\n",
       "      <td>0.238095</td>\n",
       "      <td>0.3</td>\n",
       "      <td>0.0</td>\n",
       "      <td>0.010961</td>\n",
       "      <td>0.000010</td>\n",
       "      <td>0.001463</td>\n",
       "      <td>0.000222</td>\n",
       "      <td>0.078328</td>\n",
       "      <td>0.211593</td>\n",
       "      <td>0.006164</td>\n",
       "      <td>0.107143</td>\n",
       "      <td>0.0</td>\n",
       "      <td>1.0</td>\n",
       "      <td>0.0</td>\n",
       "      <td>0.0</td>\n",
       "      <td>1.0</td>\n",
       "      <td>0.047619</td>\n",
       "    </tr>\n",
       "  </tbody>\n",
       "</table>\n",
       "</div>"
      ],
      "text/plain": [
       "      Age (yrs)  Height(Cm)   Hb(g/dl)  Cycle length(days)  No. of abortions  \\\n",
       "199    0.357143         0.45  0.428571                 0.4               0.0   \n",
       "121    0.464286         0.20  0.238095                 0.3               0.0   \n",
       "\n",
       "       I   beta-HCG(mIU/mL)  II    beta-HCG(mIU/mL)  FSH(mIU/mL)  LH(mIU/mL)  \\\n",
       "199                0.000066                0.000014     0.001738    0.001520   \n",
       "121                0.010961                0.000010     0.001463    0.000222   \n",
       "\n",
       "     TSH (mIU/L)  PRL(ng/mL)  Vit D3 (ng/mL)  RBS(mg/dl)  Weight gain(Y/N)  \\\n",
       "199     0.080250    0.221136        0.004060    0.075000               0.0   \n",
       "121     0.078328    0.211593        0.006164    0.107143               0.0   \n",
       "\n",
       "     hair growth(Y/N)  Hair loss(Y/N)  Pimples(Y/N)  BP _Diastolic (mmHg)  \\\n",
       "199               0.0             1.0           1.0                   0.0   \n",
       "121               1.0             0.0           0.0                   1.0   \n",
       "\n",
       "     Follicle No. (L)  \n",
       "199          0.095238  \n",
       "121          0.047619  "
      ]
     },
     "execution_count": 8,
     "metadata": {},
     "output_type": "execute_result"
    }
   ],
   "source": [
    "X_train_norm.head(2)"
   ]
  },
  {
   "cell_type": "code",
   "execution_count": 9,
   "id": "85b644fb",
   "metadata": {},
   "outputs": [
    {
     "data": {
      "text/html": [
       "<div>\n",
       "<style scoped>\n",
       "    .dataframe tbody tr th:only-of-type {\n",
       "        vertical-align: middle;\n",
       "    }\n",
       "\n",
       "    .dataframe tbody tr th {\n",
       "        vertical-align: top;\n",
       "    }\n",
       "\n",
       "    .dataframe thead th {\n",
       "        text-align: right;\n",
       "    }\n",
       "</style>\n",
       "<table border=\"1\" class=\"dataframe\">\n",
       "  <thead>\n",
       "    <tr style=\"text-align: right;\">\n",
       "      <th></th>\n",
       "      <th>Age (yrs)</th>\n",
       "      <th>Height(Cm)</th>\n",
       "      <th>Hb(g/dl)</th>\n",
       "      <th>Cycle length(days)</th>\n",
       "      <th>No. of abortions</th>\n",
       "      <th>I   beta-HCG(mIU/mL)</th>\n",
       "      <th>II    beta-HCG(mIU/mL)</th>\n",
       "      <th>FSH(mIU/mL)</th>\n",
       "      <th>LH(mIU/mL)</th>\n",
       "      <th>TSH (mIU/L)</th>\n",
       "      <th>PRL(ng/mL)</th>\n",
       "      <th>Vit D3 (ng/mL)</th>\n",
       "      <th>RBS(mg/dl)</th>\n",
       "      <th>Weight gain(Y/N)</th>\n",
       "      <th>hair growth(Y/N)</th>\n",
       "      <th>Hair loss(Y/N)</th>\n",
       "      <th>Pimples(Y/N)</th>\n",
       "      <th>BP _Diastolic (mmHg)</th>\n",
       "      <th>Follicle No. (L)</th>\n",
       "    </tr>\n",
       "  </thead>\n",
       "  <tbody>\n",
       "    <tr>\n",
       "      <th>358</th>\n",
       "      <td>0.500000</td>\n",
       "      <td>0.350</td>\n",
       "      <td>0.317460</td>\n",
       "      <td>0.3</td>\n",
       "      <td>0.0</td>\n",
       "      <td>0.000021</td>\n",
       "      <td>0.000014</td>\n",
       "      <td>0.001229</td>\n",
       "      <td>0.001694</td>\n",
       "      <td>0.124940</td>\n",
       "      <td>0.110451</td>\n",
       "      <td>0.007216</td>\n",
       "      <td>0.107143</td>\n",
       "      <td>1.0</td>\n",
       "      <td>0.0</td>\n",
       "      <td>1.0</td>\n",
       "      <td>0.0</td>\n",
       "      <td>0.861111</td>\n",
       "      <td>0.142857</td>\n",
       "    </tr>\n",
       "    <tr>\n",
       "      <th>144</th>\n",
       "      <td>0.607143</td>\n",
       "      <td>0.325</td>\n",
       "      <td>0.428571</td>\n",
       "      <td>0.3</td>\n",
       "      <td>0.0</td>\n",
       "      <td>0.000021</td>\n",
       "      <td>0.000014</td>\n",
       "      <td>0.000788</td>\n",
       "      <td>0.000723</td>\n",
       "      <td>0.065353</td>\n",
       "      <td>0.075172</td>\n",
       "      <td>0.004337</td>\n",
       "      <td>0.214286</td>\n",
       "      <td>0.0</td>\n",
       "      <td>0.0</td>\n",
       "      <td>1.0</td>\n",
       "      <td>0.0</td>\n",
       "      <td>1.000000</td>\n",
       "      <td>0.142857</td>\n",
       "    </tr>\n",
       "  </tbody>\n",
       "</table>\n",
       "</div>"
      ],
      "text/plain": [
       "      Age (yrs)  Height(Cm)   Hb(g/dl)  Cycle length(days)  No. of abortions  \\\n",
       "358    0.500000        0.350  0.317460                 0.3               0.0   \n",
       "144    0.607143        0.325  0.428571                 0.3               0.0   \n",
       "\n",
       "       I   beta-HCG(mIU/mL)  II    beta-HCG(mIU/mL)  FSH(mIU/mL)  LH(mIU/mL)  \\\n",
       "358                0.000021                0.000014     0.001229    0.001694   \n",
       "144                0.000021                0.000014     0.000788    0.000723   \n",
       "\n",
       "     TSH (mIU/L)  PRL(ng/mL)  Vit D3 (ng/mL)  RBS(mg/dl)  Weight gain(Y/N)  \\\n",
       "358     0.124940    0.110451        0.007216    0.107143               1.0   \n",
       "144     0.065353    0.075172        0.004337    0.214286               0.0   \n",
       "\n",
       "     hair growth(Y/N)  Hair loss(Y/N)  Pimples(Y/N)  BP _Diastolic (mmHg)  \\\n",
       "358               0.0             1.0           0.0              0.861111   \n",
       "144               0.0             1.0           0.0              1.000000   \n",
       "\n",
       "     Follicle No. (L)  \n",
       "358          0.142857  \n",
       "144          0.142857  "
      ]
     },
     "execution_count": 9,
     "metadata": {},
     "output_type": "execute_result"
    }
   ],
   "source": [
    "X_test_norm.head(2)"
   ]
  },
  {
   "cell_type": "code",
   "execution_count": 10,
   "id": "63ed8838",
   "metadata": {
    "scrolled": true
   },
   "outputs": [
    {
     "data": {
      "text/plain": [
       "\"{'activation': 'relu', 'batch_size': 16, 'beta_1': 0.9, 'beta_2': 0.999, 'hidden_layer_sizes': (3, 10), 'max_iter': 700, 'n_iter_no_change': 30, 'solver': 'adam', 'verbose': False}\""
      ]
     },
     "execution_count": 10,
     "metadata": {},
     "output_type": "execute_result"
    }
   ],
   "source": [
    "grid[\"params\"].iloc[0]"
   ]
  },
  {
   "cell_type": "code",
   "execution_count": 11,
   "id": "f7c0bf6f",
   "metadata": {},
   "outputs": [
    {
     "name": "stdout",
     "output_type": "stream",
     "text": [
      "ACURÁCIA: 0.8580\n",
      "PRECISÃO: 0.8580\n"
     ]
    },
    {
     "data": {
      "image/png": "[encoded data removed]",
      "text/plain": [
       "<Figure size 400x400 with 1 Axes>"
      ]
     },
     "metadata": {},
     "output_type": "display_data"
    }
   ],
   "source": [
    "mlp_1 = MLPClassifier(\n",
    "    verbose= False,\n",
    "    max_iter=700, \n",
    "    activation='relu', \n",
    "    hidden_layer_sizes=(3,10),\n",
    "    batch_size=16,\n",
    "    beta_1=0.9,\n",
    "    beta_2=0.999,\n",
    "    solver='adam',\n",
    "    early_stopping=True,\n",
    "    n_iter_no_change=30\n",
    ")\n",
    "mlp_1.fit(X_train_norm.values, y_train)\n",
    "\n",
    "y_pred = mlp_1.predict(X_test_norm.values)\n",
    "get_accuracy(y_test, y_pred)\n",
    "get_precision(y_test, y_pred)\n",
    "plot_confusion_matrix(y_test, y_pred)"
   ]
  },
  {
   "cell_type": "code",
   "execution_count": 12,
   "id": "1c5e474b",
   "metadata": {
    "scrolled": true
   },
   "outputs": [
    {
     "data": {
      "text/plain": [
       "\"{'activation': 'relu', 'batch_size': 16, 'beta_1': 0.8, 'beta_2': 0.999, 'hidden_layer_sizes': (5, 8), 'max_iter': 500, 'n_iter_no_change': 30, 'solver': 'adam', 'verbose': False}\""
      ]
     },
     "execution_count": 12,
     "metadata": {},
     "output_type": "execute_result"
    }
   ],
   "source": [
    "grid[\"params\"].iloc[1]"
   ]
  },
  {
   "cell_type": "code",
   "execution_count": 13,
   "id": "a316f31c",
   "metadata": {},
   "outputs": [
    {
     "name": "stdout",
     "output_type": "stream",
     "text": [
      "ACURÁCIA: 0.8580\n",
      "PRECISÃO: 0.8580\n"
     ]
    },
    {
     "data": {
      "image/png": "[encoded data removed]",
      "text/plain": [
       "<Figure size 400x400 with 1 Axes>"
      ]
     },
     "metadata": {},
     "output_type": "display_data"
    }
   ],
   "source": [
    "mlp_2 = MLPClassifier(\n",
    "    verbose= False,\n",
    "    max_iter=500, \n",
    "    activation='relu', \n",
    "    hidden_layer_sizes=(5,8),\n",
    "    batch_size=16,\n",
    "    beta_1=0.8,\n",
    "    beta_2=0.999,\n",
    "    solver='adam',\n",
    "    early_stopping=True,\n",
    "    n_iter_no_change=30\n",
    ")\n",
    "mlp_2.fit(X_train_norm.values, y_train)\n",
    "\n",
    "y_pred = mlp_2.predict(X_test_norm.values)\n",
    "get_accuracy(y_test, y_pred)\n",
    "get_precision(y_test, y_pred)\n",
    "plot_confusion_matrix(y_test, y_pred)"
   ]
  },
  {
   "cell_type": "code",
   "execution_count": 14,
   "id": "ceaa475e",
   "metadata": {},
   "outputs": [
    {
     "data": {
      "text/plain": [
       "\"{'activation': 'relu', 'batch_size': 16, 'beta_1': 0.9, 'beta_2': 0.999, 'hidden_layer_sizes': (5, 4), 'max_iter': 700, 'n_iter_no_change': 30, 'solver': 'adam', 'verbose': False}\""
      ]
     },
     "execution_count": 14,
     "metadata": {},
     "output_type": "execute_result"
    }
   ],
   "source": [
    "grid[\"params\"].iloc[2]"
   ]
  },
  {
   "cell_type": "code",
   "execution_count": 15,
   "id": "d9967162",
   "metadata": {},
   "outputs": [
    {
     "name": "stdout",
     "output_type": "stream",
     "text": [
      "ACURÁCIA: 0.8827\n",
      "PRECISÃO: 0.8827\n"
     ]
    },
    {
     "data": {
      "image/png": "[encoded data removed]",
      "text/plain": [
       "<Figure size 400x400 with 1 Axes>"
      ]
     },
     "metadata": {},
     "output_type": "display_data"
    }
   ],
   "source": [
    "mlp_3 = MLPClassifier(\n",
    "    verbose= False,\n",
    "    max_iter=700, \n",
    "    activation='relu', \n",
    "    hidden_layer_sizes=(5,4),\n",
    "    batch_size=16,\n",
    "    beta_1=0.9,\n",
    "    beta_2=0.999,\n",
    "    solver='adam',\n",
    "    early_stopping=True,\n",
    "    n_iter_no_change=30\n",
    ")\n",
    "mlp_3.fit(X_train_norm.values, y_train)\n",
    "\n",
    "y_pred = mlp_3.predict(X_test_norm.values)\n",
    "get_accuracy(y_test, y_pred)\n",
    "get_precision(y_test, y_pred)\n",
    "plot_confusion_matrix(y_test, y_pred)"
   ]
  },
  {
   "cell_type": "code",
   "execution_count": 25,
   "id": "3241ba91",
   "metadata": {},
   "outputs": [
    {
     "name": "stdout",
     "output_type": "stream",
     "text": [
      "ACURÁCIA: 0.5929\n",
      "PRECISÃO: 0.5929\n"
     ]
    },
    {
     "data": {
      "image/png": "[encoded data removed]",
      "text/plain": [
       "<Figure size 400x400 with 1 Axes>"
      ]
     },
     "metadata": {},
     "output_type": "display_data"
    }
   ],
   "source": [
    "clf = mlp_3.fit(X.values, y)\n",
    "\n",
    "y_pred = clf.predict(X.values)\n",
    "get_accuracy(y, y_pred)\n",
    "get_precision(y, y_pred)\n",
    "plot_confusion_matrix(y, y_pred)"
   ]
  },
  {
   "cell_type": "code",
   "execution_count": 26,
   "id": "d4a84576",
   "metadata": {},
   "outputs": [
    {
     "data": {
      "text/plain": [
       "['models/pcos-diagnosis-20-params-selectk.joblib']"
      ]
     },
     "execution_count": 26,
     "metadata": {},
     "output_type": "execute_result"
    }
   ],
   "source": [
    "dump(clf, 'models/pcos-diagnosis-20-params-selectk.joblib')"
   ]
  }
 ],
 "metadata": {
  "kernelspec": {
   "display_name": "Python 3 (ipykernel)",
   "language": "python",
   "name": "python3"
  },
  "language_info": {
   "codemirror_mode": {
    "name": "ipython",
    "version": 3
   },
   "file_extension": ".py",
   "mimetype": "text/x-python",
   "name": "python",
   "nbconvert_exporter": "python",
   "pygments_lexer": "ipython3",
   "version": "3.9.13"
  }
 },
 "nbformat": 4,
 "nbformat_minor": 5
}
