{
 "cells": [
  {
   "cell_type": "markdown",
   "id": "e69fee88",
   "metadata": {},
   "source": [
    "# 1.2 Construção do Modelo"
   ]
  },
  {
   "cell_type": "code",
   "execution_count": 1,
   "id": "8873a717",
   "metadata": {},
   "outputs": [],
   "source": [
    "import pandas as pd\n",
    "import numpy as np\n",
    "import seaborn as sns\n",
    "import matplotlib.pyplot as plt\n",
    "import math\n",
    "from show_results import plot_confusion_matrix, get_accuracy, get_precision, f_score\n",
    "from scipy.stats import pearsonr\n",
    "from sklearn.model_selection import train_test_split, cross_val_score, KFold\n",
    "from sklearn.neural_network import MLPClassifier\n",
    "from sklearn import metrics\n",
    "from sklearn.ensemble import GradientBoostingClassifier\n",
    "from sklearn.metrics import mean_squared_error\n",
    "import xgboost as xgb"
   ]
  },
  {
   "cell_type": "markdown",
   "id": "63f1cf61",
   "metadata": {},
   "source": [
    "## 1.2.1 Abrindo o dataset e tratando os dados"
   ]
  },
  {
   "cell_type": "code",
   "execution_count": 2,
   "id": "ad85e141",
   "metadata": {},
   "outputs": [],
   "source": [
    "data = pd.read_csv('PCOS.csv')"
   ]
  },
  {
   "cell_type": "code",
   "execution_count": 3,
   "id": "d689f6e0",
   "metadata": {},
   "outputs": [
    {
     "data": {
      "text/html": [
       "<div>\n",
       "<style scoped>\n",
       "    .dataframe tbody tr th:only-of-type {\n",
       "        vertical-align: middle;\n",
       "    }\n",
       "\n",
       "    .dataframe tbody tr th {\n",
       "        vertical-align: top;\n",
       "    }\n",
       "\n",
       "    .dataframe thead th {\n",
       "        text-align: right;\n",
       "    }\n",
       "</style>\n",
       "<table border=\"1\" class=\"dataframe\">\n",
       "  <thead>\n",
       "    <tr style=\"text-align: right;\">\n",
       "      <th></th>\n",
       "      <th>Unnamed: 0</th>\n",
       "      <th>Sl. No</th>\n",
       "      <th>Patient File No.</th>\n",
       "      <th>PCOS (Y/N)</th>\n",
       "      <th>Age (yrs)</th>\n",
       "      <th>Weight (Kg)</th>\n",
       "      <th>Height(Cm)</th>\n",
       "      <th>BMI</th>\n",
       "      <th>Blood Group</th>\n",
       "      <th>Pulse rate(bpm)</th>\n",
       "      <th>...</th>\n",
       "      <th>Pimples(Y/N)</th>\n",
       "      <th>Fast food (Y/N)</th>\n",
       "      <th>Reg.Exercise(Y/N)</th>\n",
       "      <th>BP _Systolic (mmHg)</th>\n",
       "      <th>BP _Diastolic (mmHg)</th>\n",
       "      <th>Follicle No. (L)</th>\n",
       "      <th>Follicle No. (R)</th>\n",
       "      <th>Avg. F size (L) (mm)</th>\n",
       "      <th>Avg. F size (R) (mm)</th>\n",
       "      <th>Endometrium (mm)</th>\n",
       "    </tr>\n",
       "  </thead>\n",
       "  <tbody>\n",
       "    <tr>\n",
       "      <th>0</th>\n",
       "      <td>0</td>\n",
       "      <td>1</td>\n",
       "      <td>1</td>\n",
       "      <td>0</td>\n",
       "      <td>28</td>\n",
       "      <td>44.6</td>\n",
       "      <td>152.0</td>\n",
       "      <td>19.3</td>\n",
       "      <td>15</td>\n",
       "      <td>78</td>\n",
       "      <td>...</td>\n",
       "      <td>0</td>\n",
       "      <td>1.0</td>\n",
       "      <td>0</td>\n",
       "      <td>110</td>\n",
       "      <td>80</td>\n",
       "      <td>3</td>\n",
       "      <td>3</td>\n",
       "      <td>18.0</td>\n",
       "      <td>18.0</td>\n",
       "      <td>8.5</td>\n",
       "    </tr>\n",
       "    <tr>\n",
       "      <th>1</th>\n",
       "      <td>1</td>\n",
       "      <td>2</td>\n",
       "      <td>2</td>\n",
       "      <td>0</td>\n",
       "      <td>36</td>\n",
       "      <td>65.0</td>\n",
       "      <td>161.5</td>\n",
       "      <td>24.9</td>\n",
       "      <td>15</td>\n",
       "      <td>74</td>\n",
       "      <td>...</td>\n",
       "      <td>0</td>\n",
       "      <td>0.0</td>\n",
       "      <td>0</td>\n",
       "      <td>120</td>\n",
       "      <td>70</td>\n",
       "      <td>3</td>\n",
       "      <td>5</td>\n",
       "      <td>15.0</td>\n",
       "      <td>14.0</td>\n",
       "      <td>3.7</td>\n",
       "    </tr>\n",
       "  </tbody>\n",
       "</table>\n",
       "<p>2 rows × 45 columns</p>\n",
       "</div>"
      ],
      "text/plain": [
       "   Unnamed: 0  Sl. No  Patient File No.  PCOS (Y/N)   Age (yrs)  Weight (Kg)  \\\n",
       "0           0       1                 1           0          28         44.6   \n",
       "1           1       2                 2           0          36         65.0   \n",
       "\n",
       "   Height(Cm)    BMI  Blood Group  Pulse rate(bpm)   ...  Pimples(Y/N)  \\\n",
       "0        152.0  19.3           15                78  ...             0   \n",
       "1        161.5  24.9           15                74  ...             0   \n",
       "\n",
       "   Fast food (Y/N)  Reg.Exercise(Y/N)  BP _Systolic (mmHg)  \\\n",
       "0              1.0                  0                  110   \n",
       "1              0.0                  0                  120   \n",
       "\n",
       "   BP _Diastolic (mmHg)  Follicle No. (L)  Follicle No. (R)  \\\n",
       "0                    80                 3                 3   \n",
       "1                    70                 3                 5   \n",
       "\n",
       "   Avg. F size (L) (mm) Avg. F size (R) (mm)  Endometrium (mm)  \n",
       "0                  18.0                 18.0               8.5  \n",
       "1                  15.0                 14.0               3.7  \n",
       "\n",
       "[2 rows x 45 columns]"
      ]
     },
     "execution_count": 3,
     "metadata": {},
     "output_type": "execute_result"
    }
   ],
   "source": [
    "data.head(2)"
   ]
  },
  {
   "cell_type": "code",
   "execution_count": 4,
   "id": "7ca11053",
   "metadata": {},
   "outputs": [],
   "source": [
    "data.dropna(inplace=True)"
   ]
  },
  {
   "cell_type": "code",
   "execution_count": 5,
   "id": "ecd57c37",
   "metadata": {},
   "outputs": [],
   "source": [
    "data = data.replace({'1.99.': 1.99})"
   ]
  },
  {
   "cell_type": "code",
   "execution_count": 6,
   "id": "5ae616af",
   "metadata": {},
   "outputs": [],
   "source": [
    "del data[\"Sl. No\"]\n",
    "del data[\"Patient File No.\"]\n",
    "del data[\"Unnamed: 0\"]"
   ]
  },
  {
   "cell_type": "code",
   "execution_count": 7,
   "id": "07f92017",
   "metadata": {},
   "outputs": [
    {
     "name": "stdout",
     "output_type": "stream",
     "text": [
      "<class 'pandas.core.frame.DataFrame'>\n",
      "Int64Index: 539 entries, 0 to 540\n",
      "Data columns (total 42 columns):\n",
      " #   Column                  Non-Null Count  Dtype  \n",
      "---  ------                  --------------  -----  \n",
      " 0   PCOS (Y/N)              539 non-null    int64  \n",
      " 1    Age (yrs)              539 non-null    int64  \n",
      " 2   Weight (Kg)             539 non-null    float64\n",
      " 3   Height(Cm)              539 non-null    float64\n",
      " 4   BMI                     539 non-null    float64\n",
      " 5   Blood Group             539 non-null    int64  \n",
      " 6   Pulse rate(bpm)         539 non-null    int64  \n",
      " 7   RR (breaths/min)        539 non-null    int64  \n",
      " 8   Hb(g/dl)                539 non-null    float64\n",
      " 9   Cycle(R/I)              539 non-null    int64  \n",
      " 10  Cycle length(days)      539 non-null    int64  \n",
      " 11  Marraige Status (Yrs)   539 non-null    float64\n",
      " 12  Pregnant(Y/N)           539 non-null    int64  \n",
      " 13  No. of abortions        539 non-null    int64  \n",
      " 14    I   beta-HCG(mIU/mL)  539 non-null    float64\n",
      " 15  II    beta-HCG(mIU/mL)  539 non-null    object \n",
      " 16  FSH(mIU/mL)             539 non-null    float64\n",
      " 17  LH(mIU/mL)              539 non-null    float64\n",
      " 18  FSH/LH                  539 non-null    float64\n",
      " 19  Hip(inch)               539 non-null    int64  \n",
      " 20  Waist(inch)             539 non-null    int64  \n",
      " 21  Waist:Hip Ratio         539 non-null    float64\n",
      " 22  TSH (mIU/L)             539 non-null    float64\n",
      " 23  AMH(ng/mL)              539 non-null    object \n",
      " 24  PRL(ng/mL)              539 non-null    float64\n",
      " 25  Vit D3 (ng/mL)          539 non-null    float64\n",
      " 26  PRG(ng/mL)              539 non-null    float64\n",
      " 27  RBS(mg/dl)              539 non-null    float64\n",
      " 28  Weight gain(Y/N)        539 non-null    int64  \n",
      " 29  hair growth(Y/N)        539 non-null    int64  \n",
      " 30  Skin darkening (Y/N)    539 non-null    int64  \n",
      " 31  Hair loss(Y/N)          539 non-null    int64  \n",
      " 32  Pimples(Y/N)            539 non-null    int64  \n",
      " 33  Fast food (Y/N)         539 non-null    float64\n",
      " 34  Reg.Exercise(Y/N)       539 non-null    int64  \n",
      " 35  BP _Systolic (mmHg)     539 non-null    int64  \n",
      " 36  BP _Diastolic (mmHg)    539 non-null    int64  \n",
      " 37  Follicle No. (L)        539 non-null    int64  \n",
      " 38  Follicle No. (R)        539 non-null    int64  \n",
      " 39  Avg. F size (L) (mm)    539 non-null    float64\n",
      " 40  Avg. F size (R) (mm)    539 non-null    float64\n",
      " 41  Endometrium (mm)        539 non-null    float64\n",
      "dtypes: float64(19), int64(21), object(2)\n",
      "memory usage: 181.1+ KB\n"
     ]
    }
   ],
   "source": [
    "data.info()"
   ]
  },
  {
   "cell_type": "code",
   "execution_count": 8,
   "id": "f6ff8c76",
   "metadata": {},
   "outputs": [
    {
     "data": {
      "text/html": [
       "<div>\n",
       "<style scoped>\n",
       "    .dataframe tbody tr th:only-of-type {\n",
       "        vertical-align: middle;\n",
       "    }\n",
       "\n",
       "    .dataframe tbody tr th {\n",
       "        vertical-align: top;\n",
       "    }\n",
       "\n",
       "    .dataframe thead th {\n",
       "        text-align: right;\n",
       "    }\n",
       "</style>\n",
       "<table border=\"1\" class=\"dataframe\">\n",
       "  <thead>\n",
       "    <tr style=\"text-align: right;\">\n",
       "      <th></th>\n",
       "      <th>PCOS (Y/N)</th>\n",
       "      <th>Age (yrs)</th>\n",
       "      <th>Weight (Kg)</th>\n",
       "      <th>Height(Cm)</th>\n",
       "      <th>BMI</th>\n",
       "      <th>Blood Group</th>\n",
       "      <th>Pulse rate(bpm)</th>\n",
       "      <th>RR (breaths/min)</th>\n",
       "      <th>Hb(g/dl)</th>\n",
       "      <th>Cycle(R/I)</th>\n",
       "      <th>...</th>\n",
       "      <th>Pimples(Y/N)</th>\n",
       "      <th>Fast food (Y/N)</th>\n",
       "      <th>Reg.Exercise(Y/N)</th>\n",
       "      <th>BP _Systolic (mmHg)</th>\n",
       "      <th>BP _Diastolic (mmHg)</th>\n",
       "      <th>Follicle No. (L)</th>\n",
       "      <th>Follicle No. (R)</th>\n",
       "      <th>Avg. F size (L) (mm)</th>\n",
       "      <th>Avg. F size (R) (mm)</th>\n",
       "      <th>Endometrium (mm)</th>\n",
       "    </tr>\n",
       "  </thead>\n",
       "  <tbody>\n",
       "    <tr>\n",
       "      <th>305</th>\n",
       "      <td>0</td>\n",
       "      <td>37</td>\n",
       "      <td>56.0</td>\n",
       "      <td>152.0</td>\n",
       "      <td>24.2</td>\n",
       "      <td>13</td>\n",
       "      <td>74</td>\n",
       "      <td>20</td>\n",
       "      <td>11.7</td>\n",
       "      <td>2</td>\n",
       "      <td>...</td>\n",
       "      <td>1</td>\n",
       "      <td>0.0</td>\n",
       "      <td>1</td>\n",
       "      <td>120</td>\n",
       "      <td>70</td>\n",
       "      <td>4</td>\n",
       "      <td>5</td>\n",
       "      <td>17.0</td>\n",
       "      <td>16.0</td>\n",
       "      <td>5.6</td>\n",
       "    </tr>\n",
       "  </tbody>\n",
       "</table>\n",
       "<p>1 rows × 42 columns</p>\n",
       "</div>"
      ],
      "text/plain": [
       "     PCOS (Y/N)   Age (yrs)  Weight (Kg)  Height(Cm)    BMI  Blood Group  \\\n",
       "305           0          37         56.0        152.0  24.2           13   \n",
       "\n",
       "     Pulse rate(bpm)   RR (breaths/min)  Hb(g/dl)  Cycle(R/I)  ...  \\\n",
       "305                74                20      11.7           2  ...   \n",
       "\n",
       "     Pimples(Y/N)  Fast food (Y/N)  Reg.Exercise(Y/N)  BP _Systolic (mmHg)  \\\n",
       "305             1              0.0                  1                  120   \n",
       "\n",
       "     BP _Diastolic (mmHg) Follicle No. (L)  Follicle No. (R)  \\\n",
       "305                    70                4                 5   \n",
       "\n",
       "     Avg. F size (L) (mm)  Avg. F size (R) (mm)  Endometrium (mm)  \n",
       "305                  17.0                  16.0               5.6  \n",
       "\n",
       "[1 rows x 42 columns]"
      ]
     },
     "execution_count": 8,
     "metadata": {},
     "output_type": "execute_result"
    }
   ],
   "source": [
    "data[data['AMH(ng/mL)'] == \"a\"]"
   ]
  },
  {
   "cell_type": "code",
   "execution_count": 9,
   "id": "c1200d66",
   "metadata": {},
   "outputs": [],
   "source": [
    "data.drop([305], inplace=True)"
   ]
  },
  {
   "cell_type": "code",
   "execution_count": 10,
   "id": "db95c57a",
   "metadata": {},
   "outputs": [],
   "source": [
    "data['II    beta-HCG(mIU/mL)'] = pd.to_numeric(data['II    beta-HCG(mIU/mL)'])"
   ]
  },
  {
   "cell_type": "code",
   "execution_count": 11,
   "id": "6eab9791",
   "metadata": {},
   "outputs": [],
   "source": [
    "data['AMH(ng/mL)'] = pd.to_numeric(data['AMH(ng/mL)'])"
   ]
  },
  {
   "cell_type": "code",
   "execution_count": 12,
   "id": "98617c30",
   "metadata": {},
   "outputs": [
    {
     "name": "stdout",
     "output_type": "stream",
     "text": [
      "<class 'pandas.core.frame.DataFrame'>\n",
      "Int64Index: 538 entries, 0 to 540\n",
      "Data columns (total 42 columns):\n",
      " #   Column                  Non-Null Count  Dtype  \n",
      "---  ------                  --------------  -----  \n",
      " 0   PCOS (Y/N)              538 non-null    int64  \n",
      " 1    Age (yrs)              538 non-null    int64  \n",
      " 2   Weight (Kg)             538 non-null    float64\n",
      " 3   Height(Cm)              538 non-null    float64\n",
      " 4   BMI                     538 non-null    float64\n",
      " 5   Blood Group             538 non-null    int64  \n",
      " 6   Pulse rate(bpm)         538 non-null    int64  \n",
      " 7   RR (breaths/min)        538 non-null    int64  \n",
      " 8   Hb(g/dl)                538 non-null    float64\n",
      " 9   Cycle(R/I)              538 non-null    int64  \n",
      " 10  Cycle length(days)      538 non-null    int64  \n",
      " 11  Marraige Status (Yrs)   538 non-null    float64\n",
      " 12  Pregnant(Y/N)           538 non-null    int64  \n",
      " 13  No. of abortions        538 non-null    int64  \n",
      " 14    I   beta-HCG(mIU/mL)  538 non-null    float64\n",
      " 15  II    beta-HCG(mIU/mL)  538 non-null    float64\n",
      " 16  FSH(mIU/mL)             538 non-null    float64\n",
      " 17  LH(mIU/mL)              538 non-null    float64\n",
      " 18  FSH/LH                  538 non-null    float64\n",
      " 19  Hip(inch)               538 non-null    int64  \n",
      " 20  Waist(inch)             538 non-null    int64  \n",
      " 21  Waist:Hip Ratio         538 non-null    float64\n",
      " 22  TSH (mIU/L)             538 non-null    float64\n",
      " 23  AMH(ng/mL)              538 non-null    float64\n",
      " 24  PRL(ng/mL)              538 non-null    float64\n",
      " 25  Vit D3 (ng/mL)          538 non-null    float64\n",
      " 26  PRG(ng/mL)              538 non-null    float64\n",
      " 27  RBS(mg/dl)              538 non-null    float64\n",
      " 28  Weight gain(Y/N)        538 non-null    int64  \n",
      " 29  hair growth(Y/N)        538 non-null    int64  \n",
      " 30  Skin darkening (Y/N)    538 non-null    int64  \n",
      " 31  Hair loss(Y/N)          538 non-null    int64  \n",
      " 32  Pimples(Y/N)            538 non-null    int64  \n",
      " 33  Fast food (Y/N)         538 non-null    float64\n",
      " 34  Reg.Exercise(Y/N)       538 non-null    int64  \n",
      " 35  BP _Systolic (mmHg)     538 non-null    int64  \n",
      " 36  BP _Diastolic (mmHg)    538 non-null    int64  \n",
      " 37  Follicle No. (L)        538 non-null    int64  \n",
      " 38  Follicle No. (R)        538 non-null    int64  \n",
      " 39  Avg. F size (L) (mm)    538 non-null    float64\n",
      " 40  Avg. F size (R) (mm)    538 non-null    float64\n",
      " 41  Endometrium (mm)        538 non-null    float64\n",
      "dtypes: float64(21), int64(21)\n",
      "memory usage: 180.7 KB\n"
     ]
    }
   ],
   "source": [
    "data.info()"
   ]
  },
  {
   "cell_type": "markdown",
   "id": "0a267996",
   "metadata": {},
   "source": [
    "## Usando a correlação de Pearson para encontrar os melhores atributos preditores"
   ]
  },
  {
   "cell_type": "code",
   "execution_count": 13,
   "id": "9c919840",
   "metadata": {},
   "outputs": [],
   "source": [
    "X = data.drop(columns=['PCOS (Y/N)'], axis=1)\n",
    "y = data[\"PCOS (Y/N)\"]"
   ]
  },
  {
   "cell_type": "code",
   "execution_count": 14,
   "id": "471b96b4",
   "metadata": {},
   "outputs": [],
   "source": [
    "correlations = []\n",
    "for col in X.columns:\n",
    "    corr, _ = pearsonr(X[col], y)\n",
    "    correlations.append(corr)\n",
    "\n",
    "# obtendo o módulo dos coeficientes de correlação\n",
    "correlations = map(math.fabs, correlations)\n",
    "\n",
    "\n",
    "# criar um dicionário de features e seus coeficientes de correlação\n",
    "corr_dict = dict(zip(X.columns, correlations))\n",
    "\n",
    "\n",
    "# ordena o dicionário por coeficiente de correlação em ordem decrescente\n",
    "sorted_corr_dict = {k: v for k, v in sorted(corr_dict.items(), key=lambda item: item[1], reverse=True)}\n",
    "\n",
    "N = 20\n",
    "selected_features = list(sorted_corr_dict.keys())[:N]\n",
    "\n",
    "\n",
    "X_selected = X[selected_features]"
   ]
  },
  {
   "cell_type": "code",
   "execution_count": 15,
   "id": "1c824cfe",
   "metadata": {
    "scrolled": true
   },
   "outputs": [
    {
     "data": {
      "text/plain": [
       "PCOS (Y/N)                1.000000\n",
       "Follicle No. (R)          0.650929\n",
       "Follicle No. (L)          0.601208\n",
       "Skin darkening (Y/N)      0.481323\n",
       "hair growth(Y/N)          0.466508\n",
       "Weight gain(Y/N)          0.443093\n",
       "Cycle(R/I)                0.401837\n",
       "Fast food (Y/N)           0.380985\n",
       "Pimples(Y/N)              0.290335\n",
       "AMH(ng/mL)                0.263974\n",
       "Weight (Kg)               0.209969\n",
       "BMI                       0.198854\n",
       "Hair loss(Y/N)            0.176496\n",
       "Waist(inch)               0.161922\n",
       "Hip(inch)                 0.160882\n",
       "Avg. F size (L) (mm)      0.129997\n",
       "Endometrium (mm)          0.107639\n",
       "Avg. F size (R) (mm)      0.094528\n",
       "Pulse rate(bpm)           0.092699\n",
       "Hb(g/dl)                  0.087809\n",
       "Vit D3 (ng/mL)            0.085825\n",
       "Reg.Exercise(Y/N)         0.071979\n",
       "Height(Cm)                0.065465\n",
       "LH(mIU/mL)                0.064074\n",
       "RBS(mg/dl)                0.049452\n",
       "RR (breaths/min)          0.038641\n",
       "Blood Group               0.033701\n",
       "BP _Diastolic (mmHg)      0.033562\n",
       "II    beta-HCG(mIU/mL)    0.012808\n",
       "Waist:Hip Ratio           0.009309\n",
       "BP _Systolic (mmHg)       0.007923\n",
       "PRL(ng/mL)                0.001649\n",
       "TSH (mIU/L)              -0.005277\n",
       "FSH/LH                   -0.018512\n",
       "Pregnant(Y/N)            -0.027632\n",
       "  I   beta-HCG(mIU/mL)   -0.028074\n",
       "FSH(mIU/mL)              -0.030384\n",
       "PRG(ng/mL)               -0.043897\n",
       "No. of abortions         -0.057316\n",
       "Marraige Status (Yrs)    -0.113406\n",
       " Age (yrs)               -0.171349\n",
       "Cycle length(days)       -0.183811\n",
       "Name: PCOS (Y/N), dtype: float64"
      ]
     },
     "execution_count": 15,
     "metadata": {},
     "output_type": "execute_result"
    }
   ],
   "source": [
    "correlation = data.corr()\n",
    "correlation[\"PCOS (Y/N)\"].sort_values(ascending=False)"
   ]
  },
  {
   "cell_type": "code",
   "execution_count": 16,
   "id": "e3e37f53",
   "metadata": {},
   "outputs": [
    {
     "data": {
      "text/html": [
       "<div>\n",
       "<style scoped>\n",
       "    .dataframe tbody tr th:only-of-type {\n",
       "        vertical-align: middle;\n",
       "    }\n",
       "\n",
       "    .dataframe tbody tr th {\n",
       "        vertical-align: top;\n",
       "    }\n",
       "\n",
       "    .dataframe thead th {\n",
       "        text-align: right;\n",
       "    }\n",
       "</style>\n",
       "<table border=\"1\" class=\"dataframe\">\n",
       "  <thead>\n",
       "    <tr style=\"text-align: right;\">\n",
       "      <th></th>\n",
       "      <th>Follicle No. (R)</th>\n",
       "      <th>Follicle No. (L)</th>\n",
       "      <th>Skin darkening (Y/N)</th>\n",
       "      <th>hair growth(Y/N)</th>\n",
       "      <th>Weight gain(Y/N)</th>\n",
       "      <th>Cycle(R/I)</th>\n",
       "      <th>Fast food (Y/N)</th>\n",
       "      <th>Pimples(Y/N)</th>\n",
       "      <th>AMH(ng/mL)</th>\n",
       "      <th>Weight (Kg)</th>\n",
       "      <th>BMI</th>\n",
       "      <th>Cycle length(days)</th>\n",
       "      <th>Hair loss(Y/N)</th>\n",
       "      <th>Age (yrs)</th>\n",
       "      <th>Waist(inch)</th>\n",
       "      <th>Hip(inch)</th>\n",
       "      <th>Avg. F size (L) (mm)</th>\n",
       "      <th>Marraige Status (Yrs)</th>\n",
       "      <th>Endometrium (mm)</th>\n",
       "      <th>Avg. F size (R) (mm)</th>\n",
       "    </tr>\n",
       "  </thead>\n",
       "  <tbody>\n",
       "    <tr>\n",
       "      <th>0</th>\n",
       "      <td>3</td>\n",
       "      <td>3</td>\n",
       "      <td>0</td>\n",
       "      <td>0</td>\n",
       "      <td>0</td>\n",
       "      <td>2</td>\n",
       "      <td>1.0</td>\n",
       "      <td>0</td>\n",
       "      <td>2.07</td>\n",
       "      <td>44.6</td>\n",
       "      <td>19.3</td>\n",
       "      <td>5</td>\n",
       "      <td>0</td>\n",
       "      <td>28</td>\n",
       "      <td>30</td>\n",
       "      <td>36</td>\n",
       "      <td>18.0</td>\n",
       "      <td>7.0</td>\n",
       "      <td>8.5</td>\n",
       "      <td>18.0</td>\n",
       "    </tr>\n",
       "    <tr>\n",
       "      <th>1</th>\n",
       "      <td>5</td>\n",
       "      <td>3</td>\n",
       "      <td>0</td>\n",
       "      <td>0</td>\n",
       "      <td>0</td>\n",
       "      <td>2</td>\n",
       "      <td>0.0</td>\n",
       "      <td>0</td>\n",
       "      <td>1.53</td>\n",
       "      <td>65.0</td>\n",
       "      <td>24.9</td>\n",
       "      <td>5</td>\n",
       "      <td>0</td>\n",
       "      <td>36</td>\n",
       "      <td>32</td>\n",
       "      <td>38</td>\n",
       "      <td>15.0</td>\n",
       "      <td>11.0</td>\n",
       "      <td>3.7</td>\n",
       "      <td>14.0</td>\n",
       "    </tr>\n",
       "    <tr>\n",
       "      <th>2</th>\n",
       "      <td>15</td>\n",
       "      <td>13</td>\n",
       "      <td>0</td>\n",
       "      <td>0</td>\n",
       "      <td>0</td>\n",
       "      <td>2</td>\n",
       "      <td>1.0</td>\n",
       "      <td>1</td>\n",
       "      <td>6.63</td>\n",
       "      <td>68.8</td>\n",
       "      <td>25.3</td>\n",
       "      <td>5</td>\n",
       "      <td>1</td>\n",
       "      <td>33</td>\n",
       "      <td>36</td>\n",
       "      <td>40</td>\n",
       "      <td>18.0</td>\n",
       "      <td>10.0</td>\n",
       "      <td>10.0</td>\n",
       "      <td>20.0</td>\n",
       "    </tr>\n",
       "    <tr>\n",
       "      <th>3</th>\n",
       "      <td>2</td>\n",
       "      <td>2</td>\n",
       "      <td>0</td>\n",
       "      <td>0</td>\n",
       "      <td>0</td>\n",
       "      <td>2</td>\n",
       "      <td>0.0</td>\n",
       "      <td>0</td>\n",
       "      <td>1.22</td>\n",
       "      <td>65.0</td>\n",
       "      <td>29.7</td>\n",
       "      <td>5</td>\n",
       "      <td>0</td>\n",
       "      <td>37</td>\n",
       "      <td>36</td>\n",
       "      <td>42</td>\n",
       "      <td>15.0</td>\n",
       "      <td>4.0</td>\n",
       "      <td>7.5</td>\n",
       "      <td>14.0</td>\n",
       "    </tr>\n",
       "    <tr>\n",
       "      <th>4</th>\n",
       "      <td>4</td>\n",
       "      <td>3</td>\n",
       "      <td>0</td>\n",
       "      <td>0</td>\n",
       "      <td>0</td>\n",
       "      <td>2</td>\n",
       "      <td>0.0</td>\n",
       "      <td>0</td>\n",
       "      <td>2.26</td>\n",
       "      <td>52.0</td>\n",
       "      <td>20.1</td>\n",
       "      <td>5</td>\n",
       "      <td>1</td>\n",
       "      <td>25</td>\n",
       "      <td>30</td>\n",
       "      <td>37</td>\n",
       "      <td>16.0</td>\n",
       "      <td>1.0</td>\n",
       "      <td>7.0</td>\n",
       "      <td>14.0</td>\n",
       "    </tr>\n",
       "    <tr>\n",
       "      <th>...</th>\n",
       "      <td>...</td>\n",
       "      <td>...</td>\n",
       "      <td>...</td>\n",
       "      <td>...</td>\n",
       "      <td>...</td>\n",
       "      <td>...</td>\n",
       "      <td>...</td>\n",
       "      <td>...</td>\n",
       "      <td>...</td>\n",
       "      <td>...</td>\n",
       "      <td>...</td>\n",
       "      <td>...</td>\n",
       "      <td>...</td>\n",
       "      <td>...</td>\n",
       "      <td>...</td>\n",
       "      <td>...</td>\n",
       "      <td>...</td>\n",
       "      <td>...</td>\n",
       "      <td>...</td>\n",
       "      <td>...</td>\n",
       "    </tr>\n",
       "    <tr>\n",
       "      <th>536</th>\n",
       "      <td>0</td>\n",
       "      <td>1</td>\n",
       "      <td>0</td>\n",
       "      <td>0</td>\n",
       "      <td>0</td>\n",
       "      <td>2</td>\n",
       "      <td>0.0</td>\n",
       "      <td>0</td>\n",
       "      <td>1.70</td>\n",
       "      <td>50.0</td>\n",
       "      <td>18.5</td>\n",
       "      <td>5</td>\n",
       "      <td>0</td>\n",
       "      <td>35</td>\n",
       "      <td>26</td>\n",
       "      <td>28</td>\n",
       "      <td>17.5</td>\n",
       "      <td>8.0</td>\n",
       "      <td>6.7</td>\n",
       "      <td>10.0</td>\n",
       "    </tr>\n",
       "    <tr>\n",
       "      <th>537</th>\n",
       "      <td>7</td>\n",
       "      <td>9</td>\n",
       "      <td>0</td>\n",
       "      <td>0</td>\n",
       "      <td>1</td>\n",
       "      <td>2</td>\n",
       "      <td>0.0</td>\n",
       "      <td>0</td>\n",
       "      <td>5.60</td>\n",
       "      <td>63.2</td>\n",
       "      <td>25.3</td>\n",
       "      <td>5</td>\n",
       "      <td>0</td>\n",
       "      <td>30</td>\n",
       "      <td>32</td>\n",
       "      <td>34</td>\n",
       "      <td>19.0</td>\n",
       "      <td>4.0</td>\n",
       "      <td>8.2</td>\n",
       "      <td>18.0</td>\n",
       "    </tr>\n",
       "    <tr>\n",
       "      <th>538</th>\n",
       "      <td>0</td>\n",
       "      <td>1</td>\n",
       "      <td>0</td>\n",
       "      <td>0</td>\n",
       "      <td>0</td>\n",
       "      <td>2</td>\n",
       "      <td>0.0</td>\n",
       "      <td>0</td>\n",
       "      <td>3.70</td>\n",
       "      <td>54.0</td>\n",
       "      <td>23.4</td>\n",
       "      <td>6</td>\n",
       "      <td>0</td>\n",
       "      <td>36</td>\n",
       "      <td>28</td>\n",
       "      <td>30</td>\n",
       "      <td>18.0</td>\n",
       "      <td>8.0</td>\n",
       "      <td>7.3</td>\n",
       "      <td>9.0</td>\n",
       "    </tr>\n",
       "    <tr>\n",
       "      <th>539</th>\n",
       "      <td>6</td>\n",
       "      <td>7</td>\n",
       "      <td>0</td>\n",
       "      <td>0</td>\n",
       "      <td>0</td>\n",
       "      <td>4</td>\n",
       "      <td>0.0</td>\n",
       "      <td>1</td>\n",
       "      <td>5.20</td>\n",
       "      <td>50.0</td>\n",
       "      <td>22.2</td>\n",
       "      <td>2</td>\n",
       "      <td>0</td>\n",
       "      <td>27</td>\n",
       "      <td>26</td>\n",
       "      <td>28</td>\n",
       "      <td>18.0</td>\n",
       "      <td>2.0</td>\n",
       "      <td>11.5</td>\n",
       "      <td>16.0</td>\n",
       "    </tr>\n",
       "    <tr>\n",
       "      <th>540</th>\n",
       "      <td>10</td>\n",
       "      <td>9</td>\n",
       "      <td>1</td>\n",
       "      <td>1</td>\n",
       "      <td>1</td>\n",
       "      <td>4</td>\n",
       "      <td>1.0</td>\n",
       "      <td>1</td>\n",
       "      <td>20.00</td>\n",
       "      <td>82.0</td>\n",
       "      <td>30.1</td>\n",
       "      <td>7</td>\n",
       "      <td>1</td>\n",
       "      <td>23</td>\n",
       "      <td>46</td>\n",
       "      <td>48</td>\n",
       "      <td>19.0</td>\n",
       "      <td>2.0</td>\n",
       "      <td>6.9</td>\n",
       "      <td>18.0</td>\n",
       "    </tr>\n",
       "  </tbody>\n",
       "</table>\n",
       "<p>538 rows × 20 columns</p>\n",
       "</div>"
      ],
      "text/plain": [
       "     Follicle No. (R)  Follicle No. (L)  Skin darkening (Y/N)  \\\n",
       "0                   3                 3                     0   \n",
       "1                   5                 3                     0   \n",
       "2                  15                13                     0   \n",
       "3                   2                 2                     0   \n",
       "4                   4                 3                     0   \n",
       "..                ...               ...                   ...   \n",
       "536                 0                 1                     0   \n",
       "537                 7                 9                     0   \n",
       "538                 0                 1                     0   \n",
       "539                 6                 7                     0   \n",
       "540                10                 9                     1   \n",
       "\n",
       "     hair growth(Y/N)  Weight gain(Y/N)  Cycle(R/I)  Fast food (Y/N)  \\\n",
       "0                   0                 0           2              1.0   \n",
       "1                   0                 0           2              0.0   \n",
       "2                   0                 0           2              1.0   \n",
       "3                   0                 0           2              0.0   \n",
       "4                   0                 0           2              0.0   \n",
       "..                ...               ...         ...              ...   \n",
       "536                 0                 0           2              0.0   \n",
       "537                 0                 1           2              0.0   \n",
       "538                 0                 0           2              0.0   \n",
       "539                 0                 0           4              0.0   \n",
       "540                 1                 1           4              1.0   \n",
       "\n",
       "     Pimples(Y/N)  AMH(ng/mL)  Weight (Kg)   BMI  Cycle length(days)  \\\n",
       "0               0        2.07         44.6  19.3                   5   \n",
       "1               0        1.53         65.0  24.9                   5   \n",
       "2               1        6.63         68.8  25.3                   5   \n",
       "3               0        1.22         65.0  29.7                   5   \n",
       "4               0        2.26         52.0  20.1                   5   \n",
       "..            ...         ...          ...   ...                 ...   \n",
       "536             0        1.70         50.0  18.5                   5   \n",
       "537             0        5.60         63.2  25.3                   5   \n",
       "538             0        3.70         54.0  23.4                   6   \n",
       "539             1        5.20         50.0  22.2                   2   \n",
       "540             1       20.00         82.0  30.1                   7   \n",
       "\n",
       "     Hair loss(Y/N)   Age (yrs)  Waist(inch)  Hip(inch)  Avg. F size (L) (mm)  \\\n",
       "0                 0          28           30         36                  18.0   \n",
       "1                 0          36           32         38                  15.0   \n",
       "2                 1          33           36         40                  18.0   \n",
       "3                 0          37           36         42                  15.0   \n",
       "4                 1          25           30         37                  16.0   \n",
       "..              ...         ...          ...        ...                   ...   \n",
       "536               0          35           26         28                  17.5   \n",
       "537               0          30           32         34                  19.0   \n",
       "538               0          36           28         30                  18.0   \n",
       "539               0          27           26         28                  18.0   \n",
       "540               1          23           46         48                  19.0   \n",
       "\n",
       "     Marraige Status (Yrs)  Endometrium (mm)  Avg. F size (R) (mm)  \n",
       "0                      7.0               8.5                  18.0  \n",
       "1                     11.0               3.7                  14.0  \n",
       "2                     10.0              10.0                  20.0  \n",
       "3                      4.0               7.5                  14.0  \n",
       "4                      1.0               7.0                  14.0  \n",
       "..                     ...               ...                   ...  \n",
       "536                    8.0               6.7                  10.0  \n",
       "537                    4.0               8.2                  18.0  \n",
       "538                    8.0               7.3                   9.0  \n",
       "539                    2.0              11.5                  16.0  \n",
       "540                    2.0               6.9                  18.0  \n",
       "\n",
       "[538 rows x 20 columns]"
      ]
     },
     "execution_count": 16,
     "metadata": {},
     "output_type": "execute_result"
    }
   ],
   "source": [
    "X_selected"
   ]
  },
  {
   "cell_type": "markdown",
   "id": "a4f09511",
   "metadata": {},
   "source": [
    "## Separando o conjunto de testes e treino\n",
    "\n",
    "Partição 70/30"
   ]
  },
  {
   "cell_type": "code",
   "execution_count": 17,
   "id": "32f668c7",
   "metadata": {},
   "outputs": [],
   "source": [
    "X_train, X_test, y_train, y_test = train_test_split(X_selected, y,test_size=0.30)"
   ]
  },
  {
   "cell_type": "markdown",
   "id": "1bb1dc9d",
   "metadata": {},
   "source": [
    "### Normalizando os atributos preditores"
   ]
  },
  {
   "cell_type": "code",
   "execution_count": 18,
   "id": "2e70461f",
   "metadata": {},
   "outputs": [
    {
     "name": "stderr",
     "output_type": "stream",
     "text": [
      "C:\\Users\\Callidus\\anaconda3\\lib\\site-packages\\numpy\\core\\fromnumeric.py:84: FutureWarning: In a future version, DataFrame.min(axis=None) will return a scalar min over the entire DataFrame. To retain the old behavior, use 'frame.min(axis=0)' or just 'frame.min()'\n",
      "  return reduction(axis=axis, out=out, **passkwargs)\n",
      "C:\\Users\\Callidus\\anaconda3\\lib\\site-packages\\numpy\\core\\fromnumeric.py:84: FutureWarning: In a future version, DataFrame.max(axis=None) will return a scalar max over the entire DataFrame. To retain the old behavior, use 'frame.max(axis=0)' or just 'frame.max()'\n",
      "  return reduction(axis=axis, out=out, **passkwargs)\n"
     ]
    }
   ],
   "source": [
    "X_train_norm = (X_train - np.min(X_train))/(np.max(X_train) - np.min(X_train))"
   ]
  },
  {
   "cell_type": "code",
   "execution_count": 19,
   "id": "0e9f8c05",
   "metadata": {},
   "outputs": [],
   "source": [
    "X_test_norm = (X_test - np.min(X_train))/(np.max(X_train) - np.min(X_train))"
   ]
  },
  {
   "cell_type": "markdown",
   "id": "9f1ca358",
   "metadata": {},
   "source": [
    "## Estimando o número de neurônios\n"
   ]
  },
  {
   "cell_type": "markdown",
   "id": "4a61a44f",
   "metadata": {},
   "source": [
    "1. Obtendo os valores de $N_i$ e $N_o$"
   ]
  },
  {
   "cell_type": "code",
   "execution_count": 20,
   "id": "cf2c8427",
   "metadata": {},
   "outputs": [
    {
     "name": "stdout",
     "output_type": "stream",
     "text": [
      "No: 1\n",
      "Ni: 21\n"
     ]
    }
   ],
   "source": [
    "n_o = 1\n",
    "n_i = X_selected.shape[1] + 1\n",
    "\n",
    "print(f'No: {n_o}')\n",
    "print(f'Ni: {n_i}')"
   ]
  },
  {
   "cell_type": "markdown",
   "id": "90fd513a",
   "metadata": {},
   "source": [
    "2. Testando os valores de $\\alpha$ como $0.5$, $2$ e $3$."
   ]
  },
  {
   "cell_type": "code",
   "execution_count": 21,
   "id": "421a7cb5",
   "metadata": {},
   "outputs": [
    {
     "data": {
      "text/plain": [
       "[2, 9, 14]"
      ]
     },
     "execution_count": 21,
     "metadata": {},
     "output_type": "execute_result"
    }
   ],
   "source": [
    "import math \n",
    "\n",
    "alphas = [0.5, 2, 3]\n",
    "n_h = []\n",
    "\n",
    "for alpha in alphas:\n",
    "  n_h.append(round(alpha * math.sqrt(n_i * n_o)))\n",
    "\n",
    "n_h"
   ]
  },
  {
   "cell_type": "markdown",
   "id": "8087caa1",
   "metadata": {},
   "source": [
    "Arquiteturas segundo a regra da pirâmide geométrica"
   ]
  },
  {
   "cell_type": "code",
   "execution_count": 22,
   "id": "4c1ec083",
   "metadata": {},
   "outputs": [
    {
     "name": "stdout",
     "output_type": "stream",
     "text": [
      "[(1, 1), (1, 8), (2, 7), (3, 6), (4, 5), (5, 4), (6, 3), (7, 2), (8, 1), (1, 13), (2, 12), (3, 11), (4, 10), (5, 9), (6, 8), (7, 7), (8, 6), (9, 5), (10, 4), (11, 3), (12, 2), (13, 1)]\n",
      "22\n"
     ]
    }
   ],
   "source": [
    "def get_architectures(Nh, quant):\n",
    "    S = [i for i in range(int(Nh))]\n",
    "    arch_list = []\n",
    "    for i in range(len(S)):\n",
    "        for j in range(len(S)):\n",
    "            if ((S[i], S[j]) not in arch_list) and (i + j == len(S) and (len(arch_list) < quant)):\n",
    "                arch_list.append((S[i], S[j]))\n",
    "    \n",
    "    return arch_list\n",
    "\n",
    "layer_arch = []\n",
    "layer_0 = get_architectures(n_h[0], 2)\n",
    "layer_1 = get_architectures(n_h[1], 9)\n",
    "layer_2 = get_architectures(n_h[2], 14)\n",
    "layer_arch = layer_0 + layer_1 + layer_2\n",
    "\n",
    "print(layer_arch)\n",
    "print(len(layer_arch))\n"
   ]
  },
  {
   "cell_type": "markdown",
   "id": "f06b28f9",
   "metadata": {},
   "source": [
    "## Resultados da busca em grade"
   ]
  },
  {
   "cell_type": "markdown",
   "id": "6c73c443",
   "metadata": {},
   "source": [
    "**MLP**\n",
    "- Paciência: $25$ e $50$\n",
    "- batch_size: $16$ e $32$\n",
    "- $\\beta_1$: $1$, $0.9$, $0.8$ \n",
    "- $\\beta_2$: $0.999$, $0.95$, $0.9$\n",
    "- Épocas: $300$ e $500$\n",
    "- Função de ativação: relu, sigmoide"
   ]
  },
  {
   "cell_type": "markdown",
   "id": "568015de",
   "metadata": {},
   "source": [
    "### **Resultados utilizando 42 atributos preditores**"
   ]
  },
  {
   "cell_type": "code",
   "execution_count": 23,
   "id": "543c610e",
   "metadata": {},
   "outputs": [],
   "source": [
    "results = pd.read_csv('PCOS_45_attr.csv')\n",
    "results.sort_values(by='rank_test_score', inplace=True)"
   ]
  },
  {
   "cell_type": "code",
   "execution_count": 24,
   "id": "7b28549b",
   "metadata": {},
   "outputs": [
    {
     "data": {
      "text/plain": [
       "(\"{'activation': 'logistic', 'batch_size': 16, 'beta_1': 0.9, 'beta_2': 0.9, 'hidden_layer_sizes': (4, 16), 'max_iter': 500, 'n_iter_no_change': 25, 'solver': 'adam', 'verbose': False}\",\n",
       " \"{'activation': 'logistic', 'batch_size': 16, 'beta_1': 0.8, 'beta_2': 0.9, 'hidden_layer_sizes': (7, 13), 'max_iter': 300, 'n_iter_no_change': 25, 'solver': 'adam', 'verbose': False}\",\n",
       " \"{'activation': 'logistic', 'batch_size': 16, 'beta_1': 0.9, 'beta_2': 0.9, 'hidden_layer_sizes': (5, 15), 'max_iter': 500, 'n_iter_no_change': 25, 'solver': 'adam', 'verbose': False}\")"
      ]
     },
     "execution_count": 24,
     "metadata": {},
     "output_type": "execute_result"
    }
   ],
   "source": [
    "results[\"params\"].iloc[0], results[\"params\"].iloc[1], results[\"params\"].iloc[2]"
   ]
  },
  {
   "cell_type": "code",
   "execution_count": 25,
   "id": "3472575d",
   "metadata": {},
   "outputs": [
    {
     "data": {
      "text/plain": [
       "MLPClassifier(activation='logistic', batch_size=16, beta_2=0.9,\n",
       "              early_stopping=True, hidden_layer_sizes=(4, 16), max_iter=500,\n",
       "              n_iter_no_change=25)"
      ]
     },
     "execution_count": 25,
     "metadata": {},
     "output_type": "execute_result"
    }
   ],
   "source": [
    "mlp_1 = MLPClassifier(\n",
    "    verbose= False,\n",
    "    max_iter=500, \n",
    "    activation='logistic', \n",
    "    hidden_layer_sizes=(4,16),\n",
    "    batch_size=16,\n",
    "    beta_1=0.9,\n",
    "    beta_2=0.9,\n",
    "    solver='adam',\n",
    "    early_stopping=True,\n",
    "    n_iter_no_change=25\n",
    ")\n",
    "mlp_1.fit(X_train_norm.values, y_train)"
   ]
  },
  {
   "cell_type": "code",
   "execution_count": 26,
   "id": "37557607",
   "metadata": {},
   "outputs": [
    {
     "data": {
      "text/plain": [
       "MLPClassifier(activation='logistic', batch_size=16, beta_1=0.8, beta_2=0.9,\n",
       "              early_stopping=True, hidden_layer_sizes=(7, 13), max_iter=300,\n",
       "              n_iter_no_change=25)"
      ]
     },
     "execution_count": 26,
     "metadata": {},
     "output_type": "execute_result"
    }
   ],
   "source": [
    "mlp_2 = MLPClassifier(\n",
    "    verbose= False,\n",
    "    max_iter=300, \n",
    "    activation='logistic', \n",
    "    hidden_layer_sizes=(7,13),\n",
    "    batch_size=16,\n",
    "    beta_1=0.8,\n",
    "    beta_2=0.9,\n",
    "    solver='adam',\n",
    "    early_stopping=True,\n",
    "    n_iter_no_change=25\n",
    ")\n",
    "mlp_2.fit(X_train_norm.values, y_train)"
   ]
  },
  {
   "cell_type": "code",
   "execution_count": 27,
   "id": "fc043b1c",
   "metadata": {},
   "outputs": [
    {
     "data": {
      "text/plain": [
       "MLPClassifier(activation='logistic', batch_size=16, beta_2=0.9,\n",
       "              early_stopping=True, hidden_layer_sizes=(5, 15), max_iter=500,\n",
       "              n_iter_no_change=25)"
      ]
     },
     "execution_count": 27,
     "metadata": {},
     "output_type": "execute_result"
    }
   ],
   "source": [
    "mlp_3 = MLPClassifier(\n",
    "    verbose= False,\n",
    "    max_iter=500, \n",
    "    activation='logistic', \n",
    "    hidden_layer_sizes=(5,15),\n",
    "    batch_size=16,\n",
    "    beta_1=0.9,\n",
    "    beta_2=0.9,\n",
    "    solver='adam',\n",
    "    early_stopping=True,\n",
    "    n_iter_no_change=25\n",
    ")\n",
    "mlp_3.fit(X_train_norm.values, y_train)"
   ]
  },
  {
   "cell_type": "markdown",
   "id": "79704f54",
   "metadata": {},
   "source": [
    "Resultados obtidos pelas três melhores MLPs"
   ]
  },
  {
   "cell_type": "code",
   "execution_count": 28,
   "id": "c3470be2",
   "metadata": {},
   "outputs": [
    {
     "name": "stdout",
     "output_type": "stream",
     "text": [
      "ACURÁCIA: 0.7222\n"
     ]
    },
    {
     "data": {
      "image/png": "[encoded data removed]",
      "text/plain": [
       "<Figure size 400x400 with 1 Axes>"
      ]
     },
     "metadata": {},
     "output_type": "display_data"
    }
   ],
   "source": [
    "y_pred = mlp_1.predict(X_test_norm.values)\n",
    "get_accuracy(y_test, y_pred)\n",
    "plot_confusion_matrix(y_test, y_pred)"
   ]
  },
  {
   "cell_type": "code",
   "execution_count": 29,
   "id": "7f3df99a",
   "metadata": {},
   "outputs": [
    {
     "name": "stdout",
     "output_type": "stream",
     "text": [
      "ACURÁCIA: 0.7222\n"
     ]
    },
    {
     "data": {
      "image/png": "[encoded data removed]",
      "text/plain": [
       "<Figure size 400x400 with 1 Axes>"
      ]
     },
     "metadata": {},
     "output_type": "display_data"
    }
   ],
   "source": [
    "y_pred = mlp_2.predict(X_test_norm.values)\n",
    "get_accuracy(y_test, y_pred)\n",
    "plot_confusion_matrix(y_test, y_pred)"
   ]
  },
  {
   "cell_type": "markdown",
   "id": "9183cce4",
   "metadata": {},
   "source": [
    "## Algoritmo XGBoost"
   ]
  },
  {
   "cell_type": "code",
   "execution_count": 40,
   "id": "5437c171",
   "metadata": {},
   "outputs": [
    {
     "name": "stdout",
     "output_type": "stream",
     "text": [
      "0.9074074074074074\n",
      "=-=-=-=-=-=-=\n",
      "0.9197530864197531\n"
     ]
    }
   ],
   "source": [
    "clf = GradientBoostingClassifier(\n",
    "    max_depth=2,\n",
    "    n_estimators=120,\n",
    "    random_state=42).fit(X_train_norm, y_train)\n",
    "\n",
    "print(clf.score(X_test_norm, y_test))\n",
    "\n",
    "print(\"=-=-=-=-=-=-=\")\n",
    "\n",
    "errors = [mean_squared_error(y_test, y_pred)\n",
    "          for y_pred in clf.staged_predict(X_test_norm)]\n",
    "\n",
    "best_n_estimator = np.argmin(errors) + 1\n",
    "\n",
    "clf_best =  GradientBoostingClassifier(\n",
    "    max_depth=2,\n",
    "    n_estimators=best_n_estimator,\n",
    "    random_state=0).fit(X_train_norm, y_train)\n",
    "\n",
    "print(clf_best.score(X_test_norm, y_test))\n",
    "\n",
    "y_pred = clf.predict(X_test_norm)"
   ]
  },
  {
   "cell_type": "code",
   "execution_count": 41,
   "id": "db742a2d",
   "metadata": {},
   "outputs": [
    {
     "name": "stdout",
     "output_type": "stream",
     "text": [
      "ACURÁCIA: 0.9074\n",
      "F-SCORE: 0.9074\n"
     ]
    },
    {
     "data": {
      "image/png": "[encoded data removed]",
      "text/plain": [
       "<Figure size 400x400 with 1 Axes>"
      ]
     },
     "metadata": {},
     "output_type": "display_data"
    }
   ],
   "source": [
    "get_accuracy(y_test, y_pred)\n",
    "f_score(y_test, y_pred)\n",
    "plot_confusion_matrix(y_test, y_pred)"
   ]
  },
  {
   "cell_type": "markdown",
   "id": "c04f25ab",
   "metadata": {},
   "source": [
    "### Utilizando a biblioteca xgboost"
   ]
  },
  {
   "cell_type": "code",
   "execution_count": 42,
   "id": "ec0c5c95",
   "metadata": {},
   "outputs": [],
   "source": [
    "clf_xgb = xgb.XGBClassifier()"
   ]
  },
  {
   "cell_type": "code",
   "execution_count": 43,
   "id": "a1cffb1e",
   "metadata": {},
   "outputs": [
    {
     "data": {
      "text/plain": [
       "0.8857894736842106"
      ]
     },
     "execution_count": 43,
     "metadata": {},
     "output_type": "execute_result"
    }
   ],
   "source": [
    "xgb_results = cross_val_score(clf_xgb, X_train_norm.values, y_train, cv=5)\n",
    "xgb_results.mean()"
   ]
  },
  {
   "cell_type": "code",
   "execution_count": 44,
   "id": "f90c1fde",
   "metadata": {},
   "outputs": [
    {
     "data": {
      "text/plain": [
       "0.8937543859649123"
      ]
     },
     "execution_count": 44,
     "metadata": {},
     "output_type": "execute_result"
    }
   ],
   "source": [
    "clf_xgb_modified = xgb.XGBClassifier(max_depth=2)\n",
    "cross_val_score(clf_xgb_modified, X_train_norm.values, y_train).mean()"
   ]
  },
  {
   "cell_type": "code",
   "execution_count": 45,
   "id": "7da501c5",
   "metadata": {},
   "outputs": [
    {
     "data": {
      "text/plain": [
       "0.8883859649122806"
      ]
     },
     "execution_count": 45,
     "metadata": {},
     "output_type": "execute_result"
    }
   ],
   "source": [
    "class_xgb = xgb.XGBClassifier(booster='gblinear')\n",
    "cross_val_score(class_xgb, X_train_norm.values, y_train).mean()"
   ]
  },
  {
   "cell_type": "code",
   "execution_count": 52,
   "id": "7c255c61",
   "metadata": {},
   "outputs": [
    {
     "data": {
      "text/plain": [
       "XGBClassifier(base_score=None, booster='gblinear', callbacks=None,\n",
       "              colsample_bylevel=None, colsample_bynode=None,\n",
       "              colsample_bytree=None, early_stopping_rounds=None,\n",
       "              enable_categorical=False, eval_metric=None, feature_types=None,\n",
       "              gamma=None, gpu_id=None, grow_policy=None, importance_type=None,\n",
       "              interaction_constraints=None, learning_rate=None, max_bin=None,\n",
       "              max_cat_threshold=None, max_cat_to_onehot=None,\n",
       "              max_delta_step=None, max_depth=None, max_leaves=None,\n",
       "              min_child_weight=None, missing=nan, monotone_constraints=None,\n",
       "              n_estimators=100, n_jobs=None, num_parallel_tree=None,\n",
       "              predictor=None, random_state=None, ...)"
      ]
     },
     "execution_count": 52,
     "metadata": {},
     "output_type": "execute_result"
    }
   ],
   "source": [
    "class_xgb.fit(X_train_norm.values, y_train)"
   ]
  },
  {
   "cell_type": "code",
   "execution_count": 53,
   "id": "ddd8a111",
   "metadata": {},
   "outputs": [],
   "source": [
    "y_xgb_pred = class_xgb.predict(X_test_norm)"
   ]
  },
  {
   "cell_type": "code",
   "execution_count": 55,
   "id": "2f2a1be1",
   "metadata": {},
   "outputs": [
    {
     "name": "stdout",
     "output_type": "stream",
     "text": [
      "ACURÁCIA: 0.9383\n"
     ]
    },
    {
     "data": {
      "image/png": "[encoded data removed]",
      "text/plain": [
       "<Figure size 400x400 with 1 Axes>"
      ]
     },
     "metadata": {},
     "output_type": "display_data"
    }
   ],
   "source": [
    "get_accuracy(y_test, y_xgb_pred)\n",
    "plot_confusion_matrix(y_test, y_xgb_pred)"
   ]
  },
  {
   "cell_type": "markdown",
   "id": "e9fc0072",
   "metadata": {},
   "source": [
    "### Validação Cruzada"
   ]
  },
  {
   "cell_type": "code",
   "execution_count": 39,
   "id": "e1ed7c04",
   "metadata": {},
   "outputs": [
    {
     "name": "stdout",
     "output_type": "stream",
     "text": [
      "Acurácia: 0.8941 (+/- 0.08)\n"
     ]
    }
   ],
   "source": [
    "kf = KFold(n_splits=10, shuffle=True, random_state=42)\n",
    "\n",
    "scores = cross_val_score(clf, X, y, cv=kf, scoring='accuracy')\n",
    "\n",
    "print(\"Acurácia: %0.4f (+/- %0.2f)\" % (scores.mean(), scores.std() * 2))"
   ]
  }
 ],
 "metadata": {
  "kernelspec": {
   "display_name": "Python 3 (ipykernel)",
   "language": "python",
   "name": "python3"
  },
  "language_info": {
   "codemirror_mode": {
    "name": "ipython",
    "version": 3
   },
   "file_extension": ".py",
   "mimetype": "text/x-python",
   "name": "python",
   "nbconvert_exporter": "python",
   "pygments_lexer": "ipython3",
   "version": "3.9.13"
  }
 },
 "nbformat": 4,
 "nbformat_minor": 5
}
