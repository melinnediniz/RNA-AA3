{
 "cells": [
  {
   "cell_type": "markdown",
   "id": "e69fee88",
   "metadata": {},
   "source": [
    "# 1.2 Construção do Modelo"
   ]
  },
  {
   "cell_type": "code",
   "execution_count": 14,
   "id": "8873a717",
   "metadata": {},
   "outputs": [],
   "source": [
    "import pandas as pd\n",
    "import numpy as np\n",
    "import seaborn as sns\n",
    "import matplotlib.pyplot as plt\n",
    "import math\n",
    "from scipy.stats import pearsonr\n",
    "from sklearn.model_selection import train_test_split\n",
    "from sklearn.svm import SVC\n",
    "from sklearn.neural_network import MLPClassifier\n",
    "from sklearn import metrics\n",
    "from sklearn.utils.multiclass import unique_labels"
   ]
  },
  {
   "cell_type": "markdown",
   "id": "63f1cf61",
   "metadata": {},
   "source": [
    "### 1.2.1 Abrindo o dataset e tratando os dados"
   ]
  },
  {
   "cell_type": "code",
   "execution_count": 4,
   "id": "ad85e141",
   "metadata": {},
   "outputs": [],
   "source": [
    "data = pd.read_csv('PCOS.csv')"
   ]
  },
  {
   "cell_type": "code",
   "execution_count": 56,
   "id": "d689f6e0",
   "metadata": {},
   "outputs": [
    {
     "data": {
      "text/html": [
       "<div>\n",
       "<style scoped>\n",
       "    .dataframe tbody tr th:only-of-type {\n",
       "        vertical-align: middle;\n",
       "    }\n",
       "\n",
       "    .dataframe tbody tr th {\n",
       "        vertical-align: top;\n",
       "    }\n",
       "\n",
       "    .dataframe thead th {\n",
       "        text-align: right;\n",
       "    }\n",
       "</style>\n",
       "<table border=\"1\" class=\"dataframe\">\n",
       "  <thead>\n",
       "    <tr style=\"text-align: right;\">\n",
       "      <th></th>\n",
       "      <th>Unnamed: 0</th>\n",
       "      <th>Sl. No</th>\n",
       "      <th>Patient File No.</th>\n",
       "      <th>PCOS (Y/N)</th>\n",
       "      <th>Age (yrs)</th>\n",
       "      <th>Weight (Kg)</th>\n",
       "      <th>Height(Cm)</th>\n",
       "      <th>BMI</th>\n",
       "      <th>Blood Group</th>\n",
       "      <th>Pulse rate(bpm)</th>\n",
       "      <th>...</th>\n",
       "      <th>Pimples(Y/N)</th>\n",
       "      <th>Fast food (Y/N)</th>\n",
       "      <th>Reg.Exercise(Y/N)</th>\n",
       "      <th>BP _Systolic (mmHg)</th>\n",
       "      <th>BP _Diastolic (mmHg)</th>\n",
       "      <th>Follicle No. (L)</th>\n",
       "      <th>Follicle No. (R)</th>\n",
       "      <th>Avg. F size (L) (mm)</th>\n",
       "      <th>Avg. F size (R) (mm)</th>\n",
       "      <th>Endometrium (mm)</th>\n",
       "    </tr>\n",
       "  </thead>\n",
       "  <tbody>\n",
       "    <tr>\n",
       "      <th>0</th>\n",
       "      <td>0</td>\n",
       "      <td>1</td>\n",
       "      <td>1</td>\n",
       "      <td>0</td>\n",
       "      <td>28</td>\n",
       "      <td>44.6</td>\n",
       "      <td>152.0</td>\n",
       "      <td>19.3</td>\n",
       "      <td>15</td>\n",
       "      <td>78</td>\n",
       "      <td>...</td>\n",
       "      <td>0</td>\n",
       "      <td>1.0</td>\n",
       "      <td>0</td>\n",
       "      <td>110</td>\n",
       "      <td>80</td>\n",
       "      <td>3</td>\n",
       "      <td>3</td>\n",
       "      <td>18.0</td>\n",
       "      <td>18.0</td>\n",
       "      <td>8.5</td>\n",
       "    </tr>\n",
       "    <tr>\n",
       "      <th>1</th>\n",
       "      <td>1</td>\n",
       "      <td>2</td>\n",
       "      <td>2</td>\n",
       "      <td>0</td>\n",
       "      <td>36</td>\n",
       "      <td>65.0</td>\n",
       "      <td>161.5</td>\n",
       "      <td>24.9</td>\n",
       "      <td>15</td>\n",
       "      <td>74</td>\n",
       "      <td>...</td>\n",
       "      <td>0</td>\n",
       "      <td>0.0</td>\n",
       "      <td>0</td>\n",
       "      <td>120</td>\n",
       "      <td>70</td>\n",
       "      <td>3</td>\n",
       "      <td>5</td>\n",
       "      <td>15.0</td>\n",
       "      <td>14.0</td>\n",
       "      <td>3.7</td>\n",
       "    </tr>\n",
       "  </tbody>\n",
       "</table>\n",
       "<p>2 rows × 45 columns</p>\n",
       "</div>"
      ],
      "text/plain": [
       "   Unnamed: 0  Sl. No  Patient File No.  PCOS (Y/N)   Age (yrs)  Weight (Kg)  \\\n",
       "0           0       1                 1           0          28         44.6   \n",
       "1           1       2                 2           0          36         65.0   \n",
       "\n",
       "   Height(Cm)    BMI  Blood Group  Pulse rate(bpm)   ...  Pimples(Y/N)  \\\n",
       "0        152.0  19.3           15                78  ...             0   \n",
       "1        161.5  24.9           15                74  ...             0   \n",
       "\n",
       "   Fast food (Y/N)  Reg.Exercise(Y/N)  BP _Systolic (mmHg)  \\\n",
       "0              1.0                  0                  110   \n",
       "1              0.0                  0                  120   \n",
       "\n",
       "   BP _Diastolic (mmHg)  Follicle No. (L)  Follicle No. (R)  \\\n",
       "0                    80                 3                 3   \n",
       "1                    70                 3                 5   \n",
       "\n",
       "   Avg. F size (L) (mm) Avg. F size (R) (mm)  Endometrium (mm)  \n",
       "0                  18.0                 18.0               8.5  \n",
       "1                  15.0                 14.0               3.7  \n",
       "\n",
       "[2 rows x 45 columns]"
      ]
     },
     "execution_count": 56,
     "metadata": {},
     "output_type": "execute_result"
    }
   ],
   "source": [
    "data.head(2)"
   ]
  },
  {
   "cell_type": "code",
   "execution_count": 5,
   "id": "7ca11053",
   "metadata": {},
   "outputs": [],
   "source": [
    "data.dropna(inplace=True)"
   ]
  },
  {
   "cell_type": "code",
   "execution_count": 6,
   "id": "ecd57c37",
   "metadata": {},
   "outputs": [],
   "source": [
    "data = data.replace({'1.99.': 1.99})"
   ]
  },
  {
   "cell_type": "code",
   "execution_count": 7,
   "id": "5ae616af",
   "metadata": {},
   "outputs": [],
   "source": [
    "del data[\"Sl. No\"]\n",
    "del data[\"Patient File No.\"]\n",
    "del data[\"Unnamed: 0\"]"
   ]
  },
  {
   "cell_type": "code",
   "execution_count": 60,
   "id": "07f92017",
   "metadata": {},
   "outputs": [
    {
     "name": "stdout",
     "output_type": "stream",
     "text": [
      "<class 'pandas.core.frame.DataFrame'>\n",
      "Int64Index: 539 entries, 0 to 540\n",
      "Data columns (total 42 columns):\n",
      " #   Column                  Non-Null Count  Dtype  \n",
      "---  ------                  --------------  -----  \n",
      " 0   PCOS (Y/N)              539 non-null    int64  \n",
      " 1    Age (yrs)              539 non-null    int64  \n",
      " 2   Weight (Kg)             539 non-null    float64\n",
      " 3   Height(Cm)              539 non-null    float64\n",
      " 4   BMI                     539 non-null    float64\n",
      " 5   Blood Group             539 non-null    int64  \n",
      " 6   Pulse rate(bpm)         539 non-null    int64  \n",
      " 7   RR (breaths/min)        539 non-null    int64  \n",
      " 8   Hb(g/dl)                539 non-null    float64\n",
      " 9   Cycle(R/I)              539 non-null    int64  \n",
      " 10  Cycle length(days)      539 non-null    int64  \n",
      " 11  Marraige Status (Yrs)   539 non-null    float64\n",
      " 12  Pregnant(Y/N)           539 non-null    int64  \n",
      " 13  No. of abortions        539 non-null    int64  \n",
      " 14    I   beta-HCG(mIU/mL)  539 non-null    float64\n",
      " 15  II    beta-HCG(mIU/mL)  539 non-null    object \n",
      " 16  FSH(mIU/mL)             539 non-null    float64\n",
      " 17  LH(mIU/mL)              539 non-null    float64\n",
      " 18  FSH/LH                  539 non-null    float64\n",
      " 19  Hip(inch)               539 non-null    int64  \n",
      " 20  Waist(inch)             539 non-null    int64  \n",
      " 21  Waist:Hip Ratio         539 non-null    float64\n",
      " 22  TSH (mIU/L)             539 non-null    float64\n",
      " 23  AMH(ng/mL)              539 non-null    object \n",
      " 24  PRL(ng/mL)              539 non-null    float64\n",
      " 25  Vit D3 (ng/mL)          539 non-null    float64\n",
      " 26  PRG(ng/mL)              539 non-null    float64\n",
      " 27  RBS(mg/dl)              539 non-null    float64\n",
      " 28  Weight gain(Y/N)        539 non-null    int64  \n",
      " 29  hair growth(Y/N)        539 non-null    int64  \n",
      " 30  Skin darkening (Y/N)    539 non-null    int64  \n",
      " 31  Hair loss(Y/N)          539 non-null    int64  \n",
      " 32  Pimples(Y/N)            539 non-null    int64  \n",
      " 33  Fast food (Y/N)         539 non-null    float64\n",
      " 34  Reg.Exercise(Y/N)       539 non-null    int64  \n",
      " 35  BP _Systolic (mmHg)     539 non-null    int64  \n",
      " 36  BP _Diastolic (mmHg)    539 non-null    int64  \n",
      " 37  Follicle No. (L)        539 non-null    int64  \n",
      " 38  Follicle No. (R)        539 non-null    int64  \n",
      " 39  Avg. F size (L) (mm)    539 non-null    float64\n",
      " 40  Avg. F size (R) (mm)    539 non-null    float64\n",
      " 41  Endometrium (mm)        539 non-null    float64\n",
      "dtypes: float64(19), int64(21), object(2)\n",
      "memory usage: 181.1+ KB\n"
     ]
    }
   ],
   "source": [
    "data.info()"
   ]
  },
  {
   "cell_type": "code",
   "execution_count": 61,
   "id": "f6ff8c76",
   "metadata": {},
   "outputs": [
    {
     "data": {
      "text/html": [
       "<div>\n",
       "<style scoped>\n",
       "    .dataframe tbody tr th:only-of-type {\n",
       "        vertical-align: middle;\n",
       "    }\n",
       "\n",
       "    .dataframe tbody tr th {\n",
       "        vertical-align: top;\n",
       "    }\n",
       "\n",
       "    .dataframe thead th {\n",
       "        text-align: right;\n",
       "    }\n",
       "</style>\n",
       "<table border=\"1\" class=\"dataframe\">\n",
       "  <thead>\n",
       "    <tr style=\"text-align: right;\">\n",
       "      <th></th>\n",
       "      <th>PCOS (Y/N)</th>\n",
       "      <th>Age (yrs)</th>\n",
       "      <th>Weight (Kg)</th>\n",
       "      <th>Height(Cm)</th>\n",
       "      <th>BMI</th>\n",
       "      <th>Blood Group</th>\n",
       "      <th>Pulse rate(bpm)</th>\n",
       "      <th>RR (breaths/min)</th>\n",
       "      <th>Hb(g/dl)</th>\n",
       "      <th>Cycle(R/I)</th>\n",
       "      <th>...</th>\n",
       "      <th>Pimples(Y/N)</th>\n",
       "      <th>Fast food (Y/N)</th>\n",
       "      <th>Reg.Exercise(Y/N)</th>\n",
       "      <th>BP _Systolic (mmHg)</th>\n",
       "      <th>BP _Diastolic (mmHg)</th>\n",
       "      <th>Follicle No. (L)</th>\n",
       "      <th>Follicle No. (R)</th>\n",
       "      <th>Avg. F size (L) (mm)</th>\n",
       "      <th>Avg. F size (R) (mm)</th>\n",
       "      <th>Endometrium (mm)</th>\n",
       "    </tr>\n",
       "  </thead>\n",
       "  <tbody>\n",
       "    <tr>\n",
       "      <th>305</th>\n",
       "      <td>0</td>\n",
       "      <td>37</td>\n",
       "      <td>56.0</td>\n",
       "      <td>152.0</td>\n",
       "      <td>24.2</td>\n",
       "      <td>13</td>\n",
       "      <td>74</td>\n",
       "      <td>20</td>\n",
       "      <td>11.7</td>\n",
       "      <td>2</td>\n",
       "      <td>...</td>\n",
       "      <td>1</td>\n",
       "      <td>0.0</td>\n",
       "      <td>1</td>\n",
       "      <td>120</td>\n",
       "      <td>70</td>\n",
       "      <td>4</td>\n",
       "      <td>5</td>\n",
       "      <td>17.0</td>\n",
       "      <td>16.0</td>\n",
       "      <td>5.6</td>\n",
       "    </tr>\n",
       "  </tbody>\n",
       "</table>\n",
       "<p>1 rows × 42 columns</p>\n",
       "</div>"
      ],
      "text/plain": [
       "     PCOS (Y/N)   Age (yrs)  Weight (Kg)  Height(Cm)    BMI  Blood Group  \\\n",
       "305           0          37         56.0        152.0  24.2           13   \n",
       "\n",
       "     Pulse rate(bpm)   RR (breaths/min)  Hb(g/dl)  Cycle(R/I)  ...  \\\n",
       "305                74                20      11.7           2  ...   \n",
       "\n",
       "     Pimples(Y/N)  Fast food (Y/N)  Reg.Exercise(Y/N)  BP _Systolic (mmHg)  \\\n",
       "305             1              0.0                  1                  120   \n",
       "\n",
       "     BP _Diastolic (mmHg) Follicle No. (L)  Follicle No. (R)  \\\n",
       "305                    70                4                 5   \n",
       "\n",
       "     Avg. F size (L) (mm)  Avg. F size (R) (mm)  Endometrium (mm)  \n",
       "305                  17.0                  16.0               5.6  \n",
       "\n",
       "[1 rows x 42 columns]"
      ]
     },
     "execution_count": 61,
     "metadata": {},
     "output_type": "execute_result"
    }
   ],
   "source": [
    "data[data['AMH(ng/mL)'] == \"a\"]"
   ]
  },
  {
   "cell_type": "code",
   "execution_count": 8,
   "id": "c1200d66",
   "metadata": {},
   "outputs": [],
   "source": [
    "data.drop([305], inplace=True)"
   ]
  },
  {
   "cell_type": "code",
   "execution_count": 9,
   "id": "db95c57a",
   "metadata": {},
   "outputs": [],
   "source": [
    "data['II    beta-HCG(mIU/mL)'] = pd.to_numeric(data['II    beta-HCG(mIU/mL)'])"
   ]
  },
  {
   "cell_type": "code",
   "execution_count": 10,
   "id": "6eab9791",
   "metadata": {},
   "outputs": [],
   "source": [
    "data['AMH(ng/mL)'] = pd.to_numeric(data['AMH(ng/mL)'])"
   ]
  },
  {
   "cell_type": "code",
   "execution_count": 65,
   "id": "98617c30",
   "metadata": {},
   "outputs": [
    {
     "name": "stdout",
     "output_type": "stream",
     "text": [
      "<class 'pandas.core.frame.DataFrame'>\n",
      "Int64Index: 538 entries, 0 to 540\n",
      "Data columns (total 42 columns):\n",
      " #   Column                  Non-Null Count  Dtype  \n",
      "---  ------                  --------------  -----  \n",
      " 0   PCOS (Y/N)              538 non-null    int64  \n",
      " 1    Age (yrs)              538 non-null    int64  \n",
      " 2   Weight (Kg)             538 non-null    float64\n",
      " 3   Height(Cm)              538 non-null    float64\n",
      " 4   BMI                     538 non-null    float64\n",
      " 5   Blood Group             538 non-null    int64  \n",
      " 6   Pulse rate(bpm)         538 non-null    int64  \n",
      " 7   RR (breaths/min)        538 non-null    int64  \n",
      " 8   Hb(g/dl)                538 non-null    float64\n",
      " 9   Cycle(R/I)              538 non-null    int64  \n",
      " 10  Cycle length(days)      538 non-null    int64  \n",
      " 11  Marraige Status (Yrs)   538 non-null    float64\n",
      " 12  Pregnant(Y/N)           538 non-null    int64  \n",
      " 13  No. of abortions        538 non-null    int64  \n",
      " 14    I   beta-HCG(mIU/mL)  538 non-null    float64\n",
      " 15  II    beta-HCG(mIU/mL)  538 non-null    float64\n",
      " 16  FSH(mIU/mL)             538 non-null    float64\n",
      " 17  LH(mIU/mL)              538 non-null    float64\n",
      " 18  FSH/LH                  538 non-null    float64\n",
      " 19  Hip(inch)               538 non-null    int64  \n",
      " 20  Waist(inch)             538 non-null    int64  \n",
      " 21  Waist:Hip Ratio         538 non-null    float64\n",
      " 22  TSH (mIU/L)             538 non-null    float64\n",
      " 23  AMH(ng/mL)              538 non-null    float64\n",
      " 24  PRL(ng/mL)              538 non-null    float64\n",
      " 25  Vit D3 (ng/mL)          538 non-null    float64\n",
      " 26  PRG(ng/mL)              538 non-null    float64\n",
      " 27  RBS(mg/dl)              538 non-null    float64\n",
      " 28  Weight gain(Y/N)        538 non-null    int64  \n",
      " 29  hair growth(Y/N)        538 non-null    int64  \n",
      " 30  Skin darkening (Y/N)    538 non-null    int64  \n",
      " 31  Hair loss(Y/N)          538 non-null    int64  \n",
      " 32  Pimples(Y/N)            538 non-null    int64  \n",
      " 33  Fast food (Y/N)         538 non-null    float64\n",
      " 34  Reg.Exercise(Y/N)       538 non-null    int64  \n",
      " 35  BP _Systolic (mmHg)     538 non-null    int64  \n",
      " 36  BP _Diastolic (mmHg)    538 non-null    int64  \n",
      " 37  Follicle No. (L)        538 non-null    int64  \n",
      " 38  Follicle No. (R)        538 non-null    int64  \n",
      " 39  Avg. F size (L) (mm)    538 non-null    float64\n",
      " 40  Avg. F size (R) (mm)    538 non-null    float64\n",
      " 41  Endometrium (mm)        538 non-null    float64\n",
      "dtypes: float64(21), int64(21)\n",
      "memory usage: 180.7 KB\n"
     ]
    }
   ],
   "source": [
    "data.info()"
   ]
  },
  {
   "cell_type": "markdown",
   "id": "0a267996",
   "metadata": {},
   "source": [
    "### Usando a correlação de Pearson para encontrar os melhores atributos preditores"
   ]
  },
  {
   "cell_type": "code",
   "execution_count": 11,
   "id": "9c919840",
   "metadata": {},
   "outputs": [],
   "source": [
    "X = data.drop(columns=['PCOS (Y/N)'], axis=1)\n",
    "y = data[\"PCOS (Y/N)\"]"
   ]
  },
  {
   "cell_type": "code",
   "execution_count": 67,
   "id": "471b96b4",
   "metadata": {},
   "outputs": [],
   "source": [
    "correlations = []\n",
    "for col in X.columns:\n",
    "    corr, _ = pearsonr(X[col], y)\n",
    "    correlations.append(corr)\n",
    "\n",
    "# obtendo o módulo dos coeficientes de correlação\n",
    "correlations = map(math.fabs, correlations)\n",
    "\n",
    "\n",
    "# criar um dicionário de features e seus coeficientes de correlação\n",
    "corr_dict = dict(zip(X.columns, correlations))\n",
    "\n",
    "\n",
    "# ordena o dicionário por coeficiente de correlação em ordem decrescente\n",
    "sorted_corr_dict = {k: v for k, v in sorted(corr_dict.items(), key=lambda item: item[1], reverse=True)}\n",
    "\n",
    "N = 20\n",
    "selected_features = list(sorted_corr_dict.keys())[:N]\n",
    "\n",
    "\n",
    "X_selected = X[selected_features]"
   ]
  },
  {
   "cell_type": "code",
   "execution_count": 66,
   "id": "1c824cfe",
   "metadata": {},
   "outputs": [
    {
     "data": {
      "text/plain": [
       "{'Follicle No. (R)': 0.6509293268205653,\n",
       " 'Follicle No. (L)': 0.6012075344576073,\n",
       " 'Skin darkening (Y/N)': 0.4813225853636568,\n",
       " 'hair growth(Y/N)': 0.46650807663782295,\n",
       " 'Weight gain(Y/N)': 0.44309277381787116,\n",
       " 'Cycle(R/I)': 0.4018368508005646,\n",
       " 'Fast food (Y/N)': 0.3809851545915707,\n",
       " 'Pimples(Y/N)': 0.29033457675973073,\n",
       " 'AMH(ng/mL)': 0.26397383229790855,\n",
       " 'Weight (Kg)': 0.209969083409036,\n",
       " 'BMI': 0.1988537624942429,\n",
       " 'Hair loss(Y/N)': 0.176495666712654,\n",
       " 'Waist(inch)': 0.1619222364030457,\n",
       " 'Hip(inch)': 0.16088241390889588,\n",
       " 'Avg. F size (L) (mm)': 0.12999690502916517,\n",
       " 'Endometrium (mm)': 0.10763920805669376,\n",
       " 'Avg. F size (R) (mm)': 0.0945281351583852,\n",
       " 'Pulse rate(bpm) ': 0.09269946744254376,\n",
       " 'Hb(g/dl)': 0.0878085763351018,\n",
       " 'Vit D3 (ng/mL)': 0.08582526363066116,\n",
       " 'Reg.Exercise(Y/N)': 0.07197947368905047,\n",
       " 'Height(Cm) ': 0.06546468503019073,\n",
       " 'LH(mIU/mL)': 0.06407370452384918,\n",
       " 'RBS(mg/dl)': 0.04945219997010917,\n",
       " 'RR (breaths/min)': 0.03864107081212037,\n",
       " 'Blood Group': 0.033701471938112536,\n",
       " 'BP _Diastolic (mmHg)': 0.033562324019629115,\n",
       " 'II    beta-HCG(mIU/mL)': 0.012807833602302313,\n",
       " 'Waist:Hip Ratio': 0.009309355929946327,\n",
       " 'BP _Systolic (mmHg)': 0.007922636266553736,\n",
       " 'PRL(ng/mL)': 0.0016494495376953335,\n",
       " 'TSH (mIU/L)': -0.005276827160692502,\n",
       " 'FSH/LH': -0.018511591524750935,\n",
       " 'Pregnant(Y/N)': -0.0276319518078195,\n",
       " '  I   beta-HCG(mIU/mL)': -0.028074106130379577,\n",
       " 'FSH(mIU/mL)': -0.03038413202959039,\n",
       " 'PRG(ng/mL)': -0.04389690023216504,\n",
       " 'No. of abortions': -0.05731623905813313,\n",
       " 'Marraige Status (Yrs)': -0.11340600458152565,\n",
       " ' Age (yrs)': -0.17134945527089923,\n",
       " 'Cycle length(days)': -0.1838111775486603}"
      ]
     },
     "execution_count": 66,
     "metadata": {},
     "output_type": "execute_result"
    }
   ],
   "source": [
    "sorted_corr_dict"
   ]
  },
  {
   "cell_type": "markdown",
   "id": "a4f09511",
   "metadata": {},
   "source": [
    "### Separando o conjunto de testes e treino\n",
    "\n",
    "Partição 70/30"
   ]
  },
  {
   "cell_type": "code",
   "execution_count": 77,
   "id": "32f668c7",
   "metadata": {},
   "outputs": [],
   "source": [
    "X_train, X_test, y_train, y_test = train_test_split(X_selected, y,test_size=0.30)"
   ]
  },
  {
   "cell_type": "markdown",
   "id": "1bb1dc9d",
   "metadata": {},
   "source": [
    "### Normalizando os atributos preditores"
   ]
  },
  {
   "cell_type": "code",
   "execution_count": 79,
   "id": "2e70461f",
   "metadata": {},
   "outputs": [],
   "source": [
    "X_train_norm = (X_train - np.min(X_train))/(np.max(X_train) - np.min(X_train))"
   ]
  },
  {
   "cell_type": "code",
   "execution_count": 80,
   "id": "0e9f8c05",
   "metadata": {},
   "outputs": [],
   "source": [
    "X_test_norm = (X_test - np.min(X_train))/(np.max(X_train) - np.min(X_train))"
   ]
  },
  {
   "cell_type": "markdown",
   "id": "9f1ca358",
   "metadata": {},
   "source": [
    "### Estimando o número de neurônios\n"
   ]
  },
  {
   "cell_type": "markdown",
   "id": "4a61a44f",
   "metadata": {},
   "source": [
    "1. Obtendo os valores de $N_i$ e $N_o$"
   ]
  },
  {
   "cell_type": "code",
   "execution_count": 29,
   "id": "cf2c8427",
   "metadata": {},
   "outputs": [
    {
     "name": "stdout",
     "output_type": "stream",
     "text": [
      "No: 1\n",
      "Ni: 21\n"
     ]
    }
   ],
   "source": [
    "n_o = 1\n",
    "n_i = X_selected.shape[1] + 1\n",
    "\n",
    "print(f'No: {n_o}')\n",
    "print(f'Ni: {n_i}')"
   ]
  },
  {
   "cell_type": "markdown",
   "id": "90fd513a",
   "metadata": {},
   "source": [
    "2. Testando os valores de $\\alpha$ como $0.5$, $2$ e $3$."
   ]
  },
  {
   "cell_type": "code",
   "execution_count": 25,
   "id": "421a7cb5",
   "metadata": {},
   "outputs": [
    {
     "data": {
      "text/plain": [
       "[3, 13, 20]"
      ]
     },
     "execution_count": 25,
     "metadata": {},
     "output_type": "execute_result"
    }
   ],
   "source": [
    "import math \n",
    "\n",
    "alphas = [0.5, 2, 3]\n",
    "n_h = []\n",
    "\n",
    "for alpha in alphas:\n",
    "  n_h.append(round(alpha * math.sqrt(n_i * n_o)))\n",
    "\n",
    "n_h"
   ]
  },
  {
   "cell_type": "markdown",
   "id": "8087caa1",
   "metadata": {},
   "source": [
    "Arquiteturas segundo a regra da pirâmide geométrica"
   ]
  },
  {
   "cell_type": "code",
   "execution_count": 30,
   "id": "4c1ec083",
   "metadata": {},
   "outputs": [
    {
     "name": "stdout",
     "output_type": "stream",
     "text": [
      "[(1, 2), (2, 1), (1, 12), (2, 11), (3, 10), (4, 9), (5, 8), (6, 7), (7, 6), (8, 5), (9, 4), (1, 19), (2, 18), (3, 17), (4, 16), (5, 15), (6, 14), (7, 13), (8, 12), (9, 11), (10, 10), (11, 9), (12, 8), (13, 7), (14, 6)]\n",
      "25\n"
     ]
    }
   ],
   "source": [
    "def get_architectures(Nh, quant):\n",
    "    S = [i for i in range(int(Nh))]\n",
    "    arch_list = []\n",
    "    for i in range(len(S)):\n",
    "        for j in range(len(S)):\n",
    "            if ((S[i], S[j]) not in arch_list) and (i + j == len(S) and (len(arch_list) < quant)):\n",
    "                arch_list.append((S[i], S[j]))\n",
    "    \n",
    "    return arch_list\n",
    "\n",
    "layer_arch = []\n",
    "layer_0 = get_architectures(n_h[0], 2)\n",
    "layer_1 = get_architectures(n_h[1], 9)\n",
    "layer_2 = get_architectures(n_h[2], 14)\n",
    "layer_arch = layer_0 + layer_1 + layer_2\n",
    "\n",
    "print(layer_arch)\n",
    "print(len(layer_arch))\n"
   ]
  },
  {
   "cell_type": "markdown",
   "id": "f06b28f9",
   "metadata": {},
   "source": [
    "### Busca em Grade"
   ]
  },
  {
   "cell_type": "markdown",
   "id": "6c73c443",
   "metadata": {},
   "source": [
    "**MLP**\n",
    "- Paciência:\n",
    "- batch_size: \n",
    "- $\\beta_1$: \n",
    "- $\\beta_2$:\n",
    "- Épocas: \n",
    "- Função de ativação: relu, logistic"
   ]
  },
  {
   "cell_type": "code",
   "execution_count": null,
   "id": "543c610e",
   "metadata": {},
   "outputs": [],
   "source": [
    "param_grid_mlp = {\n",
    "    'hidden_layer_sizes': layer_arch, \n",
    "              'activation': ['relu','logistic'],\n",
    "              'batch_size': [16, 32],\n",
    "              'solver': ['adam'],\n",
    "              'beta_1': [1, 0.9, 0.8],\n",
    "              'beta_2': [0.999, 0.95, 0.9],\n",
    "              'n_iter_no_change': [25, 50],\n",
    "              'verbose': [False],\n",
    "              'max_iter': [300, 500]\n",
    "}"
   ]
  },
  {
   "cell_type": "markdown",
   "id": "79704f54",
   "metadata": {},
   "source": [
    "Busca em grade utilizando MLP"
   ]
  },
  {
   "cell_type": "code",
   "execution_count": null,
   "id": "c3470be2",
   "metadata": {},
   "outputs": [],
   "source": [
    "grid_mlp = GridSearchCV(MLPClassifier(), param_grid, verbose=1, cv=5 n_jobs=-1, scoring='accuracy')"
   ]
  }
 ],
 "metadata": {
  "kernelspec": {
   "display_name": "Python 3 (ipykernel)",
   "language": "python",
   "name": "python3"
  },
  "language_info": {
   "codemirror_mode": {
    "name": "ipython",
    "version": 3
   },
   "file_extension": ".py",
   "mimetype": "text/x-python",
   "name": "python",
   "nbconvert_exporter": "python",
   "pygments_lexer": "ipython3",
   "version": "3.9.15"
  }
 },
 "nbformat": 4,
 "nbformat_minor": 5
}
