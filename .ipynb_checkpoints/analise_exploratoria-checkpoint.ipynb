{
 "cells": [
  {
   "cell_type": "markdown",
   "id": "e632a176-12db-44a2-b2f6-f0548e81dfb0",
   "metadata": {},
   "source": [
    "# Análise Exploratória dos dados\n",
    "\n",
    "- **Disciplina**: Redes Neurais Artificiais 2022.2  \n",
    "- **Professora**: Elloá B. Guedes         \n",
    "\n",
    "## Apresentação\n",
    "\n",
    "Contextualizar o problema\n",
    "\n",
    "Falar do objetivo do notebook\n",
    "\n",
    "### **Equipe**:\n",
    "- Melinne Diniz de Oliveira (2115310021)\n",
    "- Arthur Uguen Mendonça (21153100XX)"
   ]
  },
  {
   "cell_type": "code",
   "execution_count": 1,
   "id": "6d4db8c4-88e5-4610-b326-0bba524a05ca",
   "metadata": {},
   "outputs": [],
   "source": [
    "import pandas as pd\n",
    "import numpy as np"
   ]
  },
  {
   "cell_type": "code",
   "execution_count": null,
   "id": "d425701d",
   "metadata": {},
   "outputs": [],
   "source": []
  }
 ],
 "metadata": {
  "kernelspec": {
   "display_name": "Python 3 (ipykernel)",
   "language": "python",
   "name": "python3"
  },
  "language_info": {
   "codemirror_mode": {
    "name": "ipython",
    "version": 3
   },
   "file_extension": ".py",
   "mimetype": "text/x-python",
   "name": "python",
   "nbconvert_exporter": "python",
   "pygments_lexer": "ipython3",
   "version": "3.9.13"
  }
 },
 "nbformat": 4,
 "nbformat_minor": 5
}
