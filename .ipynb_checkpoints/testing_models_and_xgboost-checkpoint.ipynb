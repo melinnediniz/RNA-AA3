{
 "cells": [
  {
   "cell_type": "markdown",
   "id": "e69fee88",
   "metadata": {},
   "source": [
    "# 1.2 Construção do Modelo"
   ]
  },
  {
   "cell_type": "code",
   "execution_count": 1,
   "id": "8873a717",
   "metadata": {},
   "outputs": [],
   "source": [
    "import pandas as pd\n",
    "import numpy as np\n",
    "import seaborn as sns\n",
    "import matplotlib.pyplot as plt\n",
    "import math\n",
    "from utilities.show_results import plot_confusion_matrix, get_accuracy, get_precision, f_score\n",
    "from utilities.pearson_correlation import choose_with_pearson\n",
    "from utilities.neuron_architectures import create_architectures, test_alphas\n",
    "from sklearn.model_selection import train_test_split, cross_val_score, KFold\n",
    "from sklearn.neural_network import MLPClassifier\n",
    "from sklearn import metrics\n",
    "from sklearn.ensemble import GradientBoostingClassifier\n",
    "from sklearn.metrics import mean_squared_error\n",
    "import xgboost as xgb"
   ]
  },
  {
   "cell_type": "markdown",
   "id": "63f1cf61",
   "metadata": {},
   "source": [
    "## 1.2.1 Abrindo o dataset e tratando os dados"
   ]
  },
  {
   "cell_type": "code",
   "execution_count": 2,
   "id": "ad85e141",
   "metadata": {},
   "outputs": [],
   "source": [
    "data = pd.read_csv('PCOS.csv')"
   ]
  },
  {
   "cell_type": "code",
   "execution_count": 3,
   "id": "d689f6e0",
   "metadata": {},
   "outputs": [
    {
     "data": {
      "text/html": [
       "<div>\n",
       "<style scoped>\n",
       "    .dataframe tbody tr th:only-of-type {\n",
       "        vertical-align: middle;\n",
       "    }\n",
       "\n",
       "    .dataframe tbody tr th {\n",
       "        vertical-align: top;\n",
       "    }\n",
       "\n",
       "    .dataframe thead th {\n",
       "        text-align: right;\n",
       "    }\n",
       "</style>\n",
       "<table border=\"1\" class=\"dataframe\">\n",
       "  <thead>\n",
       "    <tr style=\"text-align: right;\">\n",
       "      <th></th>\n",
       "      <th>Unnamed: 0</th>\n",
       "      <th>PCOS (Y/N)</th>\n",
       "      <th>Age (yrs)</th>\n",
       "      <th>Weight (Kg)</th>\n",
       "      <th>Height(Cm)</th>\n",
       "      <th>BMI</th>\n",
       "      <th>Blood Group</th>\n",
       "      <th>Pulse rate(bpm)</th>\n",
       "      <th>RR (breaths/min)</th>\n",
       "      <th>Hb(g/dl)</th>\n",
       "      <th>...</th>\n",
       "      <th>Pimples(Y/N)</th>\n",
       "      <th>Fast food (Y/N)</th>\n",
       "      <th>Reg.Exercise(Y/N)</th>\n",
       "      <th>BP _Systolic (mmHg)</th>\n",
       "      <th>BP _Diastolic (mmHg)</th>\n",
       "      <th>Follicle No. (L)</th>\n",
       "      <th>Follicle No. (R)</th>\n",
       "      <th>Avg. F size (L) (mm)</th>\n",
       "      <th>Avg. F size (R) (mm)</th>\n",
       "      <th>Endometrium (mm)</th>\n",
       "    </tr>\n",
       "  </thead>\n",
       "  <tbody>\n",
       "    <tr>\n",
       "      <th>0</th>\n",
       "      <td>0</td>\n",
       "      <td>0</td>\n",
       "      <td>28</td>\n",
       "      <td>44.6</td>\n",
       "      <td>152.0</td>\n",
       "      <td>19.3</td>\n",
       "      <td>15</td>\n",
       "      <td>78</td>\n",
       "      <td>22</td>\n",
       "      <td>10.48</td>\n",
       "      <td>...</td>\n",
       "      <td>0</td>\n",
       "      <td>1.0</td>\n",
       "      <td>0</td>\n",
       "      <td>110</td>\n",
       "      <td>80</td>\n",
       "      <td>3</td>\n",
       "      <td>3</td>\n",
       "      <td>18.0</td>\n",
       "      <td>18.0</td>\n",
       "      <td>8.5</td>\n",
       "    </tr>\n",
       "    <tr>\n",
       "      <th>1</th>\n",
       "      <td>1</td>\n",
       "      <td>0</td>\n",
       "      <td>36</td>\n",
       "      <td>65.0</td>\n",
       "      <td>161.5</td>\n",
       "      <td>24.9</td>\n",
       "      <td>15</td>\n",
       "      <td>74</td>\n",
       "      <td>20</td>\n",
       "      <td>11.70</td>\n",
       "      <td>...</td>\n",
       "      <td>0</td>\n",
       "      <td>0.0</td>\n",
       "      <td>0</td>\n",
       "      <td>120</td>\n",
       "      <td>70</td>\n",
       "      <td>3</td>\n",
       "      <td>5</td>\n",
       "      <td>15.0</td>\n",
       "      <td>14.0</td>\n",
       "      <td>3.7</td>\n",
       "    </tr>\n",
       "  </tbody>\n",
       "</table>\n",
       "<p>2 rows × 43 columns</p>\n",
       "</div>"
      ],
      "text/plain": [
       "   Unnamed: 0  PCOS (Y/N)   Age (yrs)  Weight (Kg)  Height(Cm)    BMI  \\\n",
       "0           0           0          28         44.6        152.0  19.3   \n",
       "1           1           0          36         65.0        161.5  24.9   \n",
       "\n",
       "   Blood Group  Pulse rate(bpm)   RR (breaths/min)  Hb(g/dl)  ...  \\\n",
       "0           15                78                22     10.48  ...   \n",
       "1           15                74                20     11.70  ...   \n",
       "\n",
       "   Pimples(Y/N)  Fast food (Y/N)  Reg.Exercise(Y/N)  BP _Systolic (mmHg)  \\\n",
       "0             0              1.0                  0                  110   \n",
       "1             0              0.0                  0                  120   \n",
       "\n",
       "   BP _Diastolic (mmHg)  Follicle No. (L)  Follicle No. (R)  \\\n",
       "0                    80                 3                 3   \n",
       "1                    70                 3                 5   \n",
       "\n",
       "   Avg. F size (L) (mm)  Avg. F size (R) (mm)  Endometrium (mm)  \n",
       "0                  18.0                  18.0               8.5  \n",
       "1                  15.0                  14.0               3.7  \n",
       "\n",
       "[2 rows x 43 columns]"
      ]
     },
     "execution_count": 3,
     "metadata": {},
     "output_type": "execute_result"
    }
   ],
   "source": [
    "data.head(2)"
   ]
  },
  {
   "cell_type": "code",
   "execution_count": 4,
   "id": "ecd57c37",
   "metadata": {},
   "outputs": [],
   "source": [
    "del data[\"Unnamed: 0\"]"
   ]
  },
  {
   "cell_type": "code",
   "execution_count": 5,
   "id": "07f92017",
   "metadata": {},
   "outputs": [
    {
     "name": "stdout",
     "output_type": "stream",
     "text": [
      "<class 'pandas.core.frame.DataFrame'>\n",
      "RangeIndex: 538 entries, 0 to 537\n",
      "Data columns (total 42 columns):\n",
      " #   Column                  Non-Null Count  Dtype  \n",
      "---  ------                  --------------  -----  \n",
      " 0   PCOS (Y/N)              538 non-null    int64  \n",
      " 1    Age (yrs)              538 non-null    int64  \n",
      " 2   Weight (Kg)             538 non-null    float64\n",
      " 3   Height(Cm)              538 non-null    float64\n",
      " 4   BMI                     538 non-null    float64\n",
      " 5   Blood Group             538 non-null    int64  \n",
      " 6   Pulse rate(bpm)         538 non-null    int64  \n",
      " 7   RR (breaths/min)        538 non-null    int64  \n",
      " 8   Hb(g/dl)                538 non-null    float64\n",
      " 9   Cycle(R/I)              538 non-null    int64  \n",
      " 10  Cycle length(days)      538 non-null    int64  \n",
      " 11  Marraige Status (Yrs)   538 non-null    float64\n",
      " 12  Pregnant(Y/N)           538 non-null    int64  \n",
      " 13  No. of abortions        538 non-null    int64  \n",
      " 14    I   beta-HCG(mIU/mL)  538 non-null    float64\n",
      " 15  II    beta-HCG(mIU/mL)  538 non-null    float64\n",
      " 16  FSH(mIU/mL)             538 non-null    float64\n",
      " 17  LH(mIU/mL)              538 non-null    float64\n",
      " 18  FSH/LH                  538 non-null    float64\n",
      " 19  Hip(inch)               538 non-null    int64  \n",
      " 20  Waist(inch)             538 non-null    int64  \n",
      " 21  Waist:Hip Ratio         538 non-null    float64\n",
      " 22  TSH (mIU/L)             538 non-null    float64\n",
      " 23  AMH(ng/mL)              538 non-null    float64\n",
      " 24  PRL(ng/mL)              538 non-null    float64\n",
      " 25  Vit D3 (ng/mL)          538 non-null    float64\n",
      " 26  PRG(ng/mL)              538 non-null    float64\n",
      " 27  RBS(mg/dl)              538 non-null    float64\n",
      " 28  Weight gain(Y/N)        538 non-null    int64  \n",
      " 29  hair growth(Y/N)        538 non-null    int64  \n",
      " 30  Skin darkening (Y/N)    538 non-null    int64  \n",
      " 31  Hair loss(Y/N)          538 non-null    int64  \n",
      " 32  Pimples(Y/N)            538 non-null    int64  \n",
      " 33  Fast food (Y/N)         538 non-null    float64\n",
      " 34  Reg.Exercise(Y/N)       538 non-null    int64  \n",
      " 35  BP _Systolic (mmHg)     538 non-null    int64  \n",
      " 36  BP _Diastolic (mmHg)    538 non-null    int64  \n",
      " 37  Follicle No. (L)        538 non-null    int64  \n",
      " 38  Follicle No. (R)        538 non-null    int64  \n",
      " 39  Avg. F size (L) (mm)    538 non-null    float64\n",
      " 40  Avg. F size (R) (mm)    538 non-null    float64\n",
      " 41  Endometrium (mm)        538 non-null    float64\n",
      "dtypes: float64(21), int64(21)\n",
      "memory usage: 176.7 KB\n"
     ]
    }
   ],
   "source": [
    "data.info()"
   ]
  },
  {
   "cell_type": "markdown",
   "id": "0a267996",
   "metadata": {},
   "source": [
    "## Usando a correlação de Pearson para encontrar os melhores atributos preditores"
   ]
  },
  {
   "cell_type": "code",
   "execution_count": 6,
   "id": "9c919840",
   "metadata": {},
   "outputs": [],
   "source": [
    "X = data.drop(columns=['PCOS (Y/N)'], axis=1)\n",
    "y = data[\"PCOS (Y/N)\"]"
   ]
  },
  {
   "cell_type": "code",
   "execution_count": 52,
   "id": "471b96b4",
   "metadata": {},
   "outputs": [],
   "source": [
    "X_selected, _ = choose_with_pearson(20, X, y)"
   ]
  },
  {
   "cell_type": "code",
   "execution_count": 53,
   "id": "1c824cfe",
   "metadata": {
    "scrolled": true
   },
   "outputs": [
    {
     "data": {
      "text/plain": [
       "PCOS (Y/N)                1.000000\n",
       "Follicle No. (R)          0.650929\n",
       "Follicle No. (L)          0.601208\n",
       "Skin darkening (Y/N)      0.481323\n",
       "hair growth(Y/N)          0.466508\n",
       "Weight gain(Y/N)          0.443093\n",
       "Cycle(R/I)                0.401837\n",
       "Fast food (Y/N)           0.380985\n",
       "Pimples(Y/N)              0.290335\n",
       "AMH(ng/mL)                0.263974\n",
       "Weight (Kg)               0.209969\n",
       "BMI                       0.198854\n",
       "Hair loss(Y/N)            0.176496\n",
       "Waist(inch)               0.161922\n",
       "Hip(inch)                 0.160882\n",
       "Avg. F size (L) (mm)      0.129997\n",
       "Endometrium (mm)          0.107639\n",
       "Avg. F size (R) (mm)      0.094528\n",
       "Pulse rate(bpm)           0.092699\n",
       "Hb(g/dl)                  0.087809\n",
       "Vit D3 (ng/mL)            0.085825\n",
       "Reg.Exercise(Y/N)         0.071979\n",
       "Height(Cm)                0.065465\n",
       "LH(mIU/mL)                0.064074\n",
       "RBS(mg/dl)                0.049452\n",
       "RR (breaths/min)          0.038641\n",
       "Blood Group               0.033701\n",
       "BP _Diastolic (mmHg)      0.033562\n",
       "II    beta-HCG(mIU/mL)    0.012808\n",
       "Waist:Hip Ratio           0.009309\n",
       "BP _Systolic (mmHg)       0.007923\n",
       "PRL(ng/mL)                0.001649\n",
       "TSH (mIU/L)              -0.005277\n",
       "FSH/LH                   -0.018512\n",
       "Pregnant(Y/N)            -0.027632\n",
       "  I   beta-HCG(mIU/mL)   -0.028074\n",
       "FSH(mIU/mL)              -0.030384\n",
       "PRG(ng/mL)               -0.043897\n",
       "No. of abortions         -0.057316\n",
       "Marraige Status (Yrs)    -0.113406\n",
       " Age (yrs)               -0.171349\n",
       "Cycle length(days)       -0.183811\n",
       "Name: PCOS (Y/N), dtype: float64"
      ]
     },
     "execution_count": 53,
     "metadata": {},
     "output_type": "execute_result"
    }
   ],
   "source": [
    "correlation = data.corr()\n",
    "correlation[\"PCOS (Y/N)\"].sort_values(ascending=False)"
   ]
  },
  {
   "cell_type": "code",
   "execution_count": 9,
   "id": "e3e37f53",
   "metadata": {},
   "outputs": [
    {
     "data": {
      "text/html": [
       "<div>\n",
       "<style scoped>\n",
       "    .dataframe tbody tr th:only-of-type {\n",
       "        vertical-align: middle;\n",
       "    }\n",
       "\n",
       "    .dataframe tbody tr th {\n",
       "        vertical-align: top;\n",
       "    }\n",
       "\n",
       "    .dataframe thead th {\n",
       "        text-align: right;\n",
       "    }\n",
       "</style>\n",
       "<table border=\"1\" class=\"dataframe\">\n",
       "  <thead>\n",
       "    <tr style=\"text-align: right;\">\n",
       "      <th></th>\n",
       "      <th>Follicle No. (R)</th>\n",
       "      <th>Follicle No. (L)</th>\n",
       "      <th>Skin darkening (Y/N)</th>\n",
       "      <th>hair growth(Y/N)</th>\n",
       "      <th>Weight gain(Y/N)</th>\n",
       "      <th>Cycle(R/I)</th>\n",
       "      <th>Fast food (Y/N)</th>\n",
       "      <th>Pimples(Y/N)</th>\n",
       "      <th>AMH(ng/mL)</th>\n",
       "      <th>Weight (Kg)</th>\n",
       "      <th>BMI</th>\n",
       "      <th>Cycle length(days)</th>\n",
       "      <th>Hair loss(Y/N)</th>\n",
       "      <th>Age (yrs)</th>\n",
       "      <th>Waist(inch)</th>\n",
       "    </tr>\n",
       "  </thead>\n",
       "  <tbody>\n",
       "    <tr>\n",
       "      <th>0</th>\n",
       "      <td>3</td>\n",
       "      <td>3</td>\n",
       "      <td>0</td>\n",
       "      <td>0</td>\n",
       "      <td>0</td>\n",
       "      <td>2</td>\n",
       "      <td>1.0</td>\n",
       "      <td>0</td>\n",
       "      <td>2.07</td>\n",
       "      <td>44.6</td>\n",
       "      <td>19.3</td>\n",
       "      <td>5</td>\n",
       "      <td>0</td>\n",
       "      <td>28</td>\n",
       "      <td>30</td>\n",
       "    </tr>\n",
       "    <tr>\n",
       "      <th>1</th>\n",
       "      <td>5</td>\n",
       "      <td>3</td>\n",
       "      <td>0</td>\n",
       "      <td>0</td>\n",
       "      <td>0</td>\n",
       "      <td>2</td>\n",
       "      <td>0.0</td>\n",
       "      <td>0</td>\n",
       "      <td>1.53</td>\n",
       "      <td>65.0</td>\n",
       "      <td>24.9</td>\n",
       "      <td>5</td>\n",
       "      <td>0</td>\n",
       "      <td>36</td>\n",
       "      <td>32</td>\n",
       "    </tr>\n",
       "    <tr>\n",
       "      <th>2</th>\n",
       "      <td>15</td>\n",
       "      <td>13</td>\n",
       "      <td>0</td>\n",
       "      <td>0</td>\n",
       "      <td>0</td>\n",
       "      <td>2</td>\n",
       "      <td>1.0</td>\n",
       "      <td>1</td>\n",
       "      <td>6.63</td>\n",
       "      <td>68.8</td>\n",
       "      <td>25.3</td>\n",
       "      <td>5</td>\n",
       "      <td>1</td>\n",
       "      <td>33</td>\n",
       "      <td>36</td>\n",
       "    </tr>\n",
       "    <tr>\n",
       "      <th>3</th>\n",
       "      <td>2</td>\n",
       "      <td>2</td>\n",
       "      <td>0</td>\n",
       "      <td>0</td>\n",
       "      <td>0</td>\n",
       "      <td>2</td>\n",
       "      <td>0.0</td>\n",
       "      <td>0</td>\n",
       "      <td>1.22</td>\n",
       "      <td>65.0</td>\n",
       "      <td>29.7</td>\n",
       "      <td>5</td>\n",
       "      <td>0</td>\n",
       "      <td>37</td>\n",
       "      <td>36</td>\n",
       "    </tr>\n",
       "    <tr>\n",
       "      <th>4</th>\n",
       "      <td>4</td>\n",
       "      <td>3</td>\n",
       "      <td>0</td>\n",
       "      <td>0</td>\n",
       "      <td>0</td>\n",
       "      <td>2</td>\n",
       "      <td>0.0</td>\n",
       "      <td>0</td>\n",
       "      <td>2.26</td>\n",
       "      <td>52.0</td>\n",
       "      <td>20.1</td>\n",
       "      <td>5</td>\n",
       "      <td>1</td>\n",
       "      <td>25</td>\n",
       "      <td>30</td>\n",
       "    </tr>\n",
       "    <tr>\n",
       "      <th>...</th>\n",
       "      <td>...</td>\n",
       "      <td>...</td>\n",
       "      <td>...</td>\n",
       "      <td>...</td>\n",
       "      <td>...</td>\n",
       "      <td>...</td>\n",
       "      <td>...</td>\n",
       "      <td>...</td>\n",
       "      <td>...</td>\n",
       "      <td>...</td>\n",
       "      <td>...</td>\n",
       "      <td>...</td>\n",
       "      <td>...</td>\n",
       "      <td>...</td>\n",
       "      <td>...</td>\n",
       "    </tr>\n",
       "    <tr>\n",
       "      <th>533</th>\n",
       "      <td>0</td>\n",
       "      <td>1</td>\n",
       "      <td>0</td>\n",
       "      <td>0</td>\n",
       "      <td>0</td>\n",
       "      <td>2</td>\n",
       "      <td>0.0</td>\n",
       "      <td>0</td>\n",
       "      <td>1.70</td>\n",
       "      <td>50.0</td>\n",
       "      <td>18.5</td>\n",
       "      <td>5</td>\n",
       "      <td>0</td>\n",
       "      <td>35</td>\n",
       "      <td>26</td>\n",
       "    </tr>\n",
       "    <tr>\n",
       "      <th>534</th>\n",
       "      <td>7</td>\n",
       "      <td>9</td>\n",
       "      <td>0</td>\n",
       "      <td>0</td>\n",
       "      <td>1</td>\n",
       "      <td>2</td>\n",
       "      <td>0.0</td>\n",
       "      <td>0</td>\n",
       "      <td>5.60</td>\n",
       "      <td>63.2</td>\n",
       "      <td>25.3</td>\n",
       "      <td>5</td>\n",
       "      <td>0</td>\n",
       "      <td>30</td>\n",
       "      <td>32</td>\n",
       "    </tr>\n",
       "    <tr>\n",
       "      <th>535</th>\n",
       "      <td>0</td>\n",
       "      <td>1</td>\n",
       "      <td>0</td>\n",
       "      <td>0</td>\n",
       "      <td>0</td>\n",
       "      <td>2</td>\n",
       "      <td>0.0</td>\n",
       "      <td>0</td>\n",
       "      <td>3.70</td>\n",
       "      <td>54.0</td>\n",
       "      <td>23.4</td>\n",
       "      <td>6</td>\n",
       "      <td>0</td>\n",
       "      <td>36</td>\n",
       "      <td>28</td>\n",
       "    </tr>\n",
       "    <tr>\n",
       "      <th>536</th>\n",
       "      <td>6</td>\n",
       "      <td>7</td>\n",
       "      <td>0</td>\n",
       "      <td>0</td>\n",
       "      <td>0</td>\n",
       "      <td>4</td>\n",
       "      <td>0.0</td>\n",
       "      <td>1</td>\n",
       "      <td>5.20</td>\n",
       "      <td>50.0</td>\n",
       "      <td>22.2</td>\n",
       "      <td>2</td>\n",
       "      <td>0</td>\n",
       "      <td>27</td>\n",
       "      <td>26</td>\n",
       "    </tr>\n",
       "    <tr>\n",
       "      <th>537</th>\n",
       "      <td>10</td>\n",
       "      <td>9</td>\n",
       "      <td>1</td>\n",
       "      <td>1</td>\n",
       "      <td>1</td>\n",
       "      <td>4</td>\n",
       "      <td>1.0</td>\n",
       "      <td>1</td>\n",
       "      <td>20.00</td>\n",
       "      <td>82.0</td>\n",
       "      <td>30.1</td>\n",
       "      <td>7</td>\n",
       "      <td>1</td>\n",
       "      <td>23</td>\n",
       "      <td>46</td>\n",
       "    </tr>\n",
       "  </tbody>\n",
       "</table>\n",
       "<p>538 rows × 15 columns</p>\n",
       "</div>"
      ],
      "text/plain": [
       "     Follicle No. (R)  Follicle No. (L)  Skin darkening (Y/N)  \\\n",
       "0                   3                 3                     0   \n",
       "1                   5                 3                     0   \n",
       "2                  15                13                     0   \n",
       "3                   2                 2                     0   \n",
       "4                   4                 3                     0   \n",
       "..                ...               ...                   ...   \n",
       "533                 0                 1                     0   \n",
       "534                 7                 9                     0   \n",
       "535                 0                 1                     0   \n",
       "536                 6                 7                     0   \n",
       "537                10                 9                     1   \n",
       "\n",
       "     hair growth(Y/N)  Weight gain(Y/N)  Cycle(R/I)  Fast food (Y/N)  \\\n",
       "0                   0                 0           2              1.0   \n",
       "1                   0                 0           2              0.0   \n",
       "2                   0                 0           2              1.0   \n",
       "3                   0                 0           2              0.0   \n",
       "4                   0                 0           2              0.0   \n",
       "..                ...               ...         ...              ...   \n",
       "533                 0                 0           2              0.0   \n",
       "534                 0                 1           2              0.0   \n",
       "535                 0                 0           2              0.0   \n",
       "536                 0                 0           4              0.0   \n",
       "537                 1                 1           4              1.0   \n",
       "\n",
       "     Pimples(Y/N)  AMH(ng/mL)  Weight (Kg)   BMI  Cycle length(days)  \\\n",
       "0               0        2.07         44.6  19.3                   5   \n",
       "1               0        1.53         65.0  24.9                   5   \n",
       "2               1        6.63         68.8  25.3                   5   \n",
       "3               0        1.22         65.0  29.7                   5   \n",
       "4               0        2.26         52.0  20.1                   5   \n",
       "..            ...         ...          ...   ...                 ...   \n",
       "533             0        1.70         50.0  18.5                   5   \n",
       "534             0        5.60         63.2  25.3                   5   \n",
       "535             0        3.70         54.0  23.4                   6   \n",
       "536             1        5.20         50.0  22.2                   2   \n",
       "537             1       20.00         82.0  30.1                   7   \n",
       "\n",
       "     Hair loss(Y/N)   Age (yrs)  Waist(inch)  \n",
       "0                 0          28           30  \n",
       "1                 0          36           32  \n",
       "2                 1          33           36  \n",
       "3                 0          37           36  \n",
       "4                 1          25           30  \n",
       "..              ...         ...          ...  \n",
       "533               0          35           26  \n",
       "534               0          30           32  \n",
       "535               0          36           28  \n",
       "536               0          27           26  \n",
       "537               1          23           46  \n",
       "\n",
       "[538 rows x 15 columns]"
      ]
     },
     "execution_count": 9,
     "metadata": {},
     "output_type": "execute_result"
    }
   ],
   "source": [
    "X_selected"
   ]
  },
  {
   "cell_type": "markdown",
   "id": "a4f09511",
   "metadata": {},
   "source": [
    "## Separando o conjunto de testes e treino\n",
    "\n",
    "Partição 70/30"
   ]
  },
  {
   "cell_type": "code",
   "execution_count": 54,
   "id": "32f668c7",
   "metadata": {},
   "outputs": [
    {
     "data": {
      "text/plain": [
       "((376, 41), (162, 41), 54, 108)"
      ]
     },
     "execution_count": 54,
     "metadata": {},
     "output_type": "execute_result"
    }
   ],
   "source": [
    "X_train, X_test, y_train, y_test = train_test_split(X, y,test_size=0.30)\n",
    "\n",
    "X_train.shape, X_test.shape, (y_test == 1).sum(), (y_test == 0).sum()"
   ]
  },
  {
   "cell_type": "markdown",
   "id": "1bb1dc9d",
   "metadata": {},
   "source": [
    "### Normalizando os atributos preditores"
   ]
  },
  {
   "cell_type": "code",
   "execution_count": 55,
   "id": "2e70461f",
   "metadata": {},
   "outputs": [
    {
     "name": "stderr",
     "output_type": "stream",
     "text": [
      "C:\\Users\\Callidus\\anaconda3\\lib\\site-packages\\numpy\\core\\fromnumeric.py:84: FutureWarning: In a future version, DataFrame.min(axis=None) will return a scalar min over the entire DataFrame. To retain the old behavior, use 'frame.min(axis=0)' or just 'frame.min()'\n",
      "  return reduction(axis=axis, out=out, **passkwargs)\n",
      "C:\\Users\\Callidus\\anaconda3\\lib\\site-packages\\numpy\\core\\fromnumeric.py:84: FutureWarning: In a future version, DataFrame.max(axis=None) will return a scalar max over the entire DataFrame. To retain the old behavior, use 'frame.max(axis=0)' or just 'frame.max()'\n",
      "  return reduction(axis=axis, out=out, **passkwargs)\n"
     ]
    }
   ],
   "source": [
    "X_train_norm = (X_train - np.min(X_train))/(np.max(X_train) - np.min(X_train))\n",
    "\n",
    "X_test_norm = (X_test - np.min(X_train))/(np.max(X_train) - np.min(X_train))"
   ]
  },
  {
   "cell_type": "markdown",
   "id": "9f1ca358",
   "metadata": {},
   "source": [
    "## Estimando o número de neurônios\n"
   ]
  },
  {
   "cell_type": "markdown",
   "id": "4a61a44f",
   "metadata": {},
   "source": [
    "1. Obtendo os valores de $N_i$ e $N_o$"
   ]
  },
  {
   "cell_type": "code",
   "execution_count": 13,
   "id": "cf2c8427",
   "metadata": {},
   "outputs": [
    {
     "name": "stdout",
     "output_type": "stream",
     "text": [
      "No: 1\n",
      "Ni: 16\n"
     ]
    }
   ],
   "source": [
    "n_o = 1\n",
    "n_i = X_selected.shape[1] + 1\n",
    "\n",
    "print(f'No: {n_o}')\n",
    "print(f'Ni: {n_i}')"
   ]
  },
  {
   "cell_type": "markdown",
   "id": "90fd513a",
   "metadata": {},
   "source": [
    "2. Testando os valores de $\\alpha$ como $0.5$, $2$ e $3$."
   ]
  },
  {
   "cell_type": "code",
   "execution_count": 14,
   "id": "421a7cb5",
   "metadata": {},
   "outputs": [],
   "source": [
    "n_h = test_alphas(n_i, n_o, [0.5, 2, 3])"
   ]
  },
  {
   "cell_type": "markdown",
   "id": "8087caa1",
   "metadata": {},
   "source": [
    "Arquiteturas segundo a regra da pirâmide geométrica"
   ]
  },
  {
   "cell_type": "code",
   "execution_count": 15,
   "id": "4c1ec083",
   "metadata": {},
   "outputs": [
    {
     "name": "stdout",
     "output_type": "stream",
     "text": [
      "[(1, 1), (1, 7), (2, 6), (3, 5), (4, 4), (5, 3), (6, 2), (7, 1), (1, 11), (2, 10), (3, 9), (4, 8), (5, 7), (6, 6), (7, 5), (8, 4), (9, 3), (10, 2), (11, 1)]\n",
      "19\n"
     ]
    }
   ],
   "source": [
    "layer_arch = create_architectures([2, 9, 14], n_h)\n",
    "\n",
    "print(layer_arch)\n",
    "print(len(layer_arch))\n"
   ]
  },
  {
   "cell_type": "markdown",
   "id": "f06b28f9",
   "metadata": {},
   "source": [
    "## Resultados da busca em grade"
   ]
  },
  {
   "cell_type": "markdown",
   "id": "6c73c443",
   "metadata": {},
   "source": [
    "**MLP**\n",
    "- Paciência: $25$ e $50$\n",
    "- batch_size: $16$ e $32$\n",
    "- $\\beta_1$: $1$, $0.9$, $0.8$ \n",
    "- $\\beta_2$: $0.999$, $0.95$, $0.9$\n",
    "- Épocas: $300$ e $500$\n",
    "- Função de ativação: relu, sigmoide"
   ]
  },
  {
   "cell_type": "markdown",
   "id": "568015de",
   "metadata": {},
   "source": [
    "### **Resultados utilizando 42 atributos preditores**"
   ]
  },
  {
   "cell_type": "code",
   "execution_count": 60,
   "id": "543c610e",
   "metadata": {},
   "outputs": [],
   "source": [
    "results = pd.read_csv('output/PCOS_45_attr.csv')\n",
    "results.sort_values(by='rank_test_score', inplace=True)"
   ]
  },
  {
   "cell_type": "code",
   "execution_count": 59,
   "id": "7b28549b",
   "metadata": {},
   "outputs": [
    {
     "data": {
      "text/plain": [
       "(\"{'activation': 'relu', 'batch_size': 32, 'beta_1': 0.9, 'beta_2': 0.9, 'hidden_layer_sizes': (5, 4), 'max_iter': 500, 'n_iter_no_change': 100, 'solver': 'adam', 'verbose': False}\",\n",
       " \"{'activation': 'relu', 'batch_size': 32, 'beta_1': 0.9, 'beta_2': 0.9, 'hidden_layer_sizes': (6, 3), 'max_iter': 500, 'n_iter_no_change': 100, 'solver': 'adam', 'verbose': False}\",\n",
       " \"{'activation': 'relu', 'batch_size': 32, 'beta_1': 0.95, 'beta_2': 0.95, 'hidden_layer_sizes': (2, 12), 'max_iter': 500, 'n_iter_no_change': 100, 'solver': 'adam', 'verbose': False}\")"
      ]
     },
     "execution_count": 59,
     "metadata": {},
     "output_type": "execute_result"
    }
   ],
   "source": [
    "results[\"params\"].iloc[0], results[\"params\"].iloc[1], results[\"params\"].iloc[2]"
   ]
  },
  {
   "cell_type": "code",
   "execution_count": 61,
   "id": "3472575d",
   "metadata": {},
   "outputs": [
    {
     "data": {
      "text/plain": [
       "MLPClassifier(batch_size=16, early_stopping=True, hidden_layer_sizes=(9, 11),\n",
       "              max_iter=300, n_iter_no_change=50)"
      ]
     },
     "execution_count": 61,
     "metadata": {},
     "output_type": "execute_result"
    }
   ],
   "source": [
    "mlp_1 = MLPClassifier(\n",
    "    verbose= False,\n",
    "    max_iter=300, \n",
    "    activation='relu', \n",
    "    hidden_layer_sizes=(9,11),\n",
    "    batch_size=16,\n",
    "    beta_1=0.9,\n",
    "    beta_2=0.999,\n",
    "    solver='adam',\n",
    "    early_stopping=True,\n",
    "    n_iter_no_change=50\n",
    ")\n",
    "mlp_1.fit(X_train_norm.values, y_train)"
   ]
  },
  {
   "cell_type": "code",
   "execution_count": 62,
   "id": "37557607",
   "metadata": {},
   "outputs": [
    {
     "data": {
      "text/plain": [
       "MLPClassifier(activation='logistic', batch_size=16, beta_1=0.8, beta_2=0.9,\n",
       "              early_stopping=True, hidden_layer_sizes=(7, 13), max_iter=300,\n",
       "              n_iter_no_change=25)"
      ]
     },
     "execution_count": 62,
     "metadata": {},
     "output_type": "execute_result"
    }
   ],
   "source": [
    "mlp_2 = MLPClassifier(\n",
    "    verbose= False,\n",
    "    max_iter=300, \n",
    "    activation='logistic', \n",
    "    hidden_layer_sizes=(7,13),\n",
    "    batch_size=16,\n",
    "    beta_1=0.8,\n",
    "    beta_2=0.9,\n",
    "    solver='adam',\n",
    "    early_stopping=True,\n",
    "    n_iter_no_change=25\n",
    ")\n",
    "mlp_2.fit(X_train_norm.values, y_train)"
   ]
  },
  {
   "cell_type": "code",
   "execution_count": 63,
   "id": "fc043b1c",
   "metadata": {},
   "outputs": [
    {
     "data": {
      "text/plain": [
       "MLPClassifier(activation='logistic', batch_size=16, beta_2=0.9,\n",
       "              early_stopping=True, hidden_layer_sizes=(5, 15), max_iter=500,\n",
       "              n_iter_no_change=25)"
      ]
     },
     "execution_count": 63,
     "metadata": {},
     "output_type": "execute_result"
    }
   ],
   "source": [
    "mlp_3 = MLPClassifier(\n",
    "    verbose= False,\n",
    "    max_iter=500, \n",
    "    activation='logistic', \n",
    "    hidden_layer_sizes=(5,15),\n",
    "    batch_size=16,\n",
    "    beta_1=0.9,\n",
    "    beta_2=0.9,\n",
    "    solver='adam',\n",
    "    early_stopping=True,\n",
    "    n_iter_no_change=25\n",
    ")\n",
    "mlp_3.fit(X_train_norm.values, y_train)"
   ]
  },
  {
   "cell_type": "markdown",
   "id": "79704f54",
   "metadata": {},
   "source": [
    "Resultados obtidos pelas três melhores MLPs utilizando os 43 atributos"
   ]
  },
  {
   "cell_type": "code",
   "execution_count": 64,
   "id": "c3470be2",
   "metadata": {},
   "outputs": [
    {
     "name": "stdout",
     "output_type": "stream",
     "text": [
      "ACURÁCIA: 0.6667\n",
      "PRECISÃO: 0.6667\n"
     ]
    },
    {
     "data": {
      "image/png": "[encoded data removed]",
      "text/plain": [
       "<Figure size 400x400 with 1 Axes>"
      ]
     },
     "metadata": {},
     "output_type": "display_data"
    }
   ],
   "source": [
    "y_pred = mlp_3.predict(X_test_norm.values)\n",
    "get_accuracy(y_test, y_pred)\n",
    "get_precision(y_test, y_pred)\n",
    "plot_confusion_matrix(y_test, y_pred)"
   ]
  },
  {
   "cell_type": "code",
   "execution_count": 23,
   "id": "7f3df99a",
   "metadata": {},
   "outputs": [
    {
     "name": "stdout",
     "output_type": "stream",
     "text": [
      "ACURÁCIA: 0.6296\n"
     ]
    },
    {
     "data": {
      "image/png": "[encoded data removed]",
      "text/plain": [
       "<Figure size 400x400 with 1 Axes>"
      ]
     },
     "metadata": {},
     "output_type": "display_data"
    }
   ],
   "source": [
    "y_pred = mlp_2.predict(X_test_norm.values)\n",
    "get_accuracy(y_test, y_pred)\n",
    "plot_confusion_matrix(y_test, y_pred)"
   ]
  },
  {
   "cell_type": "markdown",
   "id": "ba83a5ac",
   "metadata": {},
   "source": [
    "## Resultado da busca em grade com apenas 20 atributos"
   ]
  },
  {
   "cell_type": "code",
   "execution_count": 65,
   "id": "1012e01c",
   "metadata": {},
   "outputs": [
    {
     "data": {
      "text/html": [
       "<div>\n",
       "<style scoped>\n",
       "    .dataframe tbody tr th:only-of-type {\n",
       "        vertical-align: middle;\n",
       "    }\n",
       "\n",
       "    .dataframe tbody tr th {\n",
       "        vertical-align: top;\n",
       "    }\n",
       "\n",
       "    .dataframe thead th {\n",
       "        text-align: right;\n",
       "    }\n",
       "</style>\n",
       "<table border=\"1\" class=\"dataframe\">\n",
       "  <thead>\n",
       "    <tr style=\"text-align: right;\">\n",
       "      <th></th>\n",
       "      <th>Follicle No. (R)</th>\n",
       "      <th>Follicle No. (L)</th>\n",
       "      <th>Skin darkening (Y/N)</th>\n",
       "      <th>hair growth(Y/N)</th>\n",
       "      <th>Weight gain(Y/N)</th>\n",
       "      <th>Cycle(R/I)</th>\n",
       "      <th>Fast food (Y/N)</th>\n",
       "      <th>Pimples(Y/N)</th>\n",
       "      <th>AMH(ng/mL)</th>\n",
       "      <th>Weight (Kg)</th>\n",
       "      <th>BMI</th>\n",
       "      <th>Cycle length(days)</th>\n",
       "      <th>Hair loss(Y/N)</th>\n",
       "      <th>Age (yrs)</th>\n",
       "      <th>Waist(inch)</th>\n",
       "      <th>Hip(inch)</th>\n",
       "      <th>Avg. F size (L) (mm)</th>\n",
       "      <th>Marraige Status (Yrs)</th>\n",
       "      <th>Endometrium (mm)</th>\n",
       "      <th>Avg. F size (R) (mm)</th>\n",
       "    </tr>\n",
       "  </thead>\n",
       "  <tbody>\n",
       "    <tr>\n",
       "      <th>0</th>\n",
       "      <td>3</td>\n",
       "      <td>3</td>\n",
       "      <td>0</td>\n",
       "      <td>0</td>\n",
       "      <td>0</td>\n",
       "      <td>2</td>\n",
       "      <td>1.0</td>\n",
       "      <td>0</td>\n",
       "      <td>2.07</td>\n",
       "      <td>44.6</td>\n",
       "      <td>19.3</td>\n",
       "      <td>5</td>\n",
       "      <td>0</td>\n",
       "      <td>28</td>\n",
       "      <td>30</td>\n",
       "      <td>36</td>\n",
       "      <td>18.0</td>\n",
       "      <td>7.0</td>\n",
       "      <td>8.5</td>\n",
       "      <td>18.0</td>\n",
       "    </tr>\n",
       "    <tr>\n",
       "      <th>1</th>\n",
       "      <td>5</td>\n",
       "      <td>3</td>\n",
       "      <td>0</td>\n",
       "      <td>0</td>\n",
       "      <td>0</td>\n",
       "      <td>2</td>\n",
       "      <td>0.0</td>\n",
       "      <td>0</td>\n",
       "      <td>1.53</td>\n",
       "      <td>65.0</td>\n",
       "      <td>24.9</td>\n",
       "      <td>5</td>\n",
       "      <td>0</td>\n",
       "      <td>36</td>\n",
       "      <td>32</td>\n",
       "      <td>38</td>\n",
       "      <td>15.0</td>\n",
       "      <td>11.0</td>\n",
       "      <td>3.7</td>\n",
       "      <td>14.0</td>\n",
       "    </tr>\n",
       "  </tbody>\n",
       "</table>\n",
       "</div>"
      ],
      "text/plain": [
       "   Follicle No. (R)  Follicle No. (L)  Skin darkening (Y/N)  hair growth(Y/N)  \\\n",
       "0                 3                 3                     0                 0   \n",
       "1                 5                 3                     0                 0   \n",
       "\n",
       "   Weight gain(Y/N)  Cycle(R/I)  Fast food (Y/N)  Pimples(Y/N)  AMH(ng/mL)  \\\n",
       "0                 0           2              1.0             0        2.07   \n",
       "1                 0           2              0.0             0        1.53   \n",
       "\n",
       "   Weight (Kg)   BMI  Cycle length(days)  Hair loss(Y/N)   Age (yrs)  \\\n",
       "0         44.6  19.3                   5               0          28   \n",
       "1         65.0  24.9                   5               0          36   \n",
       "\n",
       "   Waist(inch)  Hip(inch)  Avg. F size (L) (mm)  Marraige Status (Yrs)  \\\n",
       "0           30         36                  18.0                    7.0   \n",
       "1           32         38                  15.0                   11.0   \n",
       "\n",
       "   Endometrium (mm)  Avg. F size (R) (mm)  \n",
       "0               8.5                  18.0  \n",
       "1               3.7                  14.0  "
      ]
     },
     "execution_count": 65,
     "metadata": {},
     "output_type": "execute_result"
    }
   ],
   "source": [
    "X_selected.head(2)"
   ]
  },
  {
   "cell_type": "code",
   "execution_count": 91,
   "id": "60060640",
   "metadata": {},
   "outputs": [
    {
     "name": "stderr",
     "output_type": "stream",
     "text": [
      "C:\\Users\\Callidus\\anaconda3\\lib\\site-packages\\numpy\\core\\fromnumeric.py:84: FutureWarning: In a future version, DataFrame.min(axis=None) will return a scalar min over the entire DataFrame. To retain the old behavior, use 'frame.min(axis=0)' or just 'frame.min()'\n",
      "  return reduction(axis=axis, out=out, **passkwargs)\n",
      "C:\\Users\\Callidus\\anaconda3\\lib\\site-packages\\numpy\\core\\fromnumeric.py:84: FutureWarning: In a future version, DataFrame.max(axis=None) will return a scalar max over the entire DataFrame. To retain the old behavior, use 'frame.max(axis=0)' or just 'frame.max()'\n",
      "  return reduction(axis=axis, out=out, **passkwargs)\n"
     ]
    }
   ],
   "source": [
    "X_train, X_test, y_train, y_test = train_test_split(X_selected, y, test_size=0.30)\n",
    "\n",
    "X_train_norm = (X_train - np.min(X_train))/(np.max(X_train) - np.min(X_train))\n",
    "\n",
    "X_test_norm = (X_test - np.min(X_train))/(np.max(X_train) - np.min(X_train))"
   ]
  },
  {
   "cell_type": "code",
   "execution_count": 92,
   "id": "6e3f34ef",
   "metadata": {},
   "outputs": [],
   "source": [
    "results = pd.read_csv('output/PCOS_20_relu.csv')\n",
    "results.sort_values(by='rank_test_score', inplace=True)"
   ]
  },
  {
   "cell_type": "code",
   "execution_count": 112,
   "id": "f91407b1",
   "metadata": {
    "scrolled": false
   },
   "outputs": [
    {
     "data": {
      "text/plain": [
       "\"{'activation': 'relu', 'batch_size': 32, 'beta_1': 0.9, 'beta_2': 0.9, 'hidden_layer_sizes': (5, 4), 'max_iter': 500, 'n_iter_no_change': 100, 'solver': 'adam', 'verbose': False}\""
      ]
     },
     "execution_count": 112,
     "metadata": {},
     "output_type": "execute_result"
    }
   ],
   "source": [
    "results[\"params\"].iloc[0]"
   ]
  },
  {
   "cell_type": "code",
   "execution_count": 113,
   "id": "35a324dd",
   "metadata": {},
   "outputs": [
    {
     "data": {
      "text/plain": [
       "MLPClassifier(batch_size=32, beta_2=0.9, early_stopping=True,\n",
       "              hidden_layer_sizes=(5, 4), max_iter=500, n_iter_no_change=100)"
      ]
     },
     "execution_count": 113,
     "metadata": {},
     "output_type": "execute_result"
    }
   ],
   "source": [
    "mlp_1_20 = MLPClassifier(\n",
    "    activation='relu', \n",
    "    batch_size=32,\n",
    "    beta_1=0.9,\n",
    "    beta_2=0.9,\n",
    "    hidden_layer_sizes=(5,4),\n",
    "    max_iter=500,\n",
    "    n_iter_no_change=100,\n",
    "    solver='adam',\n",
    "    early_stopping=True,\n",
    "    verbose= False,\n",
    "     \n",
    ")\n",
    "mlp_1_20.fit(X_train_norm.values, y_train)"
   ]
  },
  {
   "cell_type": "code",
   "execution_count": 115,
   "id": "9a219b69",
   "metadata": {},
   "outputs": [
    {
     "name": "stdout",
     "output_type": "stream",
     "text": [
      "ACURÁCIA: 0.8704\n"
     ]
    },
    {
     "data": {
      "image/png": "[encoded data removed]",
      "text/plain": [
       "<Figure size 400x400 with 1 Axes>"
      ]
     },
     "metadata": {},
     "output_type": "display_data"
    }
   ],
   "source": [
    "y_pred = mlp_1_20.predict(X_test_norm.values)\n",
    "get_accuracy(y_test, y_pred)\n",
    "plot_confusion_matrix(y_test, y_pred)"
   ]
  },
  {
   "cell_type": "code",
   "execution_count": 82,
   "id": "a41cdd1d",
   "metadata": {},
   "outputs": [
    {
     "data": {
      "text/plain": [
       "\"{'activation': 'relu', 'batch_size': 32, 'beta_1': 0.9, 'beta_2': 0.9, 'hidden_layer_sizes': (6, 3), 'max_iter': 500, 'n_iter_no_change': 100, 'solver': 'adam', 'verbose': False}\""
      ]
     },
     "execution_count": 82,
     "metadata": {},
     "output_type": "execute_result"
    }
   ],
   "source": [
    "results[\"params\"].iloc[1]"
   ]
  },
  {
   "cell_type": "code",
   "execution_count": 85,
   "id": "2af65d6e",
   "metadata": {},
   "outputs": [
    {
     "name": "stdout",
     "output_type": "stream",
     "text": [
      "ACURÁCIA: 0.7963\n",
      "PRECISÃO: 0.7963\n"
     ]
    },
    {
     "data": {
      "image/png": "[encoded data removed]",
      "text/plain": [
       "<Figure size 400x400 with 1 Axes>"
      ]
     },
     "metadata": {},
     "output_type": "display_data"
    }
   ],
   "source": [
    "mlp_2_20 = MLPClassifier(\n",
    "    activation='relu', \n",
    "    batch_size=32,\n",
    "    beta_1=0.9,\n",
    "    beta_2=0.9,\n",
    "    hidden_layer_sizes=(6,3),\n",
    "    max_iter=500,\n",
    "    n_iter_no_change=100,\n",
    "    solver='adam',\n",
    "    early_stopping=True,\n",
    "    verbose= False,\n",
    "     \n",
    ")\n",
    "mlp_2_20.fit(X_train.values, y_train)\n",
    "\n",
    "y_pred = mlp_2_20.predict(X_test.values)\n",
    "get_accuracy(y_test, y_pred)\n",
    "get_precision(y_test, y_pred)\n",
    "plot_confusion_matrix(y_test, y_pred)"
   ]
  },
  {
   "cell_type": "code",
   "execution_count": 86,
   "id": "fdb626f1",
   "metadata": {},
   "outputs": [
    {
     "data": {
      "text/plain": [
       "\"{'activation': 'relu', 'batch_size': 32, 'beta_1': 0.95, 'beta_2': 0.95, 'hidden_layer_sizes': (2, 12), 'max_iter': 500, 'n_iter_no_change': 100, 'solver': 'adam', 'verbose': False}\""
      ]
     },
     "execution_count": 86,
     "metadata": {},
     "output_type": "execute_result"
    }
   ],
   "source": [
    "results[\"params\"].iloc[2]"
   ]
  },
  {
   "cell_type": "code",
   "execution_count": 90,
   "id": "9c0948fe",
   "metadata": {},
   "outputs": [
    {
     "name": "stdout",
     "output_type": "stream",
     "text": [
      "ACURÁCIA: 0.6481\n",
      "PRECISÃO: 0.6481\n"
     ]
    },
    {
     "data": {
      "image/png": "[encoded data removed]",
      "text/plain": [
       "<Figure size 400x400 with 1 Axes>"
      ]
     },
     "metadata": {},
     "output_type": "display_data"
    }
   ],
   "source": [
    "mlp_3_20 = MLPClassifier(\n",
    "    activation='relu', \n",
    "    batch_size=32,\n",
    "    beta_1=0.95,\n",
    "    beta_2=0.95,\n",
    "    hidden_layer_sizes=(2,12),\n",
    "    max_iter=500,\n",
    "    n_iter_no_change=100,\n",
    "    solver='adam',\n",
    "    early_stopping=True,\n",
    "    verbose= False,\n",
    "     \n",
    ")\n",
    "mlp_3_20.fit(X_train.values, y_train)\n",
    "\n",
    "y_pred = mlp_3_20.predict(X_test.values)\n",
    "get_accuracy(y_test, y_pred)\n",
    "get_precision(y_test, y_pred)\n",
    "plot_confusion_matrix(y_test, y_pred)"
   ]
  },
  {
   "cell_type": "code",
   "execution_count": 89,
   "id": "2258d2fe",
   "metadata": {},
   "outputs": [
    {
     "data": {
      "text/plain": [
       "(57, 105, 162)"
      ]
     },
     "execution_count": 89,
     "metadata": {},
     "output_type": "execute_result"
    }
   ],
   "source": [
    "(y_test == 1).sum(), (y_test == 0).sum(), len(y_test)"
   ]
  },
  {
   "cell_type": "markdown",
   "id": "9183cce4",
   "metadata": {},
   "source": [
    "## Algoritmo XGBoost"
   ]
  },
  {
   "cell_type": "code",
   "execution_count": 31,
   "id": "5437c171",
   "metadata": {},
   "outputs": [
    {
     "name": "stdout",
     "output_type": "stream",
     "text": [
      "0.9135802469135802\n",
      "=-=-=-=-=-=-=\n",
      "0.9197530864197531\n"
     ]
    }
   ],
   "source": [
    "clf = GradientBoostingClassifier(\n",
    "    max_depth=2,\n",
    "    n_estimators=120,\n",
    "    random_state=0).fit(X_train_norm, y_train)\n",
    "\n",
    "print(clf.score(X_test_norm, y_test))\n",
    "\n",
    "print(\"=-=-=-=-=-=-=\")\n",
    "\n",
    "errors = [mean_squared_error(y_test, y_pred)\n",
    "          for y_pred in clf.staged_predict(X_test_norm)]\n",
    "\n",
    "best_n_estimator = np.argmin(errors) + 1\n",
    "\n",
    "clf_best =  GradientBoostingClassifier(\n",
    "    max_depth=2,\n",
    "    n_estimators=best_n_estimator,\n",
    "    random_state=0).fit(X_train_norm, y_train)\n",
    "\n",
    "print(clf_best.score(X_test_norm, y_test))\n",
    "\n",
    "y_pred = clf.predict(X_test_norm)"
   ]
  },
  {
   "cell_type": "code",
   "execution_count": 32,
   "id": "db742a2d",
   "metadata": {},
   "outputs": [
    {
     "name": "stdout",
     "output_type": "stream",
     "text": [
      "ACURÁCIA: 0.9136\n",
      "F-SCORE: 0.9136\n"
     ]
    },
    {
     "data": {
      "image/png": "[encoded data removed]",
      "text/plain": [
       "<Figure size 400x400 with 1 Axes>"
      ]
     },
     "metadata": {},
     "output_type": "display_data"
    }
   ],
   "source": [
    "get_accuracy(y_test, y_pred)\n",
    "f_score(y_test, y_pred)\n",
    "plot_confusion_matrix(y_test, y_pred)"
   ]
  },
  {
   "cell_type": "markdown",
   "id": "c04f25ab",
   "metadata": {},
   "source": [
    "### Utilizando a biblioteca xgboost"
   ]
  },
  {
   "cell_type": "code",
   "execution_count": 33,
   "id": "ec0c5c95",
   "metadata": {},
   "outputs": [],
   "source": [
    "clf_xgb = xgb.XGBClassifier()"
   ]
  },
  {
   "cell_type": "code",
   "execution_count": 34,
   "id": "a1cffb1e",
   "metadata": {},
   "outputs": [
    {
     "data": {
      "text/plain": [
       "0.8696140350877194"
      ]
     },
     "execution_count": 34,
     "metadata": {},
     "output_type": "execute_result"
    }
   ],
   "source": [
    "xgb_results = cross_val_score(clf_xgb, X_train_norm.values, y_train, cv=5)\n",
    "xgb_results.mean()"
   ]
  },
  {
   "cell_type": "code",
   "execution_count": 35,
   "id": "f90c1fde",
   "metadata": {},
   "outputs": [
    {
     "data": {
      "text/plain": [
       "0.8749473684210527"
      ]
     },
     "execution_count": 35,
     "metadata": {},
     "output_type": "execute_result"
    }
   ],
   "source": [
    "clf_xgb_modified = xgb.XGBClassifier(max_depth=2)\n",
    "cross_val_score(clf_xgb_modified, X_train_norm.values, y_train).mean()"
   ]
  },
  {
   "cell_type": "code",
   "execution_count": 36,
   "id": "7da501c5",
   "metadata": {},
   "outputs": [
    {
     "data": {
      "text/plain": [
       "0.6178245614035088"
      ]
     },
     "execution_count": 36,
     "metadata": {},
     "output_type": "execute_result"
    }
   ],
   "source": [
    "class_xgb = xgb.XGBClassifier(booster='gblinear')\n",
    "cross_val_score(class_xgb, X_train_norm.values, y_train).mean()"
   ]
  },
  {
   "cell_type": "code",
   "execution_count": 37,
   "id": "7c255c61",
   "metadata": {},
   "outputs": [
    {
     "data": {
      "text/plain": [
       "XGBClassifier(base_score=None, booster='gblinear', callbacks=None,\n",
       "              colsample_bylevel=None, colsample_bynode=None,\n",
       "              colsample_bytree=None, early_stopping_rounds=None,\n",
       "              enable_categorical=False, eval_metric=None, feature_types=None,\n",
       "              gamma=None, gpu_id=None, grow_policy=None, importance_type=None,\n",
       "              interaction_constraints=None, learning_rate=None, max_bin=None,\n",
       "              max_cat_threshold=None, max_cat_to_onehot=None,\n",
       "              max_delta_step=None, max_depth=None, max_leaves=None,\n",
       "              min_child_weight=None, missing=nan, monotone_constraints=None,\n",
       "              n_estimators=100, n_jobs=None, num_parallel_tree=None,\n",
       "              predictor=None, random_state=None, ...)"
      ]
     },
     "execution_count": 37,
     "metadata": {},
     "output_type": "execute_result"
    }
   ],
   "source": [
    "class_xgb.fit(X_train_norm.values, y_train)"
   ]
  },
  {
   "cell_type": "code",
   "execution_count": 38,
   "id": "ddd8a111",
   "metadata": {},
   "outputs": [],
   "source": [
    "y_xgb_pred = class_xgb.predict(X_test_norm)"
   ]
  },
  {
   "cell_type": "code",
   "execution_count": 39,
   "id": "2f2a1be1",
   "metadata": {},
   "outputs": [
    {
     "name": "stdout",
     "output_type": "stream",
     "text": [
      "ACURÁCIA: 0.3704\n"
     ]
    },
    {
     "data": {
      "image/png": "[encoded data removed]",
      "text/plain": [
       "<Figure size 400x400 with 1 Axes>"
      ]
     },
     "metadata": {},
     "output_type": "display_data"
    }
   ],
   "source": [
    "get_accuracy(y_test, y_xgb_pred)\n",
    "plot_confusion_matrix(y_test, y_xgb_pred)"
   ]
  },
  {
   "cell_type": "code",
   "execution_count": 40,
   "id": "27500b53",
   "metadata": {},
   "outputs": [
    {
     "data": {
      "text/plain": [
       "(60, 102, 162)"
      ]
     },
     "execution_count": 40,
     "metadata": {},
     "output_type": "execute_result"
    }
   ],
   "source": [
    "(y_test == 1).sum(), (y_test == 0).sum(), len(y_test)"
   ]
  },
  {
   "cell_type": "markdown",
   "id": "e9fc0072",
   "metadata": {},
   "source": [
    "## Validação Cruzada"
   ]
  },
  {
   "cell_type": "code",
   "execution_count": 41,
   "id": "e1ed7c04",
   "metadata": {},
   "outputs": [
    {
     "name": "stdout",
     "output_type": "stream",
     "text": [
      "Acurácia XGBoost: 0.8941 (+/- 0.08)\n",
      "Acurácia MLP: 0.8811 (+/- 0.10)\n"
     ]
    }
   ],
   "source": [
    "kf = KFold(n_splits=10, shuffle=True, random_state=42)\n",
    "\n",
    "scores = cross_val_score(clf, X, y, cv=kf, scoring='accuracy')\n",
    "scores_mlp = cross_val_score(mlp_3_20, X_selected.values, y, cv=kf, scoring='accuracy')\n",
    "\n",
    "print(\"Acurácia XGBoost: %0.4f (+/- %0.2f)\" % (scores.mean(), scores.std() * 2))\n",
    "print(\"Acurácia MLP: %0.4f (+/- %0.2f)\" % (scores_mlp.mean(), scores_mlp.std() * 2))"
   ]
  }
 ],
 "metadata": {
  "kernelspec": {
   "display_name": "Python 3 (ipykernel)",
   "language": "python",
   "name": "python3"
  },
  "language_info": {
   "codemirror_mode": {
    "name": "ipython",
    "version": 3
   },
   "file_extension": ".py",
   "mimetype": "text/x-python",
   "name": "python",
   "nbconvert_exporter": "python",
   "pygments_lexer": "ipython3",
   "version": "3.9.13"
  }
 },
 "nbformat": 4,
 "nbformat_minor": 5
}
